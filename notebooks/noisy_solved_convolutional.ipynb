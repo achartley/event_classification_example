{
 "cells": [
  {
   "cell_type": "markdown",
   "metadata": {},
   "source": [
    "# Classifying simulated events using a Convolutional Neural Network\n",
    "We've seen how we can use logistig regression or feed forward neural networks (FFNN) to classify our data,\n",
    "and now you've also been introduced to what a convolutional neural network is.\n",
    "In this notebook, we're going to use a convolutional neural network (CNN) to classify our data,\n",
    "and even combine CNN and FFNN to expand our model."
   ]
  },
  {
   "cell_type": "code",
   "execution_count": 1,
   "metadata": {},
   "outputs": [],
   "source": [
    "# Imports\n",
    "import numpy as np\n",
    "import matplotlib.pyplot as plt\n",
    "import seaborn as sns\n",
    "import tensorflow as tf\n",
    "from sklearn.model_selection import train_test_split\n",
    "from helper_functions import normalize_image_data\n",
    "%load_ext autoreload\n",
    "%autoreload 2"
   ]
  },
  {
   "cell_type": "code",
   "execution_count": 2,
   "metadata": {},
   "outputs": [],
   "source": [
    "# Load images and labels.\n",
    "DATA_PATH = \"../data/\"\n",
    "\n",
    "images = np.load(DATA_PATH+\"nimages_training.npy\")\n",
    "labels = np.load(DATA_PATH+\"labels_training.npy\")"
   ]
  },
  {
   "cell_type": "markdown",
   "metadata": {},
   "source": [
    "# Introduction\n",
    "The motivation for uing a CNN to classify this data comes from their huge success in image classification\n",
    "tasks in recent years. Since we can very easily (and even preferably) represent our data as images, it\n",
    "is a natural choice to try a model of this type.\n",
    "This notebook will be a bit more hands-on than the previous ones.\n",
    "\n",
    "You may recall from the lectures that one of the properties of CNNs is that they use 'filters'/'kernels' to\n",
    "extract 'features' from images. But how can we know what type of filters to apply? The answer is - we don't need to! Similar to how a FFNN adjusts its weights in order to increase performance, a CNN adjusts its filters and in that way 'learns' the best filters for a given task.\n",
    "\n",
    "Some very useful documentation to keep at hand while working through this notebook:\n",
    "* [tensorflow.keras.layers](https://www.tensorflow.org/api_docs/python/tf/keras/layers)\n",
    "* [Scikit-Learn model evaluation](https://scikit-learn.org/stable/modules/model_evaluation.html)\n"
   ]
  },
  {
   "cell_type": "markdown",
   "metadata": {},
   "source": [
    "## Data preparation\n",
    "Recall that when we saved our training samples in the import and exploration notebook,\n",
    "we saved the images as an array with the following dimensions (samples, x_pixels, y_pixels).\n",
    "This isn't necessarily a format the convolutional layer will accept, because by default image data\n",
    "has one more dimension - \"channels\". A single image would have the dimensions (x_pixels, y_pixels, channels).\n",
    "For a regular RGB picture this is (x_pixels, y_pixels, 3), since you have one channel for each color.\n",
    "Our data only has one channel, which in a world of colours would be called \"grayscale\".\n",
    "\n",
    "The convolutional layer we will use in our model is called Conv2D ([Doc](https://www.tensorflow.org/api_docs/python/tf/keras/layers/Conv2D)). Take a look at the documentation to determine if you need to modify the image array in order to input it to the layer.\n",
    "\n",
    "Recall that you can use [np.reshape](https://numpy.org/doc/stable/reference/generated/numpy.reshape.html) to modify your array should you need to."
   ]
  },
  {
   "cell_type": "code",
   "execution_count": 3,
   "metadata": {},
   "outputs": [],
   "source": [
    "# Reshape the image array here, if you need to\n",
    "images = np.reshape(images, (images.shape[0], 16, 16, 1))\n"
   ]
  },
  {
   "cell_type": "markdown",
   "metadata": {},
   "source": [
    "One thing that can be useful to check is if we actually saved a balanced dataset. The data is shuffled\n",
    "when scikit-learn's train_test_split function splits it, so it's not guaranteed. Remember that if you\n",
    "don't have a balanced dataset, you need to account for this when concidering which metrics to use\n",
    "in evaluating your model.\n",
    "\n",
    "Numpy's [np.unique](https://numpy.org/doc/1.18/reference/generated/numpy.unique.html?) works great for this."
   ]
  },
  {
   "cell_type": "code",
   "execution_count": 4,
   "metadata": {},
   "outputs": [
    {
     "name": "stdout",
     "output_type": "stream",
     "text": [
      "(array([0, 1]), array([4051, 3949], dtype=int64))\n"
     ]
    }
   ],
   "source": [
    "# Count how many there are of each class and print the results\n",
    "unique = np.unique(labels, return_counts=True)\n",
    "print(unique)\n"
   ]
  },
  {
   "cell_type": "markdown",
   "metadata": {},
   "source": [
    "Lastly, we split the training data into a training set and a validation set, using indices.\n",
    "Working with only 10000 you can also split the image array itself.\n",
    "As in the previous notebooks, [Scikit-Learn's train_test_split](https://scikit-learn.org/stable/modules/generated/sklearn.model_selection.train_test_split.html) will do the job."
   ]
  },
  {
   "cell_type": "code",
   "execution_count": 5,
   "metadata": {},
   "outputs": [],
   "source": [
    "# Split the data into training and validation sets\n",
    "x_train, x_test, y_train, y_test = train_test_split(images, labels)\n"
   ]
  },
  {
   "cell_type": "markdown",
   "metadata": {},
   "source": [
    "# Model\n",
    "Having a common API for machine learning operations between multiple frameworks is great.\n",
    "It means you don't need to re-learn how to build a model every time you want to try out something new!\n",
    "Using the [Sequential](https://www.tensorflow.org/api_docs/python/tf/keras/Sequential) model, you simply\n",
    "add each layer in the order you want, and compile it. Tensorflow takes care of everything."
   ]
  },
  {
   "cell_type": "markdown",
   "metadata": {},
   "source": [
    "## Build and compile\n",
    "We're going to start with just one layer. Take another look at the [documentation](https://www.tensorflow.org/api_docs/python/tf/keras/layers/Conv2D) to see all the configuration options for the Conv2D layer. As a first step we will stick to defining only the necessary arguments to the layer,\n",
    "leaving the rest as default."
   ]
  },
  {
   "cell_type": "code",
   "execution_count": 6,
   "metadata": {
    "scrolled": true
   },
   "outputs": [
    {
     "name": "stdout",
     "output_type": "stream",
     "text": [
      "Model: \"sequential\"\n",
      "_________________________________________________________________\n",
      "Layer (type)                 Output Shape              Param #   \n",
      "=================================================================\n",
      "conv2d (Conv2D)              (None, 14, 14, 32)        320       \n",
      "_________________________________________________________________\n",
      "max_pooling2d (MaxPooling2D) (None, 7, 7, 32)          0         \n",
      "_________________________________________________________________\n",
      "conv2d_1 (Conv2D)            (None, 5, 5, 32)          9248      \n",
      "_________________________________________________________________\n",
      "flatten (Flatten)            (None, 800)               0         \n",
      "_________________________________________________________________\n",
      "dense (Dense)                (None, 1)                 801       \n",
      "=================================================================\n",
      "Total params: 10,369\n",
      "Trainable params: 10,369\n",
      "Non-trainable params: 0\n",
      "_________________________________________________________________\n"
     ]
    }
   ],
   "source": [
    "# Initialize the Sequential model, and add one Conv2D layer to it\n",
    "model = tf.keras.Sequential()\n",
    "model.add(tf.keras.layers.Conv2D(\n",
    "        filters=32,\n",
    "        kernel_size=3,\n",
    "        activation='relu',\n",
    "        input_shape=images.shape[1:] # Shape of a single image\n",
    "    )\n",
    ")\n",
    "model.add(tf.keras.layers.MaxPool2D(2,2))\n",
    "model.add(tf.keras.layers.Conv2D(32, 3, activation='relu'))\n",
    "\n",
    "\n",
    "# Add an output layer to the model\n",
    "# Recall the shape of the input to a dense neural network.\n",
    "# What is the shape of the output from the Conv2D layer?\n",
    "model.add(tf.keras.layers.Flatten())\n",
    "model.add(tf.keras.layers.Dense(1, activation='sigmoid'))\n",
    "\n",
    "\n",
    "# Once the model is defined, we need to compile it. \n",
    "# This is where we specify the loss function, optimizer, and metrics if we want.\n",
    "model.compile(\n",
    "    optimizer='adam',\n",
    "    loss='binary_crossentropy',\n",
    "    metrics=['accuracy']\n",
    ")\n",
    "model.summary()"
   ]
  },
  {
   "cell_type": "markdown",
   "metadata": {},
   "source": [
    "## Training\n",
    "We are ready to train the model. Remember to normalize your inputs if you haven't already done that!\n",
    "You can specify the validation data using the keyword 'validation_data'. Take a look at the [documentation](https://www.tensorflow.org/api_docs/python/tf/keras/Sequential#fit) for the fit() function to see how it\n",
    "expect the validation to be formatted."
   ]
  },
  {
   "cell_type": "code",
   "execution_count": 7,
   "metadata": {},
   "outputs": [],
   "source": [
    "# Training parameters\n",
    "batch_size = 32\n",
    "epochs = 100"
   ]
  },
  {
   "cell_type": "code",
   "execution_count": 8,
   "metadata": {},
   "outputs": [
    {
     "name": "stdout",
     "output_type": "stream",
     "text": [
      "Epoch 1/100\n",
      "188/188 [==============================] - 2s 9ms/step - loss: 0.6484 - accuracy: 0.6088 - val_loss: 0.5796 - val_accuracy: 0.6965\n",
      "Epoch 2/100\n",
      "188/188 [==============================] - 1s 7ms/step - loss: 0.5469 - accuracy: 0.7203 - val_loss: 0.5283 - val_accuracy: 0.7150\n",
      "Epoch 3/100\n",
      "188/188 [==============================] - 1s 7ms/step - loss: 0.5066 - accuracy: 0.7463 - val_loss: 0.4931 - val_accuracy: 0.7765\n",
      "Epoch 4/100\n",
      "188/188 [==============================] - 2s 8ms/step - loss: 0.4668 - accuracy: 0.7745 - val_loss: 0.4652 - val_accuracy: 0.7495\n",
      "Epoch 5/100\n",
      "188/188 [==============================] - 2s 8ms/step - loss: 0.4437 - accuracy: 0.7920 - val_loss: 0.4529 - val_accuracy: 0.8240\n",
      "Epoch 6/100\n",
      "188/188 [==============================] - 1s 7ms/step - loss: 0.4244 - accuracy: 0.8067 - val_loss: 0.4247 - val_accuracy: 0.8220\n",
      "Epoch 7/100\n",
      "188/188 [==============================] - 1s 7ms/step - loss: 0.4106 - accuracy: 0.8108 - val_loss: 0.4170 - val_accuracy: 0.8200\n",
      "Epoch 8/100\n",
      "188/188 [==============================] - 1s 8ms/step - loss: 0.4009 - accuracy: 0.8190 - val_loss: 0.4238 - val_accuracy: 0.7735\n",
      "Epoch 9/100\n",
      "188/188 [==============================] - 1s 7ms/step - loss: 0.3836 - accuracy: 0.8332 - val_loss: 0.4079 - val_accuracy: 0.7890\n",
      "Epoch 10/100\n",
      "188/188 [==============================] - 2s 8ms/step - loss: 0.3777 - accuracy: 0.8352 - val_loss: 0.3968 - val_accuracy: 0.8415\n",
      "Epoch 11/100\n",
      "188/188 [==============================] - 1s 8ms/step - loss: 0.3748 - accuracy: 0.8348 - val_loss: 0.3766 - val_accuracy: 0.8555\n",
      "Epoch 12/100\n",
      "188/188 [==============================] - 1s 7ms/step - loss: 0.3619 - accuracy: 0.8442 - val_loss: 0.4006 - val_accuracy: 0.7920\n",
      "Epoch 13/100\n",
      "188/188 [==============================] - 1s 7ms/step - loss: 0.3579 - accuracy: 0.8472 - val_loss: 0.3726 - val_accuracy: 0.8535\n",
      "Epoch 14/100\n",
      "188/188 [==============================] - 1s 7ms/step - loss: 0.3466 - accuracy: 0.8587 - val_loss: 0.3872 - val_accuracy: 0.8515\n",
      "Epoch 15/100\n",
      "188/188 [==============================] - 1s 7ms/step - loss: 0.3443 - accuracy: 0.8565 - val_loss: 0.3623 - val_accuracy: 0.8535\n",
      "Epoch 16/100\n",
      "188/188 [==============================] - 1s 8ms/step - loss: 0.3373 - accuracy: 0.8593 - val_loss: 0.3620 - val_accuracy: 0.8445\n",
      "Epoch 17/100\n",
      "188/188 [==============================] - 1s 7ms/step - loss: 0.3412 - accuracy: 0.8555 - val_loss: 0.3620 - val_accuracy: 0.8620\n",
      "Epoch 18/100\n",
      "188/188 [==============================] - 1s 7ms/step - loss: 0.3345 - accuracy: 0.8597 - val_loss: 0.3731 - val_accuracy: 0.8655\n",
      "Epoch 19/100\n",
      "188/188 [==============================] - 1s 8ms/step - loss: 0.3318 - accuracy: 0.8627 - val_loss: 0.3458 - val_accuracy: 0.8665\n",
      "Epoch 20/100\n",
      "188/188 [==============================] - 1s 7ms/step - loss: 0.3246 - accuracy: 0.8668 - val_loss: 0.3409 - val_accuracy: 0.8770\n",
      "Epoch 21/100\n",
      "188/188 [==============================] - 1s 7ms/step - loss: 0.3158 - accuracy: 0.8702 - val_loss: 0.3823 - val_accuracy: 0.8025\n",
      "Epoch 22/100\n",
      "188/188 [==============================] - 1s 8ms/step - loss: 0.3208 - accuracy: 0.8670 - val_loss: 0.3352 - val_accuracy: 0.8725\n",
      "Epoch 23/100\n",
      "188/188 [==============================] - 1s 7ms/step - loss: 0.3148 - accuracy: 0.8680 - val_loss: 0.3327 - val_accuracy: 0.8730\n",
      "Epoch 24/100\n",
      "188/188 [==============================] - 1s 7ms/step - loss: 0.3075 - accuracy: 0.8713 - val_loss: 0.3336 - val_accuracy: 0.8765\n",
      "Epoch 25/100\n",
      "188/188 [==============================] - 1s 7ms/step - loss: 0.3115 - accuracy: 0.8680 - val_loss: 0.3347 - val_accuracy: 0.8660\n",
      "Epoch 26/100\n",
      "188/188 [==============================] - 1s 7ms/step - loss: 0.3098 - accuracy: 0.8690 - val_loss: 0.3382 - val_accuracy: 0.8800\n",
      "Epoch 27/100\n",
      "188/188 [==============================] - 1s 7ms/step - loss: 0.3052 - accuracy: 0.8735 - val_loss: 0.3339 - val_accuracy: 0.8640\n",
      "Epoch 28/100\n",
      "188/188 [==============================] - 1s 7ms/step - loss: 0.3017 - accuracy: 0.8732 - val_loss: 0.3380 - val_accuracy: 0.8735\n",
      "Epoch 29/100\n",
      "188/188 [==============================] - 1s 8ms/step - loss: 0.2972 - accuracy: 0.8778 - val_loss: 0.3272 - val_accuracy: 0.8850\n",
      "Epoch 30/100\n",
      "188/188 [==============================] - 1s 7ms/step - loss: 0.2950 - accuracy: 0.8772 - val_loss: 0.3245 - val_accuracy: 0.8665\n",
      "Epoch 31/100\n",
      "188/188 [==============================] - 1s 7ms/step - loss: 0.3019 - accuracy: 0.8733 - val_loss: 0.3423 - val_accuracy: 0.8770\n",
      "Epoch 32/100\n",
      "188/188 [==============================] - 2s 9ms/step - loss: 0.2998 - accuracy: 0.8793 - val_loss: 0.3526 - val_accuracy: 0.8700\n",
      "Epoch 33/100\n",
      "188/188 [==============================] - 1s 8ms/step - loss: 0.2991 - accuracy: 0.8735 - val_loss: 0.3386 - val_accuracy: 0.8530\n",
      "Epoch 34/100\n",
      "188/188 [==============================] - 1s 8ms/step - loss: 0.2954 - accuracy: 0.8758 - val_loss: 0.3315 - val_accuracy: 0.8650\n",
      "Epoch 35/100\n",
      "188/188 [==============================] - 1s 7ms/step - loss: 0.2899 - accuracy: 0.8812 - val_loss: 0.3124 - val_accuracy: 0.8875\n",
      "Epoch 36/100\n",
      "188/188 [==============================] - 2s 8ms/step - loss: 0.2884 - accuracy: 0.8820 - val_loss: 0.3538 - val_accuracy: 0.8710\n",
      "Epoch 37/100\n",
      "188/188 [==============================] - 1s 7ms/step - loss: 0.2895 - accuracy: 0.8787 - val_loss: 0.3111 - val_accuracy: 0.8920\n",
      "Epoch 38/100\n",
      "188/188 [==============================] - 1s 7ms/step - loss: 0.2901 - accuracy: 0.8763 - val_loss: 0.3441 - val_accuracy: 0.8760\n",
      "Epoch 39/100\n",
      "188/188 [==============================] - 1s 7ms/step - loss: 0.2951 - accuracy: 0.8762 - val_loss: 0.3752 - val_accuracy: 0.8600\n",
      "Epoch 40/100\n",
      "188/188 [==============================] - 1s 8ms/step - loss: 0.2869 - accuracy: 0.8815 - val_loss: 0.3945 - val_accuracy: 0.8545\n",
      "Epoch 41/100\n",
      "188/188 [==============================] - 1s 7ms/step - loss: 0.2837 - accuracy: 0.8845 - val_loss: 0.3361 - val_accuracy: 0.8805\n",
      "Epoch 42/100\n",
      "188/188 [==============================] - ETA: 0s - loss: 0.2824 - accuracy: 0.88 - 1s 7ms/step - loss: 0.2835 - accuracy: 0.8837 - val_loss: 0.3053 - val_accuracy: 0.8940\n",
      "Epoch 43/100\n",
      "188/188 [==============================] - 2s 9ms/step - loss: 0.2847 - accuracy: 0.8785 - val_loss: 0.3057 - val_accuracy: 0.8895\n",
      "Epoch 44/100\n",
      "188/188 [==============================] - 2s 8ms/step - loss: 0.2773 - accuracy: 0.8867 - val_loss: 0.3063 - val_accuracy: 0.8925\n",
      "Epoch 45/100\n",
      "188/188 [==============================] - 2s 9ms/step - loss: 0.2814 - accuracy: 0.8853 - val_loss: 0.3011 - val_accuracy: 0.8950\n",
      "Epoch 46/100\n",
      "188/188 [==============================] - 2s 8ms/step - loss: 0.2722 - accuracy: 0.8882 - val_loss: 0.3137 - val_accuracy: 0.8890\n",
      "Epoch 47/100\n",
      "188/188 [==============================] - 1s 7ms/step - loss: 0.2728 - accuracy: 0.8867 - val_loss: 0.3268 - val_accuracy: 0.8640\n",
      "Epoch 48/100\n",
      "188/188 [==============================] - 1s 7ms/step - loss: 0.2825 - accuracy: 0.8840 - val_loss: 0.3083 - val_accuracy: 0.8890\n",
      "Epoch 49/100\n",
      "188/188 [==============================] - 1s 7ms/step - loss: 0.2793 - accuracy: 0.8880 - val_loss: 0.3045 - val_accuracy: 0.8890\n",
      "Epoch 50/100\n",
      "188/188 [==============================] - 1s 8ms/step - loss: 0.2700 - accuracy: 0.8905 - val_loss: 0.3091 - val_accuracy: 0.8980\n",
      "Epoch 51/100\n",
      "188/188 [==============================] - 2s 8ms/step - loss: 0.2734 - accuracy: 0.8877 - val_loss: 0.3015 - val_accuracy: 0.8965\n",
      "Epoch 52/100\n",
      "188/188 [==============================] - 1s 8ms/step - loss: 0.2686 - accuracy: 0.8903 - val_loss: 0.3047 - val_accuracy: 0.8905\n",
      "Epoch 53/100\n",
      "188/188 [==============================] - 2s 9ms/step - loss: 0.2726 - accuracy: 0.8900 - val_loss: 0.3075 - val_accuracy: 0.8735\n",
      "Epoch 54/100\n",
      "188/188 [==============================] - 1s 7ms/step - loss: 0.2768 - accuracy: 0.8830 - val_loss: 0.2970 - val_accuracy: 0.8980\n",
      "Epoch 55/100\n",
      "188/188 [==============================] - 1s 8ms/step - loss: 0.2679 - accuracy: 0.8932 - val_loss: 0.3180 - val_accuracy: 0.8930\n",
      "Epoch 56/100\n",
      "188/188 [==============================] - 1s 8ms/step - loss: 0.2671 - accuracy: 0.8925 - val_loss: 0.3128 - val_accuracy: 0.8955\n",
      "Epoch 57/100\n"
     ]
    },
    {
     "name": "stdout",
     "output_type": "stream",
     "text": [
      "188/188 [==============================] - 1s 7ms/step - loss: 0.2710 - accuracy: 0.8885 - val_loss: 0.3435 - val_accuracy: 0.8760\n",
      "Epoch 58/100\n",
      "188/188 [==============================] - 1s 7ms/step - loss: 0.2642 - accuracy: 0.8883 - val_loss: 0.2918 - val_accuracy: 0.8875\n",
      "Epoch 59/100\n",
      "188/188 [==============================] - 1s 8ms/step - loss: 0.2658 - accuracy: 0.8903 - val_loss: 0.3141 - val_accuracy: 0.8910\n",
      "Epoch 60/100\n",
      "188/188 [==============================] - 1s 7ms/step - loss: 0.2595 - accuracy: 0.8938 - val_loss: 0.3037 - val_accuracy: 0.8795\n",
      "Epoch 61/100\n",
      "188/188 [==============================] - 1s 7ms/step - loss: 0.2645 - accuracy: 0.8913 - val_loss: 0.2926 - val_accuracy: 0.8960\n",
      "Epoch 62/100\n",
      "188/188 [==============================] - 1s 8ms/step - loss: 0.2637 - accuracy: 0.8932 - val_loss: 0.3033 - val_accuracy: 0.8735\n",
      "Epoch 63/100\n",
      "188/188 [==============================] - 1s 7ms/step - loss: 0.2620 - accuracy: 0.8932 - val_loss: 0.3288 - val_accuracy: 0.8830\n",
      "Epoch 64/100\n",
      "188/188 [==============================] - 1s 8ms/step - loss: 0.2631 - accuracy: 0.8922 - val_loss: 0.2975 - val_accuracy: 0.8920\n",
      "Epoch 65/100\n",
      "188/188 [==============================] - 1s 7ms/step - loss: 0.2573 - accuracy: 0.8953 - val_loss: 0.2855 - val_accuracy: 0.8990\n",
      "Epoch 66/100\n",
      "188/188 [==============================] - 1s 6ms/step - loss: 0.2660 - accuracy: 0.8942 - val_loss: 0.2928 - val_accuracy: 0.8945\n",
      "Epoch 67/100\n",
      "188/188 [==============================] - 1s 7ms/step - loss: 0.2627 - accuracy: 0.8950 - val_loss: 0.3198 - val_accuracy: 0.8615\n",
      "Epoch 68/100\n",
      "188/188 [==============================] - 1s 8ms/step - loss: 0.2592 - accuracy: 0.8955 - val_loss: 0.2871 - val_accuracy: 0.8920\n",
      "Epoch 69/100\n",
      "188/188 [==============================] - 1s 7ms/step - loss: 0.2601 - accuracy: 0.8935 - val_loss: 0.2934 - val_accuracy: 0.8965\n",
      "Epoch 70/100\n",
      "188/188 [==============================] - 1s 7ms/step - loss: 0.2613 - accuracy: 0.8975 - val_loss: 0.2937 - val_accuracy: 0.8830\n",
      "Epoch 71/100\n",
      "188/188 [==============================] - ETA: 0s - loss: 0.2589 - accuracy: 0.89 - 1s 7ms/step - loss: 0.2578 - accuracy: 0.8977 - val_loss: 0.3018 - val_accuracy: 0.8920\n",
      "Epoch 72/100\n",
      "188/188 [==============================] - 1s 6ms/step - loss: 0.2542 - accuracy: 0.8992 - val_loss: 0.3022 - val_accuracy: 0.8835\n",
      "Epoch 73/100\n",
      "188/188 [==============================] - 1s 7ms/step - loss: 0.2626 - accuracy: 0.8950 - val_loss: 0.2906 - val_accuracy: 0.8950\n",
      "Epoch 74/100\n",
      "188/188 [==============================] - 1s 8ms/step - loss: 0.2556 - accuracy: 0.8970 - val_loss: 0.2959 - val_accuracy: 0.9005\n",
      "Epoch 75/100\n",
      "188/188 [==============================] - 2s 9ms/step - loss: 0.2583 - accuracy: 0.8925 - val_loss: 0.3015 - val_accuracy: 0.9000\n",
      "Epoch 76/100\n",
      "188/188 [==============================] - 1s 7ms/step - loss: 0.2595 - accuracy: 0.8932 - val_loss: 0.2884 - val_accuracy: 0.8885\n",
      "Epoch 77/100\n",
      "188/188 [==============================] - 1s 7ms/step - loss: 0.2498 - accuracy: 0.8998 - val_loss: 0.2930 - val_accuracy: 0.8875\n",
      "Epoch 78/100\n",
      "188/188 [==============================] - 1s 7ms/step - loss: 0.2548 - accuracy: 0.8965 - val_loss: 0.3053 - val_accuracy: 0.8735\n",
      "Epoch 79/100\n",
      "188/188 [==============================] - ETA: 0s - loss: 0.2537 - accuracy: 0.89 - 2s 8ms/step - loss: 0.2536 - accuracy: 0.8983 - val_loss: 0.3128 - val_accuracy: 0.8925\n",
      "Epoch 80/100\n",
      "188/188 [==============================] - 1s 8ms/step - loss: 0.2551 - accuracy: 0.8985 - val_loss: 0.2947 - val_accuracy: 0.8860\n",
      "Epoch 81/100\n",
      "188/188 [==============================] - 2s 8ms/step - loss: 0.2571 - accuracy: 0.8957 - val_loss: 0.3013 - val_accuracy: 0.8760\n",
      "Epoch 82/100\n",
      "188/188 [==============================] - 1s 8ms/step - loss: 0.2520 - accuracy: 0.8948 - val_loss: 0.2942 - val_accuracy: 0.8965\n",
      "Epoch 83/100\n",
      "188/188 [==============================] - 1s 7ms/step - loss: 0.2581 - accuracy: 0.8948 - val_loss: 0.3068 - val_accuracy: 0.8960\n",
      "Epoch 84/100\n",
      "188/188 [==============================] - 1s 7ms/step - loss: 0.2519 - accuracy: 0.8998 - val_loss: 0.2907 - val_accuracy: 0.9005\n",
      "Epoch 85/100\n",
      "188/188 [==============================] - 1s 8ms/step - loss: 0.2508 - accuracy: 0.8983 - val_loss: 0.2843 - val_accuracy: 0.9045\n",
      "Epoch 86/100\n",
      "188/188 [==============================] - 1s 7ms/step - loss: 0.2472 - accuracy: 0.9030 - val_loss: 0.2900 - val_accuracy: 0.9040\n",
      "Epoch 87/100\n",
      "188/188 [==============================] - 1s 7ms/step - loss: 0.2517 - accuracy: 0.8983 - val_loss: 0.3053 - val_accuracy: 0.9000\n",
      "Epoch 88/100\n",
      "188/188 [==============================] - 1s 7ms/step - loss: 0.2445 - accuracy: 0.9022 - val_loss: 0.2823 - val_accuracy: 0.9040\n",
      "Epoch 89/100\n",
      "188/188 [==============================] - 1s 7ms/step - loss: 0.2475 - accuracy: 0.9017 - val_loss: 0.2892 - val_accuracy: 0.9015\n",
      "Epoch 90/100\n",
      "188/188 [==============================] - 1s 7ms/step - loss: 0.2611 - accuracy: 0.8925 - val_loss: 0.2950 - val_accuracy: 0.8870\n",
      "Epoch 91/100\n",
      "188/188 [==============================] - 1s 7ms/step - loss: 0.2489 - accuracy: 0.9025 - val_loss: 0.2849 - val_accuracy: 0.8990\n",
      "Epoch 92/100\n",
      "188/188 [==============================] - 1s 7ms/step - loss: 0.2472 - accuracy: 0.8997 - val_loss: 0.3155 - val_accuracy: 0.8935\n",
      "Epoch 93/100\n",
      "188/188 [==============================] - 2s 8ms/step - loss: 0.2474 - accuracy: 0.9002 - val_loss: 0.2911 - val_accuracy: 0.8820\n",
      "Epoch 94/100\n",
      "188/188 [==============================] - 1s 8ms/step - loss: 0.2569 - accuracy: 0.8967 - val_loss: 0.2974 - val_accuracy: 0.8845\n",
      "Epoch 95/100\n",
      "188/188 [==============================] - 1s 8ms/step - loss: 0.2438 - accuracy: 0.9045 - val_loss: 0.3312 - val_accuracy: 0.8495\n",
      "Epoch 96/100\n",
      "188/188 [==============================] - 1s 8ms/step - loss: 0.2456 - accuracy: 0.9025 - val_loss: 0.3242 - val_accuracy: 0.8930\n",
      "Epoch 97/100\n",
      "188/188 [==============================] - 2s 9ms/step - loss: 0.2598 - accuracy: 0.8940 - val_loss: 0.2923 - val_accuracy: 0.8835\n",
      "Epoch 98/100\n",
      "188/188 [==============================] - 1s 7ms/step - loss: 0.2466 - accuracy: 0.9008 - val_loss: 0.2777 - val_accuracy: 0.8995\n",
      "Epoch 99/100\n",
      "188/188 [==============================] - 1s 7ms/step - loss: 0.2454 - accuracy: 0.9013 - val_loss: 0.3092 - val_accuracy: 0.9010\n",
      "Epoch 100/100\n",
      "188/188 [==============================] - 1s 7ms/step - loss: 0.2553 - accuracy: 0.8963 - val_loss: 0.3028 - val_accuracy: 0.8815\n"
     ]
    }
   ],
   "source": [
    "training_output = model.fit(\n",
    "    x=normalize_image_data(x_train),\n",
    "    y=y_train,\n",
    "    validation_data=(normalize_image_data(x_test), y_test),\n",
    "    batch_size=batch_size,\n",
    "    epochs=epochs,\n",
    ")"
   ]
  },
  {
   "cell_type": "code",
   "execution_count": 9,
   "metadata": {
    "scrolled": true
   },
   "outputs": [
    {
     "data": {
      "text/plain": [
       "<matplotlib.legend.Legend at 0x1a753d0aa30>"
      ]
     },
     "execution_count": 9,
     "metadata": {},
     "output_type": "execute_result"
    },
    {
     "data": {
      "image/png": "[encoded data removed]",
      "text/plain": [
       "<Figure size 864x288 with 2 Axes>"
      ]
     },
     "metadata": {
      "needs_background": "light"
     },
     "output_type": "display_data"
    }
   ],
   "source": [
    "# Side by side plots of losses and accuracies\n",
    "history = training_output.history\n",
    "fig, ax = plt.subplots(1, 2, figsize=(12, 4))\n",
    "ax[0].plot(history['loss'], label='training')\n",
    "ax[0].plot(history['val_loss'], label='validation')\n",
    "ax[0].set_title(\"Model losses\")\n",
    "ax[0].set_xlabel(\"Epoch\")\n",
    "ax[0].set_ylabel(\"Loss\")\n",
    "ax[0].legend()\n",
    "\n",
    "ax[1].plot(history['accuracy'], label='training')\n",
    "ax[1].plot(history['val_accuracy'], label='validation')\n",
    "ax[1].set_title(\"Model accuracy\")\n",
    "ax[1].set_xlabel(\"Epoch\")\n",
    "ax[1].set_ylabel(\"Accuracy\")\n",
    "ax[1].legend()"
   ]
  },
  {
   "cell_type": "markdown",
   "metadata": {},
   "source": [
    "## Expand and improve the model\n",
    "Just like with a feed forward neural network, the architecture is just one of the properties\n",
    "we can tune to improve performance. If you look closer at the model.summary() printout, you can\n",
    "see that the output after the Conv2D layer has changed shape. It's no longer the same size as our\n",
    "original image. Why is this?\n",
    "\n",
    "In the introduction we mentioned that the filters/kernels in a CNN\n",
    "extract features in the images. One thing we could do, then, is to input those features to an FFNN. Just\n",
    "like in the dense_neural_network notebook.\n",
    "\n",
    "In a way we've already done this, except the dense part of our model has only one node, the output node.\n",
    "Try to add another dense layer before the output. Perhaps you have a dense model from the previous notebook\n",
    "you can weave in here?\n",
    "\n",
    "Of course, you can also add another Conv2D layer instead, or increase the number of filters.\n",
    "In between convolutional layers you can add MaxPool2D layers, and eventually you may start looking at\n",
    "regularizations like Dropout if necessary."
   ]
  },
  {
   "cell_type": "code",
   "execution_count": 10,
   "metadata": {},
   "outputs": [
    {
     "name": "stdout",
     "output_type": "stream",
     "text": [
      "Model: \"sequential_1\"\n",
      "_________________________________________________________________\n",
      "Layer (type)                 Output Shape              Param #   \n",
      "=================================================================\n",
      "conv2d_2 (Conv2D)            (None, 14, 14, 32)        320       \n",
      "_________________________________________________________________\n",
      "max_pooling2d_1 (MaxPooling2 (None, 7, 7, 32)          0         \n",
      "_________________________________________________________________\n",
      "conv2d_3 (Conv2D)            (None, 5, 5, 32)          9248      \n",
      "_________________________________________________________________\n",
      "flatten_1 (Flatten)          (None, 800)               0         \n",
      "_________________________________________________________________\n",
      "dense_1 (Dense)              (None, 128)               102528    \n",
      "_________________________________________________________________\n",
      "dense_2 (Dense)              (None, 1)                 129       \n",
      "=================================================================\n",
      "Total params: 112,225\n",
      "Trainable params: 112,225\n",
      "Non-trainable params: 0\n",
      "_________________________________________________________________\n"
     ]
    }
   ],
   "source": [
    "# Initialize the Sequential model, and add one Conv2D layer to it\n",
    "model = tf.keras.Sequential()\n",
    "model.add(tf.keras.layers.Conv2D(\n",
    "        filters=32,\n",
    "        kernel_size=3,\n",
    "        activation='relu',\n",
    "        input_shape=images.shape[1:] # Shape of a single image\n",
    "    )\n",
    ")\n",
    "model.add(tf.keras.layers.MaxPool2D(2,2))\n",
    "model.add(tf.keras.layers.Conv2D(32, 3, activation='relu'))\n",
    "\n",
    "\n",
    "# Add an output layer to the model\n",
    "# Recall the shape of the input to a dense neural network.\n",
    "# What is the shape of the output from the Conv2D layer?\n",
    "model.add(tf.keras.layers.Flatten())\n",
    "model.add(tf.keras.layers.Dense(128, activation='relu'))\n",
    "model.add(tf.keras.layers.Dense(1, activation='sigmoid'))\n",
    "\n",
    "\n",
    "# Once the model is defined, we need to compile it. \n",
    "# This is where we specify the loss function, optimizer, and metrics if we want.\n",
    "model.compile(\n",
    "    optimizer='adam',\n",
    "    loss='binary_crossentropy',\n",
    "    metrics=['accuracy']\n",
    ")\n",
    "model.summary()"
   ]
  }
 ],
 "metadata": {
  "hide_input": false,
  "kernelspec": {
   "display_name": "Python 3",
   "language": "python",
   "name": "python3"
  },
  "language_info": {
   "codemirror_mode": {
    "name": "ipython",
    "version": 3
   },
   "file_extension": ".py",
   "mimetype": "text/x-python",
   "name": "python",
   "nbconvert_exporter": "python",
   "pygments_lexer": "ipython3",
   "version": "3.8.5"
  },
  "latex_envs": {
   "LaTeX_envs_menu_present": true,
   "autoclose": false,
   "autocomplete": true,
   "bibliofile": "biblio.bib",
   "cite_by": "apalike",
   "current_citInitial": 1,
   "eqLabelWithNumbers": true,
   "eqNumInitial": 1,
   "hotkeys": {
    "equation": "Ctrl-E",
    "itemize": "Ctrl-I"
   },
   "labels_anchors": false,
   "latex_user_defs": false,
   "report_style_numbering": false,
   "user_envs_cfg": false
  },
  "toc": {
   "base_numbering": 1,
   "nav_menu": {},
   "number_sections": true,
   "sideBar": true,
   "skip_h1_title": false,
   "title_cell": "Table of Contents",
   "title_sidebar": "Contents",
   "toc_cell": false,
   "toc_position": {},
   "toc_section_display": true,
   "toc_window_display": false
  }
 },
 "nbformat": 4,
 "nbformat_minor": 4
}
