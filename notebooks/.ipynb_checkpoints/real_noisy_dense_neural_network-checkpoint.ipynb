{
 "cells": [
  {
   "cell_type": "markdown",
   "metadata": {},
   "source": [
    "# Classification using dense neural network (fully connected)\n",
    "For this exercise we'll be using [Keras](https://keras.io/).. In addition you need either [TensorFlow](https://www.tensorflow.org/) or [PyTorch](https://pytorch.org/)\n",
    "as the underlying framework. Or, you can also continue with scikit-learn, which also has dense / fully connected networks implemented."
   ]
  },
  {
   "cell_type": "markdown",
   "metadata": {},
   "source": [
    "## Normalization of image data\n",
    "We apply the same normalization as for logistic regression. Recall that we have saved this function in a file\n",
    "called `helper_functions.py`, and can import and use it directly from there."
   ]
  },
  {
   "cell_type": "markdown",
   "metadata": {},
   "source": [
    "## Numpy approach"
   ]
  },
  {
   "cell_type": "code",
   "execution_count": 1,
   "metadata": {},
   "outputs": [],
   "source": [
    "# Imports\n",
    "import numpy as np\n",
    "import matplotlib.pyplot as plt\n",
    "from keras.models import Sequential\n",
    "from keras.layers import Dense, InputLayer\n",
    "from sklearn.model_selection import train_test_split\n",
    "from sklearn.metrics import (accuracy_score, confusion_matrix, f1_score, \n",
    "                             matthews_corrcoef, roc_curve, roc_auc_score)\n",
    "from helper_functions import normalize_image_data, plot_roc_auc, noise_gen\n",
    "from timeit import default_timer as timer\n",
    "\n",
    "%load_ext autoreload\n",
    "%autoreload 2"
   ]
  },
  {
   "cell_type": "code",
   "execution_count": 2,
   "metadata": {},
   "outputs": [],
   "source": [
    "# Load images and labels.\n",
    "DATA_PATH = \"../data/\"\n",
    "\n",
    "images = np.load(DATA_PATH+\"nimages_training.npy\")\n",
    "labels = np.load(DATA_PATH+\"labels_training.npy\")\n",
    "\n",
    "rimages = np.load(DATA_PATH+\"images_200k.npy\")\n",
    "rlabels = np.load(DATA_PATH+\"labels_200k.npy\")\n",
    "\n",
    "\n",
    "# Just like with logistic regression, we need to reshape the images to\n",
    "# be one-dimensional for the input to the model.\n",
    "images = images.reshape(images.shape[0], 256)\n",
    "rimages = rimages.reshape(rimages.shape[0], 256)\n",
    "\n",
    "# Split the training indices into training and validation. \n",
    "# Validate with 25% of the data (default). Can be adjusted.\n",
    "x_idx = np.arange(images.shape[0])\n",
    "train_idx, val_idx, not_used1, not_used2 = train_test_split(x_idx, x_idx, test_size = 0.25)"
   ]
  },
  {
   "cell_type": "code",
   "execution_count": 3,
   "metadata": {},
   "outputs": [],
   "source": [
    "#rdfile = np.genfromtxt(DATA_PATH+\"ratiodist.txt\")\n",
    "#images_test = np.load(DATA_PATH+\"images_test.npy\")\n",
    "#images = images.reshape(images.shape[0], 256)\n",
    "\n",
    "#nimages = []\n",
    "\n",
    "\n",
    "#This takes a long time (1:20m for 8000 matrices) so we'll save it to a file\n",
    "\n",
    "#for image in images:\n",
    "#    nimages.append(image*noise_gen(rdfile))\n",
    "\n",
    "#np.save(DATA_PATH+\"nimages_test\",nimages)\n",
    "\n"
   ]
  },
  {
   "cell_type": "markdown",
   "metadata": {},
   "source": [
    "### Build a model\n",
    "We're going to start off with a simple feed-forward neural network one hidden layer. This is a binary classifier, so\n",
    "we techincally only need it to output one number.\n",
    "\n",
    "What about the number of nodes in the hidden input layer?\n",
    "The top post in [this](https://stats.stackexchange.com/questions/181/how-to-choose-the-number-of-hidden-layers-and-nodes-in-a-feedforward-neural-netw) stackexchange question points to some good sources of information about this.\n",
    "\n",
    "> There are some empirically-derived rules-of-thumb, of these, the most commonly relied on is 'the optimal size of the hidden layer is usually between the size of the input and size of the output layers'\n",
    "(Jeff Heaton, author of [Introduction to Neural Networks in Java](https://www.heatonresearch.com/book/) offers a few more.)"
   ]
  },
  {
   "cell_type": "code",
   "execution_count": 4,
   "metadata": {},
   "outputs": [
    {
     "name": "stdout",
     "output_type": "stream",
     "text": [
      "Model: \"sequential\"\n",
      "_________________________________________________________________\n",
      "Layer (type)                 Output Shape              Param #   \n",
      "=================================================================\n",
      "dense (Dense)                (None, 54)                13878     \n",
      "_________________________________________________________________\n",
      "dense_1 (Dense)              (None, 1)                 55        \n",
      "=================================================================\n",
      "Total params: 13,933\n",
      "Trainable params: 13,933\n",
      "Non-trainable params: 0\n",
      "_________________________________________________________________\n"
     ]
    }
   ],
   "source": [
    "# Init the Sequential model\n",
    "model = Sequential()\n",
    "# Add Input layer\n",
    "model.add(InputLayer(input_shape=(images.shape[1],)))\n",
    "\n",
    "# Add hidden layer\n",
    "model.add(Dense(64, activation='relu'))\n",
    "\n",
    "# Add output layer.\n",
    "model.add(Dense(1, activation='sigmoid'))\n",
    "\n",
    "# Finally, compile the model and print a summary. Loss function and optimizer is set during compilation.\n",
    "model.compile(\n",
    "    loss='binary_crossentropy',\n",
    "    optimizer='adam',\n",
    "    metrics=['accuracy']\n",
    ")\n",
    "model.summary()"
   ]
  },
  {
   "cell_type": "markdown",
   "metadata": {},
   "source": [
    "### Train the model\n",
    "The fit() function returns a history object that we'll store to plot how the training developed with epochs.\n",
    "First we need to set som training parameters.\n",
    "\n",
    "Note that if you would like to change something about the the model and run training again, you must\n",
    "re-compile the model. Otherwise you will essentially just be doubling the number of epochs."
   ]
  },
  {
   "cell_type": "code",
   "execution_count": 5,
   "metadata": {},
   "outputs": [],
   "source": [
    "# Set parameters for the training run. For the small set of 10k events you can probably get \n",
    "# away with even 100 epochs in a fairly small time, depending on your CPU.\n",
    "epochs = 100\n",
    "batch_size = 32"
   ]
  },
  {
   "cell_type": "code",
   "execution_count": 6,
   "metadata": {
    "scrolled": true
   },
   "outputs": [
    {
     "name": "stdout",
     "output_type": "stream",
     "text": [
      "Epoch 1/70\n",
      "60/60 [==============================] - 0s 5ms/step - loss: 0.6814 - accuracy: 0.5312 - val_loss: 0.6673 - val_accuracy: 0.5650\n",
      "Epoch 2/70\n",
      "60/60 [==============================] - 0s 2ms/step - loss: 0.6507 - accuracy: 0.6345 - val_loss: 0.6402 - val_accuracy: 0.6155\n",
      "Epoch 3/70\n",
      "60/60 [==============================] - 0s 2ms/step - loss: 0.6167 - accuracy: 0.6863 - val_loss: 0.6224 - val_accuracy: 0.6400\n",
      "Epoch 4/70\n",
      "60/60 [==============================] - 0s 2ms/step - loss: 0.5807 - accuracy: 0.7203 - val_loss: 0.5984 - val_accuracy: 0.6630\n",
      "Epoch 5/70\n",
      "60/60 [==============================] - 0s 2ms/step - loss: 0.5441 - accuracy: 0.7368 - val_loss: 0.5931 - val_accuracy: 0.6650\n",
      "Epoch 6/70\n",
      "60/60 [==============================] - 0s 2ms/step - loss: 0.5152 - accuracy: 0.7387 - val_loss: 0.5936 - val_accuracy: 0.6690\n",
      "Epoch 7/70\n",
      "60/60 [==============================] - 0s 2ms/step - loss: 0.4994 - accuracy: 0.7450 - val_loss: 0.6353 - val_accuracy: 0.6680\n",
      "Epoch 8/70\n",
      "60/60 [==============================] - 0s 2ms/step - loss: 0.4930 - accuracy: 0.7428 - val_loss: 0.6182 - val_accuracy: 0.6705\n",
      "Epoch 9/70\n",
      "60/60 [==============================] - 0s 2ms/step - loss: 0.4883 - accuracy: 0.7470 - val_loss: 0.6794 - val_accuracy: 0.6660\n",
      "Epoch 10/70\n",
      "60/60 [==============================] - 0s 2ms/step - loss: 0.4871 - accuracy: 0.7428 - val_loss: 0.6384 - val_accuracy: 0.6695\n",
      "Epoch 11/70\n",
      "60/60 [==============================] - 0s 2ms/step - loss: 0.4852 - accuracy: 0.7477 - val_loss: 0.6573 - val_accuracy: 0.6665\n",
      "Epoch 12/70\n",
      "60/60 [==============================] - 0s 2ms/step - loss: 0.4834 - accuracy: 0.7490 - val_loss: 0.6484 - val_accuracy: 0.6685\n",
      "Epoch 13/70\n",
      "60/60 [==============================] - 0s 2ms/step - loss: 0.4829 - accuracy: 0.7498 - val_loss: 0.6599 - val_accuracy: 0.6670\n",
      "Epoch 14/70\n",
      "60/60 [==============================] - 0s 2ms/step - loss: 0.4811 - accuracy: 0.7475 - val_loss: 0.6573 - val_accuracy: 0.6680\n",
      "Epoch 15/70\n",
      "60/60 [==============================] - 0s 2ms/step - loss: 0.4801 - accuracy: 0.7508 - val_loss: 0.6882 - val_accuracy: 0.6660\n",
      "Epoch 16/70\n",
      "60/60 [==============================] - 0s 2ms/step - loss: 0.4797 - accuracy: 0.7485 - val_loss: 0.6746 - val_accuracy: 0.6675\n",
      "Epoch 17/70\n",
      "60/60 [==============================] - 0s 2ms/step - loss: 0.4790 - accuracy: 0.7517 - val_loss: 0.6677 - val_accuracy: 0.6690\n",
      "Epoch 18/70\n",
      "60/60 [==============================] - 0s 2ms/step - loss: 0.4780 - accuracy: 0.7520 - val_loss: 0.6714 - val_accuracy: 0.6705\n",
      "Epoch 19/70\n",
      "60/60 [==============================] - 0s 2ms/step - loss: 0.4769 - accuracy: 0.7528 - val_loss: 0.6570 - val_accuracy: 0.6695\n",
      "Epoch 20/70\n",
      "60/60 [==============================] - ETA: 0s - loss: 0.4762 - accuracy: 0.75 - 0s 2ms/step - loss: 0.4760 - accuracy: 0.7527 - val_loss: 0.6757 - val_accuracy: 0.6695\n",
      "Epoch 21/70\n",
      "60/60 [==============================] - 0s 2ms/step - loss: 0.4752 - accuracy: 0.7557 - val_loss: 0.6680 - val_accuracy: 0.6700\n",
      "Epoch 22/70\n",
      "60/60 [==============================] - 0s 2ms/step - loss: 0.4745 - accuracy: 0.7550 - val_loss: 0.6737 - val_accuracy: 0.6695\n",
      "Epoch 23/70\n",
      "60/60 [==============================] - 0s 2ms/step - loss: 0.4739 - accuracy: 0.7572 - val_loss: 0.6596 - val_accuracy: 0.6740\n",
      "Epoch 24/70\n",
      "60/60 [==============================] - 0s 2ms/step - loss: 0.4728 - accuracy: 0.7568 - val_loss: 0.6403 - val_accuracy: 0.6815\n",
      "Epoch 25/70\n",
      "60/60 [==============================] - 0s 2ms/step - loss: 0.4724 - accuracy: 0.7563 - val_loss: 0.6546 - val_accuracy: 0.6760\n",
      "Epoch 26/70\n",
      "60/60 [==============================] - 0s 2ms/step - loss: 0.4724 - accuracy: 0.7565 - val_loss: 0.6678 - val_accuracy: 0.6720\n",
      "Epoch 27/70\n",
      "60/60 [==============================] - 0s 2ms/step - loss: 0.4710 - accuracy: 0.7583 - val_loss: 0.7038 - val_accuracy: 0.6720\n",
      "Epoch 28/70\n",
      "60/60 [==============================] - 0s 2ms/step - loss: 0.4716 - accuracy: 0.7568 - val_loss: 0.6714 - val_accuracy: 0.6740\n",
      "Epoch 29/70\n",
      "60/60 [==============================] - 0s 2ms/step - loss: 0.4699 - accuracy: 0.7578 - val_loss: 0.6731 - val_accuracy: 0.6740\n",
      "Epoch 30/70\n",
      "60/60 [==============================] - 0s 2ms/step - loss: 0.4691 - accuracy: 0.7590 - val_loss: 0.6724 - val_accuracy: 0.6750\n",
      "Epoch 31/70\n",
      "60/60 [==============================] - 0s 2ms/step - loss: 0.4685 - accuracy: 0.7597 - val_loss: 0.6649 - val_accuracy: 0.6765\n",
      "Epoch 32/70\n",
      "60/60 [==============================] - 0s 2ms/step - loss: 0.4683 - accuracy: 0.7612 - val_loss: 0.6848 - val_accuracy: 0.6755\n",
      "Epoch 33/70\n",
      "60/60 [==============================] - 0s 2ms/step - loss: 0.4676 - accuracy: 0.7603 - val_loss: 0.6706 - val_accuracy: 0.6775\n",
      "Epoch 34/70\n",
      "60/60 [==============================] - 0s 2ms/step - loss: 0.4666 - accuracy: 0.7602 - val_loss: 0.6738 - val_accuracy: 0.6765\n",
      "Epoch 35/70\n",
      "60/60 [==============================] - 0s 2ms/step - loss: 0.4662 - accuracy: 0.7618 - val_loss: 0.6697 - val_accuracy: 0.6785\n",
      "Epoch 36/70\n",
      "60/60 [==============================] - 0s 2ms/step - loss: 0.4653 - accuracy: 0.7613 - val_loss: 0.6568 - val_accuracy: 0.6820\n",
      "Epoch 37/70\n",
      "60/60 [==============================] - 0s 2ms/step - loss: 0.4649 - accuracy: 0.7650 - val_loss: 0.6772 - val_accuracy: 0.6780\n",
      "Epoch 38/70\n",
      "60/60 [==============================] - 0s 2ms/step - loss: 0.4643 - accuracy: 0.7627 - val_loss: 0.6592 - val_accuracy: 0.6815\n",
      "Epoch 39/70\n",
      "60/60 [==============================] - 0s 2ms/step - loss: 0.4639 - accuracy: 0.7647 - val_loss: 0.6487 - val_accuracy: 0.6865\n",
      "Epoch 40/70\n",
      "60/60 [==============================] - 0s 2ms/step - loss: 0.4629 - accuracy: 0.7628 - val_loss: 0.6522 - val_accuracy: 0.6850\n",
      "Epoch 41/70\n",
      "60/60 [==============================] - 0s 2ms/step - loss: 0.4627 - accuracy: 0.7658 - val_loss: 0.6608 - val_accuracy: 0.6840\n",
      "Epoch 42/70\n",
      "60/60 [==============================] - 0s 2ms/step - loss: 0.4622 - accuracy: 0.7645 - val_loss: 0.6723 - val_accuracy: 0.6795\n",
      "Epoch 43/70\n",
      "60/60 [==============================] - 0s 2ms/step - loss: 0.4613 - accuracy: 0.7657 - val_loss: 0.6885 - val_accuracy: 0.6780\n",
      "Epoch 44/70\n",
      "60/60 [==============================] - 0s 2ms/step - loss: 0.4613 - accuracy: 0.7650 - val_loss: 0.6742 - val_accuracy: 0.6790\n",
      "Epoch 45/70\n",
      "60/60 [==============================] - 0s 2ms/step - loss: 0.4604 - accuracy: 0.7670 - val_loss: 0.6726 - val_accuracy: 0.6800\n",
      "Epoch 46/70\n",
      "60/60 [==============================] - 0s 2ms/step - loss: 0.4596 - accuracy: 0.7677 - val_loss: 0.6611 - val_accuracy: 0.6850\n",
      "Epoch 47/70\n",
      "60/60 [==============================] - 0s 2ms/step - loss: 0.4590 - accuracy: 0.7683 - val_loss: 0.6570 - val_accuracy: 0.6850\n",
      "Epoch 48/70\n",
      "60/60 [==============================] - 0s 2ms/step - loss: 0.4586 - accuracy: 0.7695 - val_loss: 0.6824 - val_accuracy: 0.6810\n",
      "Epoch 49/70\n",
      "60/60 [==============================] - 0s 2ms/step - loss: 0.4578 - accuracy: 0.7682 - val_loss: 0.6677 - val_accuracy: 0.6830\n",
      "Epoch 50/70\n",
      "60/60 [==============================] - 0s 2ms/step - loss: 0.4574 - accuracy: 0.7695 - val_loss: 0.6820 - val_accuracy: 0.6795\n",
      "Epoch 51/70\n",
      "60/60 [==============================] - 0s 2ms/step - loss: 0.4570 - accuracy: 0.7690 - val_loss: 0.6605 - val_accuracy: 0.6870\n",
      "Epoch 52/70\n",
      "60/60 [==============================] - 0s 2ms/step - loss: 0.4568 - accuracy: 0.7682 - val_loss: 0.6555 - val_accuracy: 0.6865\n",
      "Epoch 53/70\n",
      "60/60 [==============================] - 0s 2ms/step - loss: 0.4558 - accuracy: 0.7697 - val_loss: 0.6617 - val_accuracy: 0.6865\n",
      "Epoch 54/70\n",
      "60/60 [==============================] - 0s 2ms/step - loss: 0.4547 - accuracy: 0.7717 - val_loss: 0.6539 - val_accuracy: 0.6870\n",
      "Epoch 55/70\n",
      "60/60 [==============================] - 0s 2ms/step - loss: 0.4548 - accuracy: 0.7730 - val_loss: 0.6853 - val_accuracy: 0.6830\n",
      "Epoch 56/70\n",
      "60/60 [==============================] - 0s 2ms/step - loss: 0.4539 - accuracy: 0.7725 - val_loss: 0.6692 - val_accuracy: 0.6855\n",
      "Epoch 57/70\n",
      "60/60 [==============================] - 0s 2ms/step - loss: 0.4533 - accuracy: 0.7697 - val_loss: 0.6694 - val_accuracy: 0.6855\n",
      "Epoch 58/70\n",
      "60/60 [==============================] - 0s 2ms/step - loss: 0.4529 - accuracy: 0.7730 - val_loss: 0.6807 - val_accuracy: 0.6845\n"
     ]
    },
    {
     "name": "stdout",
     "output_type": "stream",
     "text": [
      "Epoch 59/70\n",
      "60/60 [==============================] - 0s 2ms/step - loss: 0.4520 - accuracy: 0.7732 - val_loss: 0.6617 - val_accuracy: 0.6875\n",
      "Epoch 60/70\n",
      "60/60 [==============================] - 0s 2ms/step - loss: 0.4519 - accuracy: 0.7758 - val_loss: 0.6747 - val_accuracy: 0.6870\n",
      "Epoch 61/70\n",
      "60/60 [==============================] - 0s 2ms/step - loss: 0.4509 - accuracy: 0.7733 - val_loss: 0.6619 - val_accuracy: 0.6885\n",
      "Epoch 62/70\n",
      "60/60 [==============================] - 0s 2ms/step - loss: 0.4504 - accuracy: 0.7752 - val_loss: 0.6840 - val_accuracy: 0.6860\n",
      "Epoch 63/70\n",
      "60/60 [==============================] - 0s 2ms/step - loss: 0.4499 - accuracy: 0.7767 - val_loss: 0.6742 - val_accuracy: 0.6855\n",
      "Epoch 64/70\n",
      "60/60 [==============================] - 0s 2ms/step - loss: 0.4495 - accuracy: 0.7742 - val_loss: 0.6670 - val_accuracy: 0.6875\n",
      "Epoch 65/70\n",
      "60/60 [==============================] - 0s 2ms/step - loss: 0.4491 - accuracy: 0.7770 - val_loss: 0.6777 - val_accuracy: 0.6860\n",
      "Epoch 66/70\n",
      "60/60 [==============================] - 0s 2ms/step - loss: 0.4481 - accuracy: 0.7768 - val_loss: 0.6816 - val_accuracy: 0.6855\n",
      "Epoch 67/70\n",
      "60/60 [==============================] - 0s 2ms/step - loss: 0.4483 - accuracy: 0.7768 - val_loss: 0.6821 - val_accuracy: 0.6845\n",
      "Epoch 68/70\n",
      "60/60 [==============================] - 0s 2ms/step - loss: 0.4471 - accuracy: 0.7775 - val_loss: 0.6683 - val_accuracy: 0.6895\n",
      "Epoch 69/70\n",
      "60/60 [==============================] - 0s 2ms/step - loss: 0.4463 - accuracy: 0.7773 - val_loss: 0.6778 - val_accuracy: 0.6860\n",
      "Epoch 70/70\n",
      "60/60 [==============================] - 0s 2ms/step - loss: 0.4460 - accuracy: 0.7778 - val_loss: 0.6689 - val_accuracy: 0.6890\n"
     ]
    }
   ],
   "source": [
    "# The validation_data keywork expects a 'tuple' (val_x, val_y) so we make one on the fly\n",
    "history = model.fit(\n",
    "    x=normalize_image_data(images[train_idx]),\n",
    "    y=labels[train_idx],\n",
    "    validation_data=(normalize_image_data(images[val_idx]), labels[val_idx]),\n",
    "    epochs=epochs,\n",
    "    batch_size=batch_size,\n",
    ")"
   ]
  },
  {
   "cell_type": "markdown",
   "metadata": {},
   "source": [
    "### Evaluate the model\n",
    "Let's use the history object to plot how the loss and accuracy changed during training.\n",
    "The history contains a dictionary of the currently applied metrics as keys. In this case we have the\n",
    "keys \"loss\", \"accuracy\", \"val_loss\", and \"val_accuracy\". \"loss\" and \"accuracy\" pertain to the training data, while\n",
    "\"val_loss\" and \"val_accuracy\" are the metrics for the validation data we provided."
   ]
  },
  {
   "cell_type": "code",
   "execution_count": 7,
   "metadata": {},
   "outputs": [
    {
     "data": {
      "text/plain": [
       "<matplotlib.legend.Legend at 0x2b6d7a15e20>"
      ]
     },
     "execution_count": 7,
     "metadata": {},
     "output_type": "execute_result"
    },
    {
     "data": {
      "image/png": "[encoded data removed]",
      "text/plain": [
       "<Figure size 1008x432 with 2 Axes>"
      ]
     },
     "metadata": {
      "needs_background": "light"
     },
     "output_type": "display_data"
    }
   ],
   "source": [
    "# Plot loss and val_loss as one plot, and accuracy and val_accuracy as another, side-by-side.\n",
    "# We'll also save this plot as plot_history() in the helper_functions file, so any time we need to\n",
    "# plot the history object like this we can just call that function and pass the history object as\n",
    "# an argument.\n",
    "fig, ax = plt.subplots(1, 2, figsize=(14, 6))\n",
    "num_epochs = len(history.history['loss'])\n",
    "ax[0].plot(history.history['loss'], label='training')\n",
    "ax[0].plot(history.history['val_loss'], label='validation')\n",
    "ax[0].set_title(\"Model loss\")\n",
    "ax[0].set_xlabel(\"Epoch\")\n",
    "ax[0].set_ylabel(\"Loss\")\n",
    "ax[0].set_xticks(np.arange(num_epochs))\n",
    "ax[0].legend()\n",
    "\n",
    "ax[1].plot(history.history['accuracy'], label='training')\n",
    "ax[1].plot(history.history['val_accuracy'], label='validation')\n",
    "ax[1].set_title(\"Model accburacy\")\n",
    "ax[1].set_xlabel(\"Epoch\")\n",
    "ax[1].set_ylabel(\"Accuracy\")\n",
    "ax[1].set_xticks(np.arange(num_epochs))\n",
    "ax[1].legend()"
   ]
  },
  {
   "cell_type": "markdown",
   "metadata": {},
   "source": [
    "The plotting function will only plot these two metrics regardless of how many other metrics we add to the model,\n",
    "but it's a starting point that can be extended as you might add more metrics."
   ]
  },
  {
   "cell_type": "code",
   "execution_count": 8,
   "metadata": {},
   "outputs": [],
   "source": [
    "# Predict on the validation set\n",
    "pred = model.predict([normalize_image_data(rimages)])\n",
    "# Convert sigmoid values from prediction to integers so it works with the function.\n",
    "result = pred > 0.5"
   ]
  },
  {
   "cell_type": "markdown",
   "metadata": {},
   "source": [
    "## Collection of metrics\n",
    "Check out the notebook on logistic regression for details around the metrics."
   ]
  },
  {
   "cell_type": "code",
   "execution_count": 9,
   "metadata": {},
   "outputs": [],
   "source": [
    "accuracy = accuracy_score(rlabels, result)\n",
    "confmat = confusion_matrix(rlabels, result)\n",
    "f1 = f1_score(rlabels, result)\n",
    "mcc = matthews_corrcoef(rlabels, result)"
   ]
  },
  {
   "cell_type": "code",
   "execution_count": 10,
   "metadata": {},
   "outputs": [
    {
     "name": "stdout",
     "output_type": "stream",
     "text": [
      "Confusion matrix:\n",
      " [[12924 87076]\n",
      " [  745 99255]]\n",
      "Accuracy: 0.560895\n",
      "F1-score: 0.693288536693547\n",
      "MCC: 0.24132410341740548\n"
     ]
    }
   ],
   "source": [
    "# Print the metrics in an orderly fashion\n",
    "print(\"Confusion matrix:\\n\", confmat)\n",
    "print(\"Accuracy:\", accuracy)\n",
    "print(\"F1-score:\", f1)\n",
    "print(\"MCC:\", mcc)"
   ]
  },
  {
   "cell_type": "markdown",
   "metadata": {},
   "source": [
    "## ROC-Curve and Area Under Curve"
   ]
  },
  {
   "cell_type": "code",
   "execution_count": 11,
   "metadata": {},
   "outputs": [
    {
     "data": {
      "image/png": "[encoded data removed]",
      "text/plain": [
       "<Figure size 432x288 with 1 Axes>"
      ]
     },
     "metadata": {
      "needs_background": "light"
     },
     "output_type": "display_data"
    }
   ],
   "source": [
    "# Use the function we saved from the notebook on logistic regression\n",
    "plot_roc_auc(rlabels, pred)"
   ]
  }
 ],
 "metadata": {
  "hide_input": false,
  "kernelspec": {
   "display_name": "Python 3",
   "language": "python",
   "name": "python3"
  },
  "language_info": {
   "codemirror_mode": {
    "name": "ipython",
    "version": 3
   },
   "file_extension": ".py",
   "mimetype": "text/x-python",
   "name": "python",
   "nbconvert_exporter": "python",
   "pygments_lexer": "ipython3",
   "version": "3.8.5"
  },
  "toc": {
   "base_numbering": 1,
   "nav_menu": {},
   "number_sections": true,
   "sideBar": true,
   "skip_h1_title": false,
   "title_cell": "Table of Contents",
   "title_sidebar": "Contents",
   "toc_cell": false,
   "toc_position": {},
   "toc_section_display": true,
   "toc_window_display": false
  }
 },
 "nbformat": 4,
 "nbformat_minor": 4
}
