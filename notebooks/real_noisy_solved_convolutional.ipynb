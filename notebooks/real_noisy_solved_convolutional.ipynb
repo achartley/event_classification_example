{
 "cells": [
  {
   "cell_type": "markdown",
   "metadata": {},
   "source": [
    "# Classifying simulated events using a Convolutional Neural Network\n",
    "We've seen how we can use logistig regression or feed forward neural networks (FFNN) to classify our data,\n",
    "and now you've also been introduced to what a convolutional neural network is.\n",
    "In this notebook, we're going to use a convolutional neural network (CNN) to classify our data,\n",
    "and even combine CNN and FFNN to expand our model."
   ]
  },
  {
   "cell_type": "code",
   "execution_count": 1,
   "metadata": {},
   "outputs": [],
   "source": [
    "# Imports\n",
    "import numpy as np\n",
    "import matplotlib.pyplot as plt\n",
    "import seaborn as sns\n",
    "import tensorflow as tf\n",
    "from sklearn.model_selection import train_test_split\n",
    "from helper_functions import normalize_image_data\n",
    "from sklearn.metrics import (accuracy_score, confusion_matrix, f1_score, \n",
    "                             matthews_corrcoef, roc_curve, roc_auc_score)\n",
    "from helper_functions import normalize_image_data, plot_roc_auc, noise_gen\n",
    "%load_ext autoreload\n",
    "%autoreload 2"
   ]
  },
  {
   "cell_type": "code",
   "execution_count": 2,
   "metadata": {},
   "outputs": [],
   "source": [
    "# Load images and labels.\n",
    "DATA_PATH = \"../data/\"\n",
    "\n",
    "images = np.load(DATA_PATH+\"nimages_training.npy\")\n",
    "labels = np.load(DATA_PATH+\"labels_training.npy\")\n",
    "\n",
    "rimages = np.load(DATA_PATH+\"images_200k.npy\")\n",
    "rlabels = np.load(DATA_PATH+\"labels_200k.npy\")"
   ]
  },
  {
   "cell_type": "markdown",
   "metadata": {},
   "source": [
    "# Introduction\n",
    "The motivation for uing a CNN to classify this data comes from their huge success in image classification\n",
    "tasks in recent years. Since we can very easily (and even preferably) represent our data as images, it\n",
    "is a natural choice to try a model of this type.\n",
    "This notebook will be a bit more hands-on than the previous ones.\n",
    "\n",
    "You may recall from the lectures that one of the properties of CNNs is that they use 'filters'/'kernels' to\n",
    "extract 'features' from images. But how can we know what type of filters to apply? The answer is - we don't need to! Similar to how a FFNN adjusts its weights in order to increase performance, a CNN adjusts its filters and in that way 'learns' the best filters for a given task.\n",
    "\n",
    "Some very useful documentation to keep at hand while working through this notebook:\n",
    "* [tensorflow.keras.layers](https://www.tensorflow.org/api_docs/python/tf/keras/layers)\n",
    "* [Scikit-Learn model evaluation](https://scikit-learn.org/stable/modules/model_evaluation.html)\n"
   ]
  },
  {
   "cell_type": "markdown",
   "metadata": {},
   "source": [
    "## Data preparation\n",
    "Recall that when we saved our training samples in the import and exploration notebook,\n",
    "we saved the images as an array with the following dimensions (samples, x_pixels, y_pixels).\n",
    "This isn't necessarily a format the convolutional layer will accept, because by default image data\n",
    "has one more dimension - \"channels\". A single image would have the dimensions (x_pixels, y_pixels, channels).\n",
    "For a regular RGB picture this is (x_pixels, y_pixels, 3), since you have one channel for each color.\n",
    "Our data only has one channel, which in a world of colours would be called \"grayscale\".\n",
    "\n",
    "The convolutional layer we will use in our model is called Conv2D ([Doc](https://www.tensorflow.org/api_docs/python/tf/keras/layers/Conv2D)). Take a look at the documentation to determine if you need to modify the image array in order to input it to the layer.\n",
    "\n",
    "Recall that you can use [np.reshape](https://numpy.org/doc/stable/reference/generated/numpy.reshape.html) to modify your array should you need to."
   ]
  },
  {
   "cell_type": "code",
   "execution_count": 3,
   "metadata": {},
   "outputs": [],
   "source": [
    "# Reshape the image array here, if you need to\n",
    "images = np.reshape(images, (images.shape[0], 16, 16, 1))\n",
    "rimages = np.reshape(rimages, (rimages.shape[0], 16, 16, 1))"
   ]
  },
  {
   "cell_type": "markdown",
   "metadata": {},
   "source": [
    "One thing that can be useful to check is if we actually saved a balanced dataset. The data is shuffled\n",
    "when scikit-learn's train_test_split function splits it, so it's not guaranteed. Remember that if you\n",
    "don't have a balanced dataset, you need to account for this when concidering which metrics to use\n",
    "in evaluating your model.\n",
    "\n",
    "Numpy's [np.unique](https://numpy.org/doc/1.18/reference/generated/numpy.unique.html?) works great for this."
   ]
  },
  {
   "cell_type": "code",
   "execution_count": 4,
   "metadata": {},
   "outputs": [
    {
     "name": "stdout",
     "output_type": "stream",
     "text": [
      "(array([0, 1]), array([4051, 3949], dtype=int64))\n",
      "(array([0, 1], dtype=int64), array([100000, 100000], dtype=int64))\n"
     ]
    }
   ],
   "source": [
    "# Count how many there are of each class and print the results\n",
    "unique = np.unique(labels, return_counts=True)\n",
    "runique = np.unique(rlabels, return_counts=True)\n",
    "print(unique)\n",
    "print(runique)"
   ]
  },
  {
   "cell_type": "markdown",
   "metadata": {},
   "source": [
    "Lastly, we split the training data into a training set and a validation set, using indices.\n",
    "Working with only 10000 you can also split the image array itself.\n",
    "As in the previous notebooks, [Scikit-Learn's train_test_split](https://scikit-learn.org/stable/modules/generated/sklearn.model_selection.train_test_split.html) will do the job."
   ]
  },
  {
   "cell_type": "code",
   "execution_count": 5,
   "metadata": {},
   "outputs": [],
   "source": [
    "# Split the data into training and validation sets\n",
    "x_train, x_test, y_train, y_test = train_test_split(images, labels)\n"
   ]
  },
  {
   "cell_type": "markdown",
   "metadata": {},
   "source": [
    "# Model\n",
    "Having a common API for machine learning operations between multiple frameworks is great.\n",
    "It means you don't need to re-learn how to build a model every time you want to try out something new!\n",
    "Using the [Sequential](https://www.tensorflow.org/api_docs/python/tf/keras/Sequential) model, you simply\n",
    "add each layer in the order you want, and compile it. Tensorflow takes care of everything."
   ]
  },
  {
   "cell_type": "markdown",
   "metadata": {},
   "source": [
    "## Build and compile\n",
    "We're going to start with just one layer. Take another look at the [documentation](https://www.tensorflow.org/api_docs/python/tf/keras/layers/Conv2D) to see all the configuration options for the Conv2D layer. As a first step we will stick to defining only the necessary arguments to the layer,\n",
    "leaving the rest as default."
   ]
  },
  {
   "cell_type": "code",
   "execution_count": 6,
   "metadata": {
    "scrolled": true
   },
   "outputs": [
    {
     "name": "stdout",
     "output_type": "stream",
     "text": [
      "Model: \"sequential\"\n",
      "_________________________________________________________________\n",
      "Layer (type)                 Output Shape              Param #   \n",
      "=================================================================\n",
      "conv2d (Conv2D)              (None, 14, 14, 32)        320       \n",
      "_________________________________________________________________\n",
      "max_pooling2d (MaxPooling2D) (None, 7, 7, 32)          0         \n",
      "_________________________________________________________________\n",
      "conv2d_1 (Conv2D)            (None, 5, 5, 32)          9248      \n",
      "_________________________________________________________________\n",
      "flatten (Flatten)            (None, 800)               0         \n",
      "_________________________________________________________________\n",
      "dense (Dense)                (None, 1)                 801       \n",
      "=================================================================\n",
      "Total params: 10,369\n",
      "Trainable params: 10,369\n",
      "Non-trainable params: 0\n",
      "_________________________________________________________________\n"
     ]
    }
   ],
   "source": [
    "# Initialize the Sequential model, and add one Conv2D layer to it\n",
    "model = tf.keras.Sequential()\n",
    "model.add(tf.keras.layers.Conv2D(\n",
    "        filters=32,\n",
    "        kernel_size=3,\n",
    "        activation='relu',\n",
    "        input_shape=images.shape[1:] # Shape of a single image\n",
    "    )\n",
    ")\n",
    "model.add(tf.keras.layers.MaxPool2D(2,2))\n",
    "model.add(tf.keras.layers.Conv2D(32, 3, activation='relu'))\n",
    "\n",
    "\n",
    "# Add an output layer to the model\n",
    "# Recall the shape of the input to a dense neural network.\n",
    "# What is the shape of the output from the Conv2D layer?\n",
    "model.add(tf.keras.layers.Flatten())\n",
    "model.add(tf.keras.layers.Dense(1, activation='sigmoid'))\n",
    "\n",
    "\n",
    "# Once the model is defined, we need to compile it. \n",
    "# This is where we specify the loss function, optimizer, and metrics if we want.\n",
    "model.compile(\n",
    "    optimizer='adam',\n",
    "    loss='binary_crossentropy',\n",
    "    metrics=['accuracy']\n",
    ")\n",
    "model.summary()"
   ]
  },
  {
   "cell_type": "markdown",
   "metadata": {},
   "source": [
    "## Training\n",
    "We are ready to train the model. Remember to normalize your inputs if you haven't already done that!\n",
    "You can specify the validation data using the keyword 'validation_data'. Take a look at the [documentation](https://www.tensorflow.org/api_docs/python/tf/keras/Sequential#fit) for the fit() function to see how it\n",
    "expect the validation to be formatted."
   ]
  },
  {
   "cell_type": "code",
   "execution_count": 7,
   "metadata": {},
   "outputs": [],
   "source": [
    "# Training parameters\n",
    "batch_size = 32\n",
    "epochs = 50"
   ]
  },
  {
   "cell_type": "code",
   "execution_count": 8,
   "metadata": {},
   "outputs": [
    {
     "name": "stdout",
     "output_type": "stream",
     "text": [
      "Epoch 1/100\n",
      "188/188 [==============================] - 1s 6ms/step - loss: 0.6331 - accuracy: 0.6390 - val_loss: 0.5663 - val_accuracy: 0.7065\n",
      "Epoch 2/100\n",
      "188/188 [==============================] - 1s 5ms/step - loss: 0.5417 - accuracy: 0.7178 - val_loss: 0.5106 - val_accuracy: 0.7465\n",
      "Epoch 3/100\n",
      "188/188 [==============================] - 1s 5ms/step - loss: 0.4972 - accuracy: 0.7568 - val_loss: 0.4808 - val_accuracy: 0.7490\n",
      "Epoch 4/100\n",
      "188/188 [==============================] - 1s 5ms/step - loss: 0.4723 - accuracy: 0.7737 - val_loss: 0.4420 - val_accuracy: 0.7985\n",
      "Epoch 5/100\n",
      "188/188 [==============================] - 1s 5ms/step - loss: 0.4523 - accuracy: 0.7840 - val_loss: 0.4342 - val_accuracy: 0.7705\n",
      "Epoch 6/100\n",
      "188/188 [==============================] - ETA: 0s - loss: 0.4385 - accuracy: 0.78 - 1s 5ms/step - loss: 0.4375 - accuracy: 0.7875 - val_loss: 0.4097 - val_accuracy: 0.8170\n",
      "Epoch 7/100\n",
      "188/188 [==============================] - 1s 5ms/step - loss: 0.4131 - accuracy: 0.8150 - val_loss: 0.4170 - val_accuracy: 0.7805\n",
      "Epoch 8/100\n",
      "188/188 [==============================] - 1s 5ms/step - loss: 0.4033 - accuracy: 0.8190 - val_loss: 0.4148 - val_accuracy: 0.8340\n",
      "Epoch 9/100\n",
      "188/188 [==============================] - 1s 5ms/step - loss: 0.3936 - accuracy: 0.8268 - val_loss: 0.4279 - val_accuracy: 0.8200\n",
      "Epoch 10/100\n",
      "188/188 [==============================] - 1s 5ms/step - loss: 0.3946 - accuracy: 0.8317 - val_loss: 0.3706 - val_accuracy: 0.8460\n",
      "Epoch 11/100\n",
      "188/188 [==============================] - 1s 5ms/step - loss: 0.3705 - accuracy: 0.8457 - val_loss: 0.3663 - val_accuracy: 0.8575\n",
      "Epoch 12/100\n",
      "188/188 [==============================] - 1s 5ms/step - loss: 0.3700 - accuracy: 0.8462 - val_loss: 0.3561 - val_accuracy: 0.8545\n",
      "Epoch 13/100\n",
      "188/188 [==============================] - 1s 5ms/step - loss: 0.3587 - accuracy: 0.8487 - val_loss: 0.3510 - val_accuracy: 0.8575\n",
      "Epoch 14/100\n",
      "188/188 [==============================] - 1s 5ms/step - loss: 0.3565 - accuracy: 0.8505 - val_loss: 0.3500 - val_accuracy: 0.8595\n",
      "Epoch 15/100\n",
      "188/188 [==============================] - 1s 5ms/step - loss: 0.3478 - accuracy: 0.8535 - val_loss: 0.3444 - val_accuracy: 0.8670\n",
      "Epoch 16/100\n",
      "188/188 [==============================] - 1s 5ms/step - loss: 0.3395 - accuracy: 0.8605 - val_loss: 0.3402 - val_accuracy: 0.8640\n",
      "Epoch 17/100\n",
      "188/188 [==============================] - 1s 6ms/step - loss: 0.3416 - accuracy: 0.8583 - val_loss: 0.3397 - val_accuracy: 0.8535\n",
      "Epoch 18/100\n",
      "188/188 [==============================] - 1s 5ms/step - loss: 0.3368 - accuracy: 0.8607 - val_loss: 0.3326 - val_accuracy: 0.8675\n",
      "Epoch 19/100\n",
      "188/188 [==============================] - 1s 5ms/step - loss: 0.3330 - accuracy: 0.8635 - val_loss: 0.3437 - val_accuracy: 0.8610\n",
      "Epoch 20/100\n",
      "188/188 [==============================] - 1s 5ms/step - loss: 0.3315 - accuracy: 0.8600 - val_loss: 0.3290 - val_accuracy: 0.8625\n",
      "Epoch 21/100\n",
      "188/188 [==============================] - 1s 5ms/step - loss: 0.3240 - accuracy: 0.8703 - val_loss: 0.3822 - val_accuracy: 0.8475\n",
      "Epoch 22/100\n",
      "188/188 [==============================] - 1s 5ms/step - loss: 0.3220 - accuracy: 0.8648 - val_loss: 0.3275 - val_accuracy: 0.8715\n",
      "Epoch 23/100\n",
      "188/188 [==============================] - 1s 5ms/step - loss: 0.3159 - accuracy: 0.8710 - val_loss: 0.3263 - val_accuracy: 0.8775\n",
      "Epoch 24/100\n",
      "188/188 [==============================] - 1s 5ms/step - loss: 0.3212 - accuracy: 0.8652 - val_loss: 0.3168 - val_accuracy: 0.8675\n",
      "Epoch 25/100\n",
      "188/188 [==============================] - 1s 5ms/step - loss: 0.3203 - accuracy: 0.8682 - val_loss: 0.3187 - val_accuracy: 0.8745\n",
      "Epoch 26/100\n",
      "188/188 [==============================] - 1s 5ms/step - loss: 0.3090 - accuracy: 0.8760 - val_loss: 0.3140 - val_accuracy: 0.8720\n",
      "Epoch 27/100\n",
      "188/188 [==============================] - 1s 5ms/step - loss: 0.3150 - accuracy: 0.8653 - val_loss: 0.3171 - val_accuracy: 0.8680\n",
      "Epoch 28/100\n",
      "188/188 [==============================] - 1s 5ms/step - loss: 0.3082 - accuracy: 0.8765 - val_loss: 0.3170 - val_accuracy: 0.8770\n",
      "Epoch 29/100\n",
      "188/188 [==============================] - 1s 5ms/step - loss: 0.3044 - accuracy: 0.8753 - val_loss: 0.3378 - val_accuracy: 0.8470\n",
      "Epoch 30/100\n",
      "188/188 [==============================] - 1s 5ms/step - loss: 0.3028 - accuracy: 0.8798 - val_loss: 0.3507 - val_accuracy: 0.8360\n",
      "Epoch 31/100\n",
      "188/188 [==============================] - 1s 5ms/step - loss: 0.3008 - accuracy: 0.8763 - val_loss: 0.3255 - val_accuracy: 0.8595\n",
      "Epoch 32/100\n",
      "188/188 [==============================] - 1s 5ms/step - loss: 0.3044 - accuracy: 0.8773 - val_loss: 0.3267 - val_accuracy: 0.8720\n",
      "Epoch 33/100\n",
      "188/188 [==============================] - 1s 5ms/step - loss: 0.2987 - accuracy: 0.8777 - val_loss: 0.3164 - val_accuracy: 0.8675\n",
      "Epoch 34/100\n",
      "188/188 [==============================] - 1s 5ms/step - loss: 0.2963 - accuracy: 0.8805 - val_loss: 0.3075 - val_accuracy: 0.8780\n",
      "Epoch 35/100\n",
      "188/188 [==============================] - 1s 5ms/step - loss: 0.2977 - accuracy: 0.8773 - val_loss: 0.3107 - val_accuracy: 0.8760\n",
      "Epoch 36/100\n",
      "188/188 [==============================] - 1s 5ms/step - loss: 0.3062 - accuracy: 0.8772 - val_loss: 0.3039 - val_accuracy: 0.8770\n",
      "Epoch 37/100\n",
      "188/188 [==============================] - 1s 5ms/step - loss: 0.2949 - accuracy: 0.8828 - val_loss: 0.3034 - val_accuracy: 0.8765\n",
      "Epoch 38/100\n",
      "188/188 [==============================] - 1s 5ms/step - loss: 0.2951 - accuracy: 0.8792 - val_loss: 0.3051 - val_accuracy: 0.8800\n",
      "Epoch 39/100\n",
      "188/188 [==============================] - 1s 5ms/step - loss: 0.2888 - accuracy: 0.8857 - val_loss: 0.3021 - val_accuracy: 0.8790\n",
      "Epoch 40/100\n",
      "188/188 [==============================] - 1s 5ms/step - loss: 0.2861 - accuracy: 0.8863 - val_loss: 0.3169 - val_accuracy: 0.8745\n",
      "Epoch 41/100\n",
      "188/188 [==============================] - 1s 4ms/step - loss: 0.2899 - accuracy: 0.8830 - val_loss: 0.3006 - val_accuracy: 0.8805\n",
      "Epoch 42/100\n",
      "188/188 [==============================] - 1s 5ms/step - loss: 0.2967 - accuracy: 0.8792 - val_loss: 0.3001 - val_accuracy: 0.8815\n",
      "Epoch 43/100\n",
      "188/188 [==============================] - 1s 5ms/step - loss: 0.2884 - accuracy: 0.8833 - val_loss: 0.3090 - val_accuracy: 0.8730\n",
      "Epoch 44/100\n",
      "188/188 [==============================] - 1s 4ms/step - loss: 0.2881 - accuracy: 0.8865 - val_loss: 0.3025 - val_accuracy: 0.8785\n",
      "Epoch 45/100\n",
      "188/188 [==============================] - 1s 5ms/step - loss: 0.2910 - accuracy: 0.8847 - val_loss: 0.3008 - val_accuracy: 0.8825\n",
      "Epoch 46/100\n",
      "188/188 [==============================] - 1s 5ms/step - loss: 0.2885 - accuracy: 0.8803 - val_loss: 0.2994 - val_accuracy: 0.8775\n",
      "Epoch 47/100\n",
      "188/188 [==============================] - 1s 6ms/step - loss: 0.2842 - accuracy: 0.8875 - val_loss: 0.2962 - val_accuracy: 0.8835\n",
      "Epoch 48/100\n",
      "188/188 [==============================] - 1s 6ms/step - loss: 0.2864 - accuracy: 0.8820 - val_loss: 0.3313 - val_accuracy: 0.8775\n",
      "Epoch 49/100\n",
      "188/188 [==============================] - 1s 7ms/step - loss: 0.2908 - accuracy: 0.8820 - val_loss: 0.3036 - val_accuracy: 0.8820\n",
      "Epoch 50/100\n",
      "188/188 [==============================] - 1s 7ms/step - loss: 0.2888 - accuracy: 0.8793 - val_loss: 0.3118 - val_accuracy: 0.8740\n",
      "Epoch 51/100\n",
      "188/188 [==============================] - 1s 6ms/step - loss: 0.2847 - accuracy: 0.8875 - val_loss: 0.3212 - val_accuracy: 0.8660\n",
      "Epoch 52/100\n",
      "188/188 [==============================] - 1s 6ms/step - loss: 0.2903 - accuracy: 0.8825 - val_loss: 0.2981 - val_accuracy: 0.8800\n",
      "Epoch 53/100\n",
      "188/188 [==============================] - 1s 6ms/step - loss: 0.2850 - accuracy: 0.8843 - val_loss: 0.3205 - val_accuracy: 0.8830\n",
      "Epoch 54/100\n",
      "188/188 [==============================] - 1s 5ms/step - loss: 0.2857 - accuracy: 0.8815 - val_loss: 0.3058 - val_accuracy: 0.8845\n",
      "Epoch 55/100\n",
      "188/188 [==============================] - 1s 5ms/step - loss: 0.2801 - accuracy: 0.8863 - val_loss: 0.3079 - val_accuracy: 0.8825\n",
      "Epoch 56/100\n",
      "188/188 [==============================] - 1s 5ms/step - loss: 0.2813 - accuracy: 0.8880 - val_loss: 0.3198 - val_accuracy: 0.8655\n",
      "Epoch 57/100\n"
     ]
    },
    {
     "name": "stdout",
     "output_type": "stream",
     "text": [
      "188/188 [==============================] - 1s 5ms/step - loss: 0.2810 - accuracy: 0.8867 - val_loss: 0.2959 - val_accuracy: 0.8810\n",
      "Epoch 58/100\n",
      "188/188 [==============================] - 1s 5ms/step - loss: 0.2849 - accuracy: 0.8875 - val_loss: 0.3100 - val_accuracy: 0.8880\n",
      "Epoch 59/100\n",
      "188/188 [==============================] - 1s 5ms/step - loss: 0.2820 - accuracy: 0.8870 - val_loss: 0.2924 - val_accuracy: 0.8855\n",
      "Epoch 60/100\n",
      "188/188 [==============================] - 1s 5ms/step - loss: 0.2808 - accuracy: 0.8865 - val_loss: 0.3194 - val_accuracy: 0.8680\n",
      "Epoch 61/100\n",
      "188/188 [==============================] - 1s 4ms/step - loss: 0.2761 - accuracy: 0.8890 - val_loss: 0.2949 - val_accuracy: 0.8820\n",
      "Epoch 62/100\n",
      "188/188 [==============================] - 1s 5ms/step - loss: 0.2724 - accuracy: 0.8912 - val_loss: 0.3153 - val_accuracy: 0.8665\n",
      "Epoch 63/100\n",
      "188/188 [==============================] - 1s 4ms/step - loss: 0.2825 - accuracy: 0.8853 - val_loss: 0.2945 - val_accuracy: 0.8870\n",
      "Epoch 64/100\n",
      "188/188 [==============================] - 1s 4ms/step - loss: 0.2753 - accuracy: 0.8865 - val_loss: 0.3021 - val_accuracy: 0.8745\n",
      "Epoch 65/100\n",
      "188/188 [==============================] - 1s 5ms/step - loss: 0.2778 - accuracy: 0.8915 - val_loss: 0.3186 - val_accuracy: 0.8630\n",
      "Epoch 66/100\n",
      "188/188 [==============================] - 1s 5ms/step - loss: 0.2789 - accuracy: 0.8928 - val_loss: 0.2898 - val_accuracy: 0.8895\n",
      "Epoch 67/100\n",
      "188/188 [==============================] - 1s 5ms/step - loss: 0.2793 - accuracy: 0.8865 - val_loss: 0.3012 - val_accuracy: 0.8830\n",
      "Epoch 68/100\n",
      "188/188 [==============================] - 1s 4ms/step - loss: 0.2755 - accuracy: 0.8877 - val_loss: 0.3426 - val_accuracy: 0.8445\n",
      "Epoch 69/100\n",
      "188/188 [==============================] - 1s 5ms/step - loss: 0.2746 - accuracy: 0.8868 - val_loss: 0.2991 - val_accuracy: 0.8745\n",
      "Epoch 70/100\n",
      "188/188 [==============================] - 1s 4ms/step - loss: 0.2739 - accuracy: 0.8880 - val_loss: 0.2968 - val_accuracy: 0.8800\n",
      "Epoch 71/100\n",
      "188/188 [==============================] - 1s 5ms/step - loss: 0.2675 - accuracy: 0.8943 - val_loss: 0.2936 - val_accuracy: 0.8860\n",
      "Epoch 72/100\n",
      "188/188 [==============================] - 1s 5ms/step - loss: 0.2722 - accuracy: 0.8945 - val_loss: 0.3166 - val_accuracy: 0.8640\n",
      "Epoch 73/100\n",
      "188/188 [==============================] - 1s 5ms/step - loss: 0.2827 - accuracy: 0.8867 - val_loss: 0.2875 - val_accuracy: 0.8910\n",
      "Epoch 74/100\n",
      "188/188 [==============================] - 1s 5ms/step - loss: 0.2717 - accuracy: 0.8918 - val_loss: 0.3309 - val_accuracy: 0.8520\n",
      "Epoch 75/100\n",
      "188/188 [==============================] - 1s 4ms/step - loss: 0.2744 - accuracy: 0.8877 - val_loss: 0.3043 - val_accuracy: 0.8730\n",
      "Epoch 76/100\n",
      "188/188 [==============================] - 1s 5ms/step - loss: 0.2690 - accuracy: 0.8923 - val_loss: 0.2860 - val_accuracy: 0.8950\n",
      "Epoch 77/100\n",
      "188/188 [==============================] - ETA: 0s - loss: 0.2683 - accuracy: 0.89 - 1s 5ms/step - loss: 0.2681 - accuracy: 0.8928 - val_loss: 0.2968 - val_accuracy: 0.8895\n",
      "Epoch 78/100\n",
      "188/188 [==============================] - 1s 5ms/step - loss: 0.2657 - accuracy: 0.8933 - val_loss: 0.3035 - val_accuracy: 0.8735\n",
      "Epoch 79/100\n",
      "188/188 [==============================] - 1s 5ms/step - loss: 0.2752 - accuracy: 0.8923 - val_loss: 0.3170 - val_accuracy: 0.8845\n",
      "Epoch 80/100\n",
      "188/188 [==============================] - 1s 4ms/step - loss: 0.2634 - accuracy: 0.8965 - val_loss: 0.2889 - val_accuracy: 0.8855\n",
      "Epoch 81/100\n",
      "188/188 [==============================] - 1s 6ms/step - loss: 0.2622 - accuracy: 0.8942 - val_loss: 0.3006 - val_accuracy: 0.8905\n",
      "Epoch 82/100\n",
      "188/188 [==============================] - 1s 5ms/step - loss: 0.2681 - accuracy: 0.8925 - val_loss: 0.3062 - val_accuracy: 0.8875\n",
      "Epoch 83/100\n",
      "188/188 [==============================] - 1s 5ms/step - loss: 0.2715 - accuracy: 0.8913 - val_loss: 0.2946 - val_accuracy: 0.8920\n",
      "Epoch 84/100\n",
      "188/188 [==============================] - 1s 4ms/step - loss: 0.2666 - accuracy: 0.8938 - val_loss: 0.2900 - val_accuracy: 0.8850\n",
      "Epoch 85/100\n",
      "188/188 [==============================] - 1s 5ms/step - loss: 0.2602 - accuracy: 0.8972 - val_loss: 0.3266 - val_accuracy: 0.8555\n",
      "Epoch 86/100\n",
      "188/188 [==============================] - 1s 4ms/step - loss: 0.2665 - accuracy: 0.8945 - val_loss: 0.2863 - val_accuracy: 0.8900\n",
      "Epoch 87/100\n",
      "188/188 [==============================] - 1s 5ms/step - loss: 0.2619 - accuracy: 0.8960 - val_loss: 0.3055 - val_accuracy: 0.8855\n",
      "Epoch 88/100\n",
      "188/188 [==============================] - 1s 5ms/step - loss: 0.2662 - accuracy: 0.8927 - val_loss: 0.2988 - val_accuracy: 0.8805\n",
      "Epoch 89/100\n",
      "188/188 [==============================] - 1s 5ms/step - loss: 0.2572 - accuracy: 0.8975 - val_loss: 0.2899 - val_accuracy: 0.8920\n",
      "Epoch 90/100\n",
      "188/188 [==============================] - 1s 5ms/step - loss: 0.2575 - accuracy: 0.9007 - val_loss: 0.3199 - val_accuracy: 0.8610\n",
      "Epoch 91/100\n",
      "188/188 [==============================] - 1s 4ms/step - loss: 0.2666 - accuracy: 0.8958 - val_loss: 0.3127 - val_accuracy: 0.8845\n",
      "Epoch 92/100\n",
      "188/188 [==============================] - 1s 5ms/step - loss: 0.2596 - accuracy: 0.8982 - val_loss: 0.3134 - val_accuracy: 0.8685\n",
      "Epoch 93/100\n",
      "188/188 [==============================] - 1s 4ms/step - loss: 0.2640 - accuracy: 0.8955 - val_loss: 0.3059 - val_accuracy: 0.8735\n",
      "Epoch 94/100\n",
      "188/188 [==============================] - 1s 5ms/step - loss: 0.2564 - accuracy: 0.8983 - val_loss: 0.3016 - val_accuracy: 0.8740\n",
      "Epoch 95/100\n",
      "188/188 [==============================] - 1s 5ms/step - loss: 0.2606 - accuracy: 0.8925 - val_loss: 0.2947 - val_accuracy: 0.8805\n",
      "Epoch 96/100\n",
      "188/188 [==============================] - 1s 5ms/step - loss: 0.2579 - accuracy: 0.8972 - val_loss: 0.2920 - val_accuracy: 0.8895\n",
      "Epoch 97/100\n",
      "188/188 [==============================] - 1s 5ms/step - loss: 0.2585 - accuracy: 0.8982 - val_loss: 0.2890 - val_accuracy: 0.8910\n",
      "Epoch 98/100\n",
      "188/188 [==============================] - 1s 6ms/step - loss: 0.2579 - accuracy: 0.8968 - val_loss: 0.2912 - val_accuracy: 0.8910\n",
      "Epoch 99/100\n",
      "188/188 [==============================] - 1s 5ms/step - loss: 0.2590 - accuracy: 0.8977 - val_loss: 0.3052 - val_accuracy: 0.8755\n",
      "Epoch 100/100\n",
      "188/188 [==============================] - 1s 5ms/step - loss: 0.2542 - accuracy: 0.8983 - val_loss: 0.2972 - val_accuracy: 0.8825\n"
     ]
    }
   ],
   "source": [
    "training_output = model.fit(\n",
    "    x=normalize_image_data(x_train),\n",
    "    y=y_train,\n",
    "    validation_data=(normalize_image_data(x_test), y_test),\n",
    "    batch_size=batch_size,\n",
    "    epochs=epochs,\n",
    ")"
   ]
  },
  {
   "cell_type": "code",
   "execution_count": 9,
   "metadata": {
    "scrolled": true
   },
   "outputs": [
    {
     "data": {
      "text/plain": [
       "<matplotlib.legend.Legend at 0x14dbd248760>"
      ]
     },
     "execution_count": 9,
     "metadata": {},
     "output_type": "execute_result"
    },
    {
     "data": {
      "image/png": "[encoded data removed]",
      "text/plain": [
       "<Figure size 864x288 with 2 Axes>"
      ]
     },
     "metadata": {
      "needs_background": "light"
     },
     "output_type": "display_data"
    }
   ],
   "source": [
    "# Side by side plots of losses and accuracies\n",
    "history = training_output.history\n",
    "fig, ax = plt.subplots(1, 2, figsize=(12, 4))\n",
    "ax[0].plot(history['loss'], label='training')\n",
    "ax[0].plot(history['val_loss'], label='validation')\n",
    "ax[0].set_title(\"Model losses\")\n",
    "ax[0].set_xlabel(\"Epoch\")\n",
    "ax[0].set_ylabel(\"Loss\")\n",
    "ax[0].legend()\n",
    "\n",
    "ax[1].plot(history['accuracy'], label='training')\n",
    "ax[1].plot(history['val_accuracy'], label='validation')\n",
    "ax[1].set_title(\"Model accuracy\")\n",
    "ax[1].set_xlabel(\"Epoch\")\n",
    "ax[1].set_ylabel(\"Accuracy\")\n",
    "ax[1].legend()"
   ]
  },
  {
   "cell_type": "code",
   "execution_count": 10,
   "metadata": {},
   "outputs": [
    {
     "name": "stdout",
     "output_type": "stream",
     "text": [
      "Confusion matrix:\n",
      " [[17433 82567]\n",
      " [  326 99674]]\n",
      "Accuracy: 0.585535\n",
      "F1-score: 0.7063041868474106\n",
      "MCC: 0.3007056282981452\n"
     ]
    },
    {
     "data": {
      "image/png": "[encoded data removed]",
      "text/plain": [
       "<Figure size 432x288 with 1 Axes>"
      ]
     },
     "metadata": {
      "needs_background": "light"
     },
     "output_type": "display_data"
    }
   ],
   "source": [
    "# Predict on the validation set\n",
    "pred = model.predict([normalize_image_data(rimages)])\n",
    "# Convert sigmoid values from prediction to integers so it works with the function.\n",
    "result = pred > 0.5\n",
    "\n",
    "accuracy = accuracy_score(rlabels, result)\n",
    "confmat = confusion_matrix(rlabels, result)\n",
    "f1 = f1_score(rlabels, result)\n",
    "mcc = matthews_corrcoef(rlabels, result)\n",
    "\n",
    "# Print the metrics in an orderly fashion\n",
    "print(\"Confusion matrix:\\n\", confmat)\n",
    "print(\"Accuracy:\", accuracy)\n",
    "print(\"F1-score:\", f1)\n",
    "print(\"MCC:\", mcc)\n",
    "\n",
    "# Use the function we saved from the notebook on logistic regression\n",
    "plot_roc_auc(rlabels, pred)"
   ]
  },
  {
   "cell_type": "markdown",
   "metadata": {},
   "source": [
    "## Expand and improve the model\n",
    "Just like with a feed forward neural network, the architecture is just one of the properties\n",
    "we can tune to improve performance. If you look closer at the model.summary() printout, you can\n",
    "see that the output after the Conv2D layer has changed shape. It's no longer the same size as our\n",
    "original image. Why is this?\n",
    "\n",
    "In the introduction we mentioned that the filters/kernels in a CNN\n",
    "extract features in the images. One thing we could do, then, is to input those features to an FFNN. Just\n",
    "like in the dense_neural_network notebook.\n",
    "\n",
    "In a way we've already done this, except the dense part of our model has only one node, the output node.\n",
    "Try to add another dense layer before the output. Perhaps you have a dense model from the previous notebook\n",
    "you can weave in here?\n",
    "\n",
    "Of course, you can also add another Conv2D layer instead, or increase the number of filters.\n",
    "In between convolutional layers you can add MaxPool2D layers, and eventually you may start looking at\n",
    "regularizations like Dropout if necessary."
   ]
  },
  {
   "cell_type": "code",
   "execution_count": 11,
   "metadata": {},
   "outputs": [
    {
     "name": "stdout",
     "output_type": "stream",
     "text": [
      "Model: \"sequential_1\"\n",
      "_________________________________________________________________\n",
      "Layer (type)                 Output Shape              Param #   \n",
      "=================================================================\n",
      "conv2d_2 (Conv2D)            (None, 14, 14, 32)        320       \n",
      "_________________________________________________________________\n",
      "max_pooling2d_1 (MaxPooling2 (None, 7, 7, 32)          0         \n",
      "_________________________________________________________________\n",
      "conv2d_3 (Conv2D)            (None, 5, 5, 32)          9248      \n",
      "_________________________________________________________________\n",
      "flatten_1 (Flatten)          (None, 800)               0         \n",
      "_________________________________________________________________\n",
      "dense_1 (Dense)              (None, 128)               102528    \n",
      "_________________________________________________________________\n",
      "dense_2 (Dense)              (None, 1)                 129       \n",
      "=================================================================\n",
      "Total params: 112,225\n",
      "Trainable params: 112,225\n",
      "Non-trainable params: 0\n",
      "_________________________________________________________________\n"
     ]
    }
   ],
   "source": [
    "# Initialize the Sequential model, and add one Conv2D layer to it\n",
    "model = tf.keras.Sequential()\n",
    "model.add(tf.keras.layers.Conv2D(\n",
    "        filters=32,\n",
    "        kernel_size=3,\n",
    "        activation='relu',\n",
    "        input_shape=images.shape[1:] # Shape of a single image\n",
    "    )\n",
    ")\n",
    "model.add(tf.keras.layers.MaxPool2D(2,2))\n",
    "model.add(tf.keras.layers.Conv2D(32, 3, activation='relu'))\n",
    "\n",
    "\n",
    "# Add an output layer to the model\n",
    "# Recall the shape of the input to a dense neural network.\n",
    "# What is the shape of the output from the Conv2D layer?\n",
    "model.add(tf.keras.layers.Flatten())\n",
    "model.add(tf.keras.layers.Dense(128, activation='relu'))\n",
    "model.add(tf.keras.layers.Dense(1, activation='sigmoid'))\n",
    "\n",
    "\n",
    "# Once the model is defined, we need to compile it. \n",
    "# This is where we specify the loss function, optimizer, and metrics if we want.\n",
    "model.compile(\n",
    "    optimizer='adam',\n",
    "    loss='binary_crossentropy',\n",
    "    metrics=['accuracy']\n",
    ")\n",
    "model.summary()"
   ]
  }
 ],
 "metadata": {
  "hide_input": false,
  "kernelspec": {
   "display_name": "Python 3",
   "language": "python",
   "name": "python3"
  },
  "language_info": {
   "codemirror_mode": {
    "name": "ipython",
    "version": 3
   },
   "file_extension": ".py",
   "mimetype": "text/x-python",
   "name": "python",
   "nbconvert_exporter": "python",
   "pygments_lexer": "ipython3",
   "version": "3.8.5"
  },
  "latex_envs": {
   "LaTeX_envs_menu_present": true,
   "autoclose": false,
   "autocomplete": true,
   "bibliofile": "biblio.bib",
   "cite_by": "apalike",
   "current_citInitial": 1,
   "eqLabelWithNumbers": true,
   "eqNumInitial": 1,
   "hotkeys": {
    "equation": "Ctrl-E",
    "itemize": "Ctrl-I"
   },
   "labels_anchors": false,
   "latex_user_defs": false,
   "report_style_numbering": false,
   "user_envs_cfg": false
  },
  "toc": {
   "base_numbering": 1,
   "nav_menu": {},
   "number_sections": true,
   "sideBar": true,
   "skip_h1_title": false,
   "title_cell": "Table of Contents",
   "title_sidebar": "Contents",
   "toc_cell": false,
   "toc_position": {},
   "toc_section_display": true,
   "toc_window_display": false
  }
 },
 "nbformat": 4,
 "nbformat_minor": 4
}
