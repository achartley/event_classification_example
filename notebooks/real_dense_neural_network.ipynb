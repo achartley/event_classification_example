{
 "cells": [
  {
   "cell_type": "markdown",
   "metadata": {},
   "source": [
    "# Classification using dense neural network (fully connected)\n",
    "For this exercise we'll be using [Keras](https://keras.io/).. In addition you need either [TensorFlow](https://www.tensorflow.org/) or [PyTorch](https://pytorch.org/)\n",
    "as the underlying framework. Or, you can also continue with scikit-learn, which also has dense / fully connected networks implemented."
   ]
  },
  {
   "cell_type": "markdown",
   "metadata": {},
   "source": [
    "## Normalization of image data\n",
    "We apply the same normalization as for logistic regression. Recall that we have saved this function in a file\n",
    "called `helper_functions.py`, and can import and use it directly from there."
   ]
  },
  {
   "cell_type": "markdown",
   "metadata": {},
   "source": [
    "## Numpy approach"
   ]
  },
  {
   "cell_type": "code",
   "execution_count": 1,
   "metadata": {},
   "outputs": [],
   "source": [
    "# Imports\n",
    "import numpy as np\n",
    "import matplotlib.pyplot as plt\n",
    "from keras.models import Sequential\n",
    "from keras.layers import Dense, InputLayer\n",
    "from sklearn.model_selection import train_test_split\n",
    "from sklearn.metrics import (accuracy_score, confusion_matrix, f1_score, \n",
    "                             matthews_corrcoef, roc_curve, roc_auc_score)\n",
    "from helper_functions import normalize_image_data, plot_roc_auc, noise_gen\n",
    "from timeit import default_timer as timer\n",
    "\n",
    "%load_ext autoreload\n",
    "%autoreload 2"
   ]
  },
  {
   "cell_type": "code",
   "execution_count": 2,
   "metadata": {},
   "outputs": [],
   "source": [
    "# Load images and labels.\n",
    "DATA_PATH = \"../data/\"\n",
    "\n",
    "images = np.load(DATA_PATH+\"images_training.npy\")\n",
    "labels = np.load(DATA_PATH+\"labels_training.npy\")\n",
    "\n",
    "rimages = np.load(DATA_PATH+\"images_200k.npy\")\n",
    "rlabels = np.load(DATA_PATH+\"labels_200k.npy\")\n",
    "\n",
    "\n",
    "# Just like with logistic regression, we need to reshape the images to\n",
    "# be one-dimensional for the input to the model.\n",
    "images = images.reshape(images.shape[0], 256)\n",
    "rimages = rimages.reshape(rimages.shape[0], 256)\n",
    "\n",
    "\n",
    "# Split the training indices into training and validation. \n",
    "# Validate with 25% of the data (default). Can be adjusted.\n",
    "x_idx = np.arange(images.shape[0])\n",
    "train_idx, val_idx, not_used1, not_used2 = train_test_split(x_idx, x_idx, test_size = 0.25)"
   ]
  },
  {
   "cell_type": "markdown",
   "metadata": {},
   "source": [
    "### Build a model\n",
    "We're going to start off with a simple feed-forward neural network one hidden layer. This is a binary classifier, so\n",
    "we techincally only need it to output one number.\n",
    "\n",
    "What about the number of nodes in the hidden input layer?\n",
    "The top post in [this](https://stats.stackexchange.com/questions/181/how-to-choose-the-number-of-hidden-layers-and-nodes-in-a-feedforward-neural-netw) stackexchange question points to some good sources of information about this.\n",
    "\n",
    "> There are some empirically-derived rules-of-thumb, of these, the most commonly relied on is 'the optimal size of the hidden layer is usually between the size of the input and size of the output layers'\n",
    "(Jeff Heaton, author of [Introduction to Neural Networks in Java](https://www.heatonresearch.com/book/) offers a few more.)"
   ]
  },
  {
   "cell_type": "code",
   "execution_count": 3,
   "metadata": {},
   "outputs": [
    {
     "name": "stdout",
     "output_type": "stream",
     "text": [
      "Model: \"sequential\"\n",
      "_________________________________________________________________\n",
      "Layer (type)                 Output Shape              Param #   \n",
      "=================================================================\n",
      "dense (Dense)                (None, 64)                16448     \n",
      "_________________________________________________________________\n",
      "dense_1 (Dense)              (None, 1)                 65        \n",
      "=================================================================\n",
      "Total params: 16,513\n",
      "Trainable params: 16,513\n",
      "Non-trainable params: 0\n",
      "_________________________________________________________________\n"
     ]
    }
   ],
   "source": [
    "# Init the Sequential model\n",
    "model = Sequential()\n",
    "# Add Input layer\n",
    "model.add(InputLayer(input_shape=(images.shape[1],)))\n",
    "\n",
    "# Add hidden layer\n",
    "model.add(Dense(64, activation='relu'))\n",
    "\n",
    "# Add output layer.\n",
    "model.add(Dense(1, activation='sigmoid'))\n",
    "\n",
    "# Finally, compile the model and print a summary. Loss function and optimizer is set during compilation.\n",
    "model.compile(\n",
    "    loss='binary_crossentropy',\n",
    "    optimizer='adam',\n",
    "    metrics=['accuracy']\n",
    ")\n",
    "model.summary()"
   ]
  },
  {
   "cell_type": "markdown",
   "metadata": {},
   "source": [
    "### Train the model\n",
    "The fit() function returns a history object that we'll store to plot how the training developed with epochs.\n",
    "First we need to set som training parameters.\n",
    "\n",
    "Note that if you would like to change something about the the model and run training again, you must\n",
    "re-compile the model. Otherwise you will essentially just be doubling the number of epochs."
   ]
  },
  {
   "cell_type": "code",
   "execution_count": 4,
   "metadata": {},
   "outputs": [],
   "source": [
    "# Set parameters for the training run. For the small set of 10k events you can probably get \n",
    "# away with even 100 epochs in a fairly small time, depending on your CPU.\n",
    "epochs = 100\n",
    "batch_size = 32"
   ]
  },
  {
   "cell_type": "code",
   "execution_count": 5,
   "metadata": {
    "scrolled": true
   },
   "outputs": [
    {
     "name": "stdout",
     "output_type": "stream",
     "text": [
      "Epoch 1/100\n",
      "188/188 [==============================] - 0s 2ms/step - loss: 0.5945 - accuracy: 0.6643 - val_loss: 0.5312 - val_accuracy: 0.7095\n",
      "Epoch 2/100\n",
      "188/188 [==============================] - 0s 1ms/step - loss: 0.4928 - accuracy: 0.7428 - val_loss: 0.5132 - val_accuracy: 0.7210\n",
      "Epoch 3/100\n",
      "188/188 [==============================] - 0s 1ms/step - loss: 0.4740 - accuracy: 0.7552 - val_loss: 0.4971 - val_accuracy: 0.7360\n",
      "Epoch 4/100\n",
      "188/188 [==============================] - 0s 1ms/step - loss: 0.4615 - accuracy: 0.7663 - val_loss: 0.5016 - val_accuracy: 0.7255\n",
      "Epoch 5/100\n",
      "188/188 [==============================] - 0s 1ms/step - loss: 0.4498 - accuracy: 0.7738 - val_loss: 0.4798 - val_accuracy: 0.7380\n",
      "Epoch 6/100\n",
      "188/188 [==============================] - 0s 1ms/step - loss: 0.4364 - accuracy: 0.7883 - val_loss: 0.4667 - val_accuracy: 0.7460\n",
      "Epoch 7/100\n",
      "188/188 [==============================] - 0s 1ms/step - loss: 0.4212 - accuracy: 0.7995 - val_loss: 0.4432 - val_accuracy: 0.7720\n",
      "Epoch 8/100\n",
      "188/188 [==============================] - 0s 1ms/step - loss: 0.4082 - accuracy: 0.8090 - val_loss: 0.4314 - val_accuracy: 0.7750\n",
      "Epoch 9/100\n",
      "188/188 [==============================] - 0s 1ms/step - loss: 0.3939 - accuracy: 0.8213 - val_loss: 0.4135 - val_accuracy: 0.7930\n",
      "Epoch 10/100\n",
      "188/188 [==============================] - 0s 1ms/step - loss: 0.3801 - accuracy: 0.8348 - val_loss: 0.4051 - val_accuracy: 0.7935\n",
      "Epoch 11/100\n",
      "188/188 [==============================] - 0s 1ms/step - loss: 0.3670 - accuracy: 0.8418 - val_loss: 0.4065 - val_accuracy: 0.7965\n",
      "Epoch 12/100\n",
      "188/188 [==============================] - 0s 1ms/step - loss: 0.3542 - accuracy: 0.8553 - val_loss: 0.3794 - val_accuracy: 0.8145\n",
      "Epoch 13/100\n",
      "188/188 [==============================] - 0s 1ms/step - loss: 0.3431 - accuracy: 0.8613 - val_loss: 0.3940 - val_accuracy: 0.7985\n",
      "Epoch 14/100\n",
      "188/188 [==============================] - 0s 1ms/step - loss: 0.3305 - accuracy: 0.8685 - val_loss: 0.3565 - val_accuracy: 0.8375\n",
      "Epoch 15/100\n",
      "188/188 [==============================] - 0s 1ms/step - loss: 0.3215 - accuracy: 0.8738 - val_loss: 0.3509 - val_accuracy: 0.8340\n",
      "Epoch 16/100\n",
      "188/188 [==============================] - 0s 1ms/step - loss: 0.3114 - accuracy: 0.8800 - val_loss: 0.3387 - val_accuracy: 0.8415\n",
      "Epoch 17/100\n",
      "188/188 [==============================] - 0s 1ms/step - loss: 0.3036 - accuracy: 0.8820 - val_loss: 0.3413 - val_accuracy: 0.8415\n",
      "Epoch 18/100\n",
      "188/188 [==============================] - 0s 1ms/step - loss: 0.2954 - accuracy: 0.8870 - val_loss: 0.3223 - val_accuracy: 0.8575\n",
      "Epoch 19/100\n",
      "188/188 [==============================] - 0s 1ms/step - loss: 0.2869 - accuracy: 0.8947 - val_loss: 0.3112 - val_accuracy: 0.8670\n",
      "Epoch 20/100\n",
      "188/188 [==============================] - 0s 1ms/step - loss: 0.2793 - accuracy: 0.8977 - val_loss: 0.3199 - val_accuracy: 0.8605\n",
      "Epoch 21/100\n",
      "188/188 [==============================] - 0s 1ms/step - loss: 0.2720 - accuracy: 0.8998 - val_loss: 0.3109 - val_accuracy: 0.8620\n",
      "Epoch 22/100\n",
      "188/188 [==============================] - 0s 1ms/step - loss: 0.2674 - accuracy: 0.9038 - val_loss: 0.3205 - val_accuracy: 0.8625\n",
      "Epoch 23/100\n",
      "188/188 [==============================] - 0s 1ms/step - loss: 0.2607 - accuracy: 0.9030 - val_loss: 0.2937 - val_accuracy: 0.8750\n",
      "Epoch 24/100\n",
      "188/188 [==============================] - 0s 1ms/step - loss: 0.2548 - accuracy: 0.9072 - val_loss: 0.2865 - val_accuracy: 0.8775\n",
      "Epoch 25/100\n",
      "188/188 [==============================] - 0s 1ms/step - loss: 0.2499 - accuracy: 0.9073 - val_loss: 0.3141 - val_accuracy: 0.8665\n",
      "Epoch 26/100\n",
      "188/188 [==============================] - 0s 1ms/step - loss: 0.2450 - accuracy: 0.9100 - val_loss: 0.2992 - val_accuracy: 0.8715\n",
      "Epoch 27/100\n",
      "188/188 [==============================] - 0s 1ms/step - loss: 0.2398 - accuracy: 0.9118 - val_loss: 0.2863 - val_accuracy: 0.8785\n",
      "Epoch 28/100\n",
      "188/188 [==============================] - 0s 1ms/step - loss: 0.2365 - accuracy: 0.9155 - val_loss: 0.3036 - val_accuracy: 0.8645\n",
      "Epoch 29/100\n",
      "188/188 [==============================] - 0s 1ms/step - loss: 0.2313 - accuracy: 0.9143 - val_loss: 0.2793 - val_accuracy: 0.8855\n",
      "Epoch 30/100\n",
      "188/188 [==============================] - 0s 1ms/step - loss: 0.2270 - accuracy: 0.9167 - val_loss: 0.2864 - val_accuracy: 0.8795\n",
      "Epoch 31/100\n",
      "188/188 [==============================] - 0s 1ms/step - loss: 0.2247 - accuracy: 0.9160 - val_loss: 0.2793 - val_accuracy: 0.8790\n",
      "Epoch 32/100\n",
      "188/188 [==============================] - 0s 1ms/step - loss: 0.2205 - accuracy: 0.9198 - val_loss: 0.2783 - val_accuracy: 0.8770\n",
      "Epoch 33/100\n",
      "188/188 [==============================] - 0s 1ms/step - loss: 0.2165 - accuracy: 0.9200 - val_loss: 0.2842 - val_accuracy: 0.8800\n",
      "Epoch 34/100\n",
      "188/188 [==============================] - 0s 1ms/step - loss: 0.2133 - accuracy: 0.9233 - val_loss: 0.2810 - val_accuracy: 0.8805\n",
      "Epoch 35/100\n",
      "188/188 [==============================] - 0s 1ms/step - loss: 0.2107 - accuracy: 0.9250 - val_loss: 0.2553 - val_accuracy: 0.8940\n",
      "Epoch 36/100\n",
      "188/188 [==============================] - 0s 1ms/step - loss: 0.2070 - accuracy: 0.9250 - val_loss: 0.2630 - val_accuracy: 0.8895\n",
      "Epoch 37/100\n",
      "188/188 [==============================] - 0s 1ms/step - loss: 0.2047 - accuracy: 0.9258 - val_loss: 0.3022 - val_accuracy: 0.8745\n",
      "Epoch 38/100\n",
      "188/188 [==============================] - 0s 1ms/step - loss: 0.2022 - accuracy: 0.9253 - val_loss: 0.2564 - val_accuracy: 0.8920\n",
      "Epoch 39/100\n",
      "188/188 [==============================] - 0s 1ms/step - loss: 0.1991 - accuracy: 0.9302 - val_loss: 0.2611 - val_accuracy: 0.8900\n",
      "Epoch 40/100\n",
      "188/188 [==============================] - 0s 1ms/step - loss: 0.1974 - accuracy: 0.9302 - val_loss: 0.2499 - val_accuracy: 0.8950\n",
      "Epoch 41/100\n",
      "188/188 [==============================] - 0s 1ms/step - loss: 0.1932 - accuracy: 0.9315 - val_loss: 0.2703 - val_accuracy: 0.8865\n",
      "Epoch 42/100\n",
      "188/188 [==============================] - 0s 1ms/step - loss: 0.1909 - accuracy: 0.9312 - val_loss: 0.2608 - val_accuracy: 0.8925\n",
      "Epoch 43/100\n",
      "188/188 [==============================] - 0s 1ms/step - loss: 0.1882 - accuracy: 0.9350 - val_loss: 0.2578 - val_accuracy: 0.8885\n",
      "Epoch 44/100\n",
      "188/188 [==============================] - 0s 1ms/step - loss: 0.1873 - accuracy: 0.9347 - val_loss: 0.2576 - val_accuracy: 0.8970\n",
      "Epoch 45/100\n",
      "188/188 [==============================] - 0s 1ms/step - loss: 0.1850 - accuracy: 0.9330 - val_loss: 0.2505 - val_accuracy: 0.8965\n",
      "Epoch 46/100\n",
      "188/188 [==============================] - 0s 1ms/step - loss: 0.1832 - accuracy: 0.9365 - val_loss: 0.2506 - val_accuracy: 0.8990\n",
      "Epoch 47/100\n",
      "188/188 [==============================] - 0s 1ms/step - loss: 0.1801 - accuracy: 0.9377 - val_loss: 0.2781 - val_accuracy: 0.8835\n",
      "Epoch 48/100\n",
      "188/188 [==============================] - 0s 1ms/step - loss: 0.1786 - accuracy: 0.9368 - val_loss: 0.2419 - val_accuracy: 0.8995\n",
      "Epoch 49/100\n",
      "188/188 [==============================] - 0s 1ms/step - loss: 0.1765 - accuracy: 0.9365 - val_loss: 0.2503 - val_accuracy: 0.8935\n",
      "Epoch 50/100\n",
      "188/188 [==============================] - 0s 1ms/step - loss: 0.1742 - accuracy: 0.9388 - val_loss: 0.2610 - val_accuracy: 0.8910\n",
      "Epoch 51/100\n",
      "188/188 [==============================] - 0s 1ms/step - loss: 0.1727 - accuracy: 0.9388 - val_loss: 0.2602 - val_accuracy: 0.8925\n",
      "Epoch 52/100\n",
      "188/188 [==============================] - 0s 1ms/step - loss: 0.1711 - accuracy: 0.9403 - val_loss: 0.2786 - val_accuracy: 0.8865\n",
      "Epoch 53/100\n",
      "188/188 [==============================] - 0s 1ms/step - loss: 0.1716 - accuracy: 0.9385 - val_loss: 0.2598 - val_accuracy: 0.9015\n",
      "Epoch 54/100\n",
      "188/188 [==============================] - 0s 1ms/step - loss: 0.1681 - accuracy: 0.9412 - val_loss: 0.2626 - val_accuracy: 0.8950\n",
      "Epoch 55/100\n",
      "188/188 [==============================] - 0s 1ms/step - loss: 0.1662 - accuracy: 0.9413 - val_loss: 0.2641 - val_accuracy: 0.8940\n",
      "Epoch 56/100\n",
      "188/188 [==============================] - 0s 1ms/step - loss: 0.1649 - accuracy: 0.9423 - val_loss: 0.2440 - val_accuracy: 0.9015\n",
      "Epoch 57/100\n",
      "188/188 [==============================] - 0s 1ms/step - loss: 0.1611 - accuracy: 0.9440 - val_loss: 0.2565 - val_accuracy: 0.8960\n"
     ]
    },
    {
     "name": "stdout",
     "output_type": "stream",
     "text": [
      "Epoch 58/100\n",
      "188/188 [==============================] - 0s 1ms/step - loss: 0.1620 - accuracy: 0.9418 - val_loss: 0.2309 - val_accuracy: 0.9075\n",
      "Epoch 59/100\n",
      "188/188 [==============================] - 0s 1ms/step - loss: 0.1592 - accuracy: 0.9430 - val_loss: 0.2555 - val_accuracy: 0.9020\n",
      "Epoch 60/100\n",
      "188/188 [==============================] - 0s 1ms/step - loss: 0.1583 - accuracy: 0.9457 - val_loss: 0.2271 - val_accuracy: 0.9120\n",
      "Epoch 61/100\n",
      "188/188 [==============================] - 0s 1ms/step - loss: 0.1575 - accuracy: 0.9458 - val_loss: 0.2551 - val_accuracy: 0.8965\n",
      "Epoch 62/100\n",
      "188/188 [==============================] - 0s 1ms/step - loss: 0.1558 - accuracy: 0.9443 - val_loss: 0.2529 - val_accuracy: 0.8950\n",
      "Epoch 63/100\n",
      "188/188 [==============================] - 0s 1ms/step - loss: 0.1540 - accuracy: 0.9448 - val_loss: 0.2664 - val_accuracy: 0.8975\n",
      "Epoch 64/100\n",
      "188/188 [==============================] - 0s 1ms/step - loss: 0.1537 - accuracy: 0.9462 - val_loss: 0.2804 - val_accuracy: 0.8925\n",
      "Epoch 65/100\n",
      "188/188 [==============================] - 0s 1ms/step - loss: 0.1508 - accuracy: 0.9472 - val_loss: 0.2647 - val_accuracy: 0.8980\n",
      "Epoch 66/100\n",
      "188/188 [==============================] - 0s 1ms/step - loss: 0.1501 - accuracy: 0.9472 - val_loss: 0.2407 - val_accuracy: 0.9050\n",
      "Epoch 67/100\n",
      "188/188 [==============================] - 0s 1ms/step - loss: 0.1494 - accuracy: 0.9478 - val_loss: 0.2527 - val_accuracy: 0.9015\n",
      "Epoch 68/100\n",
      "188/188 [==============================] - 0s 1ms/step - loss: 0.1493 - accuracy: 0.9472 - val_loss: 0.2582 - val_accuracy: 0.8990\n",
      "Epoch 69/100\n",
      "188/188 [==============================] - 0s 1ms/step - loss: 0.1473 - accuracy: 0.9472 - val_loss: 0.2496 - val_accuracy: 0.9015\n",
      "Epoch 70/100\n",
      "188/188 [==============================] - 0s 1ms/step - loss: 0.1468 - accuracy: 0.9485 - val_loss: 0.2595 - val_accuracy: 0.9015\n",
      "Epoch 71/100\n",
      "188/188 [==============================] - 0s 1ms/step - loss: 0.1444 - accuracy: 0.9495 - val_loss: 0.2376 - val_accuracy: 0.9070\n",
      "Epoch 72/100\n",
      "188/188 [==============================] - 0s 1ms/step - loss: 0.1423 - accuracy: 0.9512 - val_loss: 0.2484 - val_accuracy: 0.9025\n",
      "Epoch 73/100\n",
      "188/188 [==============================] - 0s 1ms/step - loss: 0.1409 - accuracy: 0.9513 - val_loss: 0.2633 - val_accuracy: 0.9025\n",
      "Epoch 74/100\n",
      "188/188 [==============================] - 0s 1ms/step - loss: 0.1414 - accuracy: 0.9513 - val_loss: 0.2583 - val_accuracy: 0.9050\n",
      "Epoch 75/100\n",
      "188/188 [==============================] - 0s 1ms/step - loss: 0.1392 - accuracy: 0.9523 - val_loss: 0.2582 - val_accuracy: 0.9030\n",
      "Epoch 76/100\n",
      "188/188 [==============================] - 0s 1ms/step - loss: 0.1397 - accuracy: 0.9498 - val_loss: 0.2272 - val_accuracy: 0.9115\n",
      "Epoch 77/100\n",
      "188/188 [==============================] - 0s 1ms/step - loss: 0.1379 - accuracy: 0.9518 - val_loss: 0.2354 - val_accuracy: 0.9085\n",
      "Epoch 78/100\n",
      "188/188 [==============================] - 0s 1ms/step - loss: 0.1360 - accuracy: 0.9530 - val_loss: 0.2707 - val_accuracy: 0.9015\n",
      "Epoch 79/100\n",
      "188/188 [==============================] - 0s 1ms/step - loss: 0.1354 - accuracy: 0.9535 - val_loss: 0.2638 - val_accuracy: 0.9010\n",
      "Epoch 80/100\n",
      "188/188 [==============================] - 0s 1ms/step - loss: 0.1354 - accuracy: 0.9517 - val_loss: 0.2889 - val_accuracy: 0.8915\n",
      "Epoch 81/100\n",
      "188/188 [==============================] - 0s 1ms/step - loss: 0.1344 - accuracy: 0.9535 - val_loss: 0.2377 - val_accuracy: 0.9065\n",
      "Epoch 82/100\n",
      "188/188 [==============================] - 0s 1ms/step - loss: 0.1333 - accuracy: 0.9543 - val_loss: 0.2474 - val_accuracy: 0.9080\n",
      "Epoch 83/100\n",
      "188/188 [==============================] - 0s 1ms/step - loss: 0.1319 - accuracy: 0.9545 - val_loss: 0.2667 - val_accuracy: 0.9025\n",
      "Epoch 84/100\n",
      "188/188 [==============================] - 0s 1ms/step - loss: 0.1316 - accuracy: 0.9540 - val_loss: 0.2442 - val_accuracy: 0.9080\n",
      "Epoch 85/100\n",
      "188/188 [==============================] - 0s 1ms/step - loss: 0.1304 - accuracy: 0.9552 - val_loss: 0.2263 - val_accuracy: 0.9140\n",
      "Epoch 86/100\n",
      "188/188 [==============================] - 0s 1ms/step - loss: 0.1297 - accuracy: 0.9542 - val_loss: 0.2541 - val_accuracy: 0.9045\n",
      "Epoch 87/100\n",
      "188/188 [==============================] - 0s 1ms/step - loss: 0.1283 - accuracy: 0.9543 - val_loss: 0.2525 - val_accuracy: 0.9055\n",
      "Epoch 88/100\n",
      "188/188 [==============================] - 0s 1ms/step - loss: 0.1284 - accuracy: 0.9573 - val_loss: 0.2258 - val_accuracy: 0.9150\n",
      "Epoch 89/100\n",
      "188/188 [==============================] - 0s 1ms/step - loss: 0.1270 - accuracy: 0.9568 - val_loss: 0.2721 - val_accuracy: 0.9050\n",
      "Epoch 90/100\n",
      "188/188 [==============================] - 0s 1ms/step - loss: 0.1261 - accuracy: 0.9567 - val_loss: 0.2282 - val_accuracy: 0.9115\n",
      "Epoch 91/100\n",
      "188/188 [==============================] - 0s 1ms/step - loss: 0.1258 - accuracy: 0.9567 - val_loss: 0.2591 - val_accuracy: 0.9045\n",
      "Epoch 92/100\n",
      "188/188 [==============================] - 0s 1ms/step - loss: 0.1235 - accuracy: 0.9595 - val_loss: 0.2437 - val_accuracy: 0.9095\n",
      "Epoch 93/100\n",
      "188/188 [==============================] - 0s 1ms/step - loss: 0.1242 - accuracy: 0.9582 - val_loss: 0.2554 - val_accuracy: 0.9085\n",
      "Epoch 94/100\n",
      "188/188 [==============================] - 0s 1ms/step - loss: 0.1223 - accuracy: 0.9583 - val_loss: 0.2708 - val_accuracy: 0.9100\n",
      "Epoch 95/100\n",
      "188/188 [==============================] - 0s 1ms/step - loss: 0.1222 - accuracy: 0.9597 - val_loss: 0.2496 - val_accuracy: 0.9085\n",
      "Epoch 96/100\n",
      "188/188 [==============================] - 0s 1ms/step - loss: 0.1222 - accuracy: 0.9578 - val_loss: 0.2441 - val_accuracy: 0.9100\n",
      "Epoch 97/100\n",
      "188/188 [==============================] - 0s 1ms/step - loss: 0.1203 - accuracy: 0.9582 - val_loss: 0.2480 - val_accuracy: 0.9075\n",
      "Epoch 98/100\n",
      "188/188 [==============================] - 0s 1ms/step - loss: 0.1198 - accuracy: 0.9578 - val_loss: 0.2530 - val_accuracy: 0.9070\n",
      "Epoch 99/100\n",
      "188/188 [==============================] - 0s 1ms/step - loss: 0.1186 - accuracy: 0.9607 - val_loss: 0.2573 - val_accuracy: 0.9090\n",
      "Epoch 100/100\n",
      "188/188 [==============================] - 0s 1ms/step - loss: 0.1180 - accuracy: 0.9598 - val_loss: 0.2411 - val_accuracy: 0.9150\n"
     ]
    }
   ],
   "source": [
    "# The validation_data keywork expects a 'tuple' (val_x, val_y) so we make one on the fly\n",
    "history = model.fit(\n",
    "    x=normalize_image_data(images[train_idx]),\n",
    "    y=labels[train_idx],\n",
    "    validation_data=(normalize_image_data(images[val_idx]), labels[val_idx]),\n",
    "    epochs=epochs,\n",
    "    batch_size=batch_size,\n",
    ")"
   ]
  },
  {
   "cell_type": "markdown",
   "metadata": {},
   "source": [
    "### Evaluate the model\n",
    "Let's use the history object to plot how the loss and accuracy changed during training.\n",
    "The history contains a dictionary of the currently applied metrics as keys. In this case we have the\n",
    "keys \"loss\", \"accuracy\", \"val_loss\", and \"val_accuracy\". \"loss\" and \"accuracy\" pertain to the training data, while\n",
    "\"val_loss\" and \"val_accuracy\" are the metrics for the validation data we provided."
   ]
  },
  {
   "cell_type": "code",
   "execution_count": 6,
   "metadata": {},
   "outputs": [
    {
     "data": {
      "text/plain": [
       "<matplotlib.legend.Legend at 0x1defea23d00>"
      ]
     },
     "execution_count": 6,
     "metadata": {},
     "output_type": "execute_result"
    },
    {
     "data": {
      "image/png": "[encoded data removed]",
      "text/plain": [
       "<Figure size 1008x432 with 2 Axes>"
      ]
     },
     "metadata": {
      "needs_background": "light"
     },
     "output_type": "display_data"
    }
   ],
   "source": [
    "# Plot loss and val_loss as one plot, and accuracy and val_accuracy as another, side-by-side.\n",
    "# We'll also save this plot as plot_history() in the helper_functions file, so any time we need to\n",
    "# plot the history object like this we can just call that function and pass the history object as\n",
    "# an argument.\n",
    "fig, ax = plt.subplots(1, 2, figsize=(14, 6))\n",
    "num_epochs = len(history.history['loss'])\n",
    "ax[0].plot(history.history['loss'], label='training')\n",
    "ax[0].plot(history.history['val_loss'], label='validation')\n",
    "ax[0].set_title(\"Model loss\")\n",
    "ax[0].set_xlabel(\"Epoch\")\n",
    "ax[0].set_ylabel(\"Loss\")\n",
    "ax[0].set_xticks(np.arange(num_epochs))\n",
    "ax[0].legend()\n",
    "\n",
    "ax[1].plot(history.history['accuracy'], label='training')\n",
    "ax[1].plot(history.history['val_accuracy'], label='validation')\n",
    "ax[1].set_title(\"Model accburacy\")\n",
    "ax[1].set_xlabel(\"Epoch\")\n",
    "ax[1].set_ylabel(\"Accuracy\")\n",
    "ax[1].set_xticks(np.arange(num_epochs))\n",
    "ax[1].legend()"
   ]
  },
  {
   "cell_type": "markdown",
   "metadata": {},
   "source": [
    "The plotting function will only plot these two metrics regardless of how many other metrics we add to the model,\n",
    "but it's a starting point that can be extended as you might add more metrics."
   ]
  },
  {
   "cell_type": "code",
   "execution_count": 7,
   "metadata": {},
   "outputs": [],
   "source": [
    "# Predict on the validation set\n",
    "pred = model.predict([normalize_image_data(rimages)])\n",
    "# Convert sigmoid values from prediction to integers so it works with the function.\n",
    "result = pred > 0.5"
   ]
  },
  {
   "cell_type": "markdown",
   "metadata": {},
   "source": [
    "## Collection of metrics\n",
    "Check out the notebook on logistic regression for details around the metrics."
   ]
  },
  {
   "cell_type": "code",
   "execution_count": 8,
   "metadata": {},
   "outputs": [],
   "source": [
    "accuracy = accuracy_score(rlabels, result)\n",
    "confmat = confusion_matrix(rlabels, result)\n",
    "f1 = f1_score(rlabels, result)\n",
    "mcc = matthews_corrcoef(rlabels, result)"
   ]
  },
  {
   "cell_type": "code",
   "execution_count": 9,
   "metadata": {},
   "outputs": [
    {
     "name": "stdout",
     "output_type": "stream",
     "text": [
      "Confusion matrix:\n",
      " [[99855   145]\n",
      " [15747 84253]]\n",
      "Accuracy: 0.92054\n",
      "F1-score: 0.913816852677361\n",
      "MCC: 0.8515076510197968\n"
     ]
    }
   ],
   "source": [
    "# Print the metrics in an orderly fashion\n",
    "print(\"Confusion matrix:\\n\", confmat)\n",
    "print(\"Accuracy:\", accuracy)\n",
    "print(\"F1-score:\", f1)\n",
    "print(\"MCC:\", mcc)"
   ]
  },
  {
   "cell_type": "markdown",
   "metadata": {},
   "source": [
    "## ROC-Curve and Area Under Curve"
   ]
  },
  {
   "cell_type": "code",
   "execution_count": 10,
   "metadata": {},
   "outputs": [
    {
     "data": {
      "image/png": "[encoded data removed]",
      "text/plain": [
       "<Figure size 432x288 with 1 Axes>"
      ]
     },
     "metadata": {
      "needs_background": "light"
     },
     "output_type": "display_data"
    }
   ],
   "source": [
    "# Use the function we saved from the notebook on logistic regression\n",
    "plot_roc_auc(rlabels, pred)"
   ]
  },
  {
   "cell_type": "code",
   "execution_count": null,
   "metadata": {},
   "outputs": [],
   "source": []
  }
 ],
 "metadata": {
  "hide_input": false,
  "kernelspec": {
   "display_name": "Python 3",
   "language": "python",
   "name": "python3"
  },
  "language_info": {
   "codemirror_mode": {
    "name": "ipython",
    "version": 3
   },
   "file_extension": ".py",
   "mimetype": "text/x-python",
   "name": "python",
   "nbconvert_exporter": "python",
   "pygments_lexer": "ipython3",
   "version": "3.8.5"
  },
  "toc": {
   "base_numbering": 1,
   "nav_menu": {},
   "number_sections": true,
   "sideBar": true,
   "skip_h1_title": false,
   "title_cell": "Table of Contents",
   "title_sidebar": "Contents",
   "toc_cell": false,
   "toc_position": {},
   "toc_section_display": true,
   "toc_window_display": false
  }
 },
 "nbformat": 4,
 "nbformat_minor": 4
}
