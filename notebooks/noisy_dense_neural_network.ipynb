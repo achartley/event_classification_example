{
 "cells": [
  {
   "cell_type": "markdown",
   "metadata": {},
   "source": [
    "# Classification using dense neural network (fully connected)\n",
    "For this exercise we'll be using [Keras](https://keras.io/).. In addition you need either [TensorFlow](https://www.tensorflow.org/) or [PyTorch](https://pytorch.org/)\n",
    "as the underlying framework. Or, you can also continue with scikit-learn, which also has dense / fully connected networks implemented."
   ]
  },
  {
   "cell_type": "markdown",
   "metadata": {},
   "source": [
    "## Normalization of image data\n",
    "We apply the same normalization as for logistic regression. Recall that we have saved this function in a file\n",
    "called `helper_functions.py`, and can import and use it directly from there."
   ]
  },
  {
   "cell_type": "markdown",
   "metadata": {},
   "source": [
    "## Numpy approach"
   ]
  },
  {
   "cell_type": "code",
   "execution_count": 1,
   "metadata": {},
   "outputs": [],
   "source": [
    "# Imports\n",
    "import numpy as np\n",
    "import matplotlib.pyplot as plt\n",
    "from keras.models import Sequential\n",
    "from keras.layers import Dense, InputLayer\n",
    "from sklearn.model_selection import train_test_split\n",
    "from sklearn.metrics import (accuracy_score, confusion_matrix, f1_score, \n",
    "                             matthews_corrcoef, roc_curve, roc_auc_score)\n",
    "from helper_functions import normalize_image_data, plot_roc_auc, noise_gen\n",
    "from timeit import default_timer as timer\n",
    "\n",
    "%load_ext autoreload\n",
    "%autoreload 2"
   ]
  },
  {
   "cell_type": "code",
   "execution_count": 2,
   "metadata": {},
   "outputs": [],
   "source": [
    "# Load images and labels.\n",
    "DATA_PATH = \"../data/\"\n",
    "\n",
    "images = np.load(DATA_PATH+\"nimages_training.npy\")\n",
    "labels = np.load(DATA_PATH+\"labels_training.npy\")\n",
    "\n",
    "\n",
    "# Just like with logistic regression, we need to reshape the images to\n",
    "# be one-dimensional for the input to the model.\n",
    "images = images.reshape(images.shape[0], 256)\n",
    "\n",
    "# Split the training indices into training and validation. \n",
    "# Validate with 25% of the data (default). Can be adjusted.\n",
    "x_idx = np.arange(images.shape[0])\n",
    "train_idx, val_idx, not_used1, not_used2 = train_test_split(x_idx, x_idx, test_size = 0.25)"
   ]
  },
  {
   "cell_type": "code",
   "execution_count": 3,
   "metadata": {},
   "outputs": [],
   "source": [
    "#rdfile = np.genfromtxt(DATA_PATH+\"ratiodist.txt\")\n",
    "#images_test = np.load(DATA_PATH+\"images_test.npy\")\n",
    "#images = images.reshape(images.shape[0], 256)\n",
    "\n",
    "#nimages = []\n",
    "\n",
    "\n",
    "#This takes a long time (1:20m for 8000 matrices) so we'll save it to a file\n",
    "\n",
    "#for image in images:\n",
    "#    nimages.append(image*noise_gen(rdfile))\n",
    "\n",
    "#np.save(DATA_PATH+\"nimages_test\",nimages)\n",
    "\n"
   ]
  },
  {
   "cell_type": "markdown",
   "metadata": {},
   "source": [
    "### Build a model\n",
    "We're going to start off with a simple feed-forward neural network one hidden layer. This is a binary classifier, so\n",
    "we techincally only need it to output one number.\n",
    "\n",
    "What about the number of nodes in the hidden input layer?\n",
    "The top post in [this](https://stats.stackexchange.com/questions/181/how-to-choose-the-number-of-hidden-layers-and-nodes-in-a-feedforward-neural-netw) stackexchange question points to some good sources of information about this.\n",
    "\n",
    "> There are some empirically-derived rules-of-thumb, of these, the most commonly relied on is 'the optimal size of the hidden layer is usually between the size of the input and size of the output layers'\n",
    "(Jeff Heaton, author of [Introduction to Neural Networks in Java](https://www.heatonresearch.com/book/) offers a few more.)"
   ]
  },
  {
   "cell_type": "code",
   "execution_count": 4,
   "metadata": {},
   "outputs": [
    {
     "name": "stdout",
     "output_type": "stream",
     "text": [
      "Model: \"sequential\"\n",
      "_________________________________________________________________\n",
      "Layer (type)                 Output Shape              Param #   \n",
      "=================================================================\n",
      "dense (Dense)                (None, 64)                16448     \n",
      "_________________________________________________________________\n",
      "dense_1 (Dense)              (None, 1)                 65        \n",
      "=================================================================\n",
      "Total params: 16,513\n",
      "Trainable params: 16,513\n",
      "Non-trainable params: 0\n",
      "_________________________________________________________________\n"
     ]
    }
   ],
   "source": [
    "# Init the Sequential model\n",
    "model = Sequential()\n",
    "# Add Input layer\n",
    "model.add(InputLayer(input_shape=(images.shape[1],)))\n",
    "\n",
    "# Add hidden layer\n",
    "model.add(Dense(64, activation='relu'))\n",
    "\n",
    "# Add output layer.\n",
    "model.add(Dense(1, activation='sigmoid'))\n",
    "\n",
    "# Finally, compile the model and print a summary. Loss function and optimizer is set during compilation.\n",
    "model.compile(\n",
    "    loss='binary_crossentropy',\n",
    "    optimizer='adam',\n",
    "    metrics=['accuracy']\n",
    ")\n",
    "model.summary()"
   ]
  },
  {
   "cell_type": "markdown",
   "metadata": {},
   "source": [
    "### Train the model\n",
    "The fit() function returns a history object that we'll store to plot how the training developed with epochs.\n",
    "First we need to set som training parameters.\n",
    "\n",
    "Note that if you would like to change something about the the model and run training again, you must\n",
    "re-compile the model. Otherwise you will essentially just be doubling the number of epochs."
   ]
  },
  {
   "cell_type": "code",
   "execution_count": 5,
   "metadata": {},
   "outputs": [],
   "source": [
    "# Set parameters for the training run. For the small set of 10k events you can probably get \n",
    "# away with even 100 epochs in a fairly small time, depending on your CPU.\n",
    "epochs = 100\n",
    "batch_size = 32"
   ]
  },
  {
   "cell_type": "code",
   "execution_count": 6,
   "metadata": {
    "scrolled": true
   },
   "outputs": [
    {
     "name": "stdout",
     "output_type": "stream",
     "text": [
      "Epoch 1/100\n",
      "188/188 [==============================] - 0s 2ms/step - loss: 0.6567 - accuracy: 0.6737 - val_loss: 0.5949 - val_accuracy: 0.6660\n",
      "Epoch 2/100\n",
      "188/188 [==============================] - 0s 1ms/step - loss: 0.5561 - accuracy: 0.7302 - val_loss: 0.6105 - val_accuracy: 0.6790\n",
      "Epoch 3/100\n",
      "188/188 [==============================] - 0s 1ms/step - loss: 0.5101 - accuracy: 0.7350 - val_loss: 0.6437 - val_accuracy: 0.6895\n",
      "Epoch 4/100\n",
      "188/188 [==============================] - 0s 1ms/step - loss: 0.4996 - accuracy: 0.7372 - val_loss: 0.6748 - val_accuracy: 0.6880\n",
      "Epoch 5/100\n",
      "188/188 [==============================] - 0s 1ms/step - loss: 0.4944 - accuracy: 0.7430 - val_loss: 0.7062 - val_accuracy: 0.6845\n",
      "Epoch 6/100\n",
      "188/188 [==============================] - 0s 1ms/step - loss: 0.4923 - accuracy: 0.7387 - val_loss: 0.6804 - val_accuracy: 0.6975\n",
      "Epoch 7/100\n",
      "188/188 [==============================] - 0s 1ms/step - loss: 0.4884 - accuracy: 0.7415 - val_loss: 0.7001 - val_accuracy: 0.6895\n",
      "Epoch 8/100\n",
      "188/188 [==============================] - 0s 1ms/step - loss: 0.4859 - accuracy: 0.7430 - val_loss: 0.7250 - val_accuracy: 0.6825\n",
      "Epoch 9/100\n",
      "188/188 [==============================] - 0s 1ms/step - loss: 0.4825 - accuracy: 0.7470 - val_loss: 0.7100 - val_accuracy: 0.6870\n",
      "Epoch 10/100\n",
      "188/188 [==============================] - 0s 1ms/step - loss: 0.4792 - accuracy: 0.7442 - val_loss: 0.7025 - val_accuracy: 0.6910\n",
      "Epoch 11/100\n",
      "188/188 [==============================] - 0s 1ms/step - loss: 0.4757 - accuracy: 0.7518 - val_loss: 0.7423 - val_accuracy: 0.6795\n",
      "Epoch 12/100\n",
      "188/188 [==============================] - 0s 1ms/step - loss: 0.4721 - accuracy: 0.7552 - val_loss: 0.6849 - val_accuracy: 0.6955\n",
      "Epoch 13/100\n",
      "188/188 [==============================] - 0s 1ms/step - loss: 0.4679 - accuracy: 0.7592 - val_loss: 0.6939 - val_accuracy: 0.6915\n",
      "Epoch 14/100\n",
      "188/188 [==============================] - 0s 1ms/step - loss: 0.4638 - accuracy: 0.7635 - val_loss: 0.7279 - val_accuracy: 0.6810\n",
      "Epoch 15/100\n",
      "188/188 [==============================] - 0s 1ms/step - loss: 0.4605 - accuracy: 0.7660 - val_loss: 0.6890 - val_accuracy: 0.6910\n",
      "Epoch 16/100\n",
      "188/188 [==============================] - 0s 1ms/step - loss: 0.4564 - accuracy: 0.7688 - val_loss: 0.6910 - val_accuracy: 0.6895\n",
      "Epoch 17/100\n",
      "188/188 [==============================] - 0s 1ms/step - loss: 0.4533 - accuracy: 0.7745 - val_loss: 0.6763 - val_accuracy: 0.6915\n",
      "Epoch 18/100\n",
      "188/188 [==============================] - 0s 1ms/step - loss: 0.4490 - accuracy: 0.7788 - val_loss: 0.7039 - val_accuracy: 0.6830\n",
      "Epoch 19/100\n",
      "188/188 [==============================] - 0s 1ms/step - loss: 0.4444 - accuracy: 0.7777 - val_loss: 0.6809 - val_accuracy: 0.6905\n",
      "Epoch 20/100\n",
      "188/188 [==============================] - 0s 1ms/step - loss: 0.4404 - accuracy: 0.7817 - val_loss: 0.6339 - val_accuracy: 0.7060\n",
      "Epoch 21/100\n",
      "188/188 [==============================] - 0s 1ms/step - loss: 0.4372 - accuracy: 0.7890 - val_loss: 0.6089 - val_accuracy: 0.7150\n",
      "Epoch 22/100\n",
      "188/188 [==============================] - 0s 1ms/step - loss: 0.4332 - accuracy: 0.7917 - val_loss: 0.6751 - val_accuracy: 0.6925\n",
      "Epoch 23/100\n",
      "188/188 [==============================] - 0s 1ms/step - loss: 0.4292 - accuracy: 0.7950 - val_loss: 0.6189 - val_accuracy: 0.7125\n",
      "Epoch 24/100\n",
      "188/188 [==============================] - 0s 1ms/step - loss: 0.4257 - accuracy: 0.7958 - val_loss: 0.6367 - val_accuracy: 0.7005\n",
      "Epoch 25/100\n",
      "188/188 [==============================] - 0s 1ms/step - loss: 0.4218 - accuracy: 0.8020 - val_loss: 0.6291 - val_accuracy: 0.7030\n",
      "Epoch 26/100\n",
      "188/188 [==============================] - 0s 1ms/step - loss: 0.4186 - accuracy: 0.8018 - val_loss: 0.6047 - val_accuracy: 0.7135\n",
      "Epoch 27/100\n",
      "188/188 [==============================] - 0s 1ms/step - loss: 0.4148 - accuracy: 0.8050 - val_loss: 0.6038 - val_accuracy: 0.7135\n",
      "Epoch 28/100\n",
      "188/188 [==============================] - 0s 1ms/step - loss: 0.4109 - accuracy: 0.8092 - val_loss: 0.5808 - val_accuracy: 0.7200\n",
      "Epoch 29/100\n",
      "188/188 [==============================] - 0s 1ms/step - loss: 0.4076 - accuracy: 0.8150 - val_loss: 0.5991 - val_accuracy: 0.7145\n",
      "Epoch 30/100\n",
      "188/188 [==============================] - 0s 1ms/step - loss: 0.4037 - accuracy: 0.8173 - val_loss: 0.5889 - val_accuracy: 0.7170\n",
      "Epoch 31/100\n",
      "188/188 [==============================] - 0s 1ms/step - loss: 0.4005 - accuracy: 0.8198 - val_loss: 0.6108 - val_accuracy: 0.7075\n",
      "Epoch 32/100\n",
      "188/188 [==============================] - 0s 1ms/step - loss: 0.3969 - accuracy: 0.8205 - val_loss: 0.5858 - val_accuracy: 0.7155\n",
      "Epoch 33/100\n",
      "188/188 [==============================] - 0s 1ms/step - loss: 0.3929 - accuracy: 0.8263 - val_loss: 0.5786 - val_accuracy: 0.7190\n",
      "Epoch 34/100\n",
      "188/188 [==============================] - 0s 1ms/step - loss: 0.3905 - accuracy: 0.8258 - val_loss: 0.5962 - val_accuracy: 0.7140\n",
      "Epoch 35/100\n",
      "188/188 [==============================] - 0s 1ms/step - loss: 0.3873 - accuracy: 0.8313 - val_loss: 0.5346 - val_accuracy: 0.7395\n",
      "Epoch 36/100\n",
      "188/188 [==============================] - 0s 1ms/step - loss: 0.3835 - accuracy: 0.8353 - val_loss: 0.5592 - val_accuracy: 0.7255\n",
      "Epoch 37/100\n",
      "188/188 [==============================] - 0s 1ms/step - loss: 0.3803 - accuracy: 0.8357 - val_loss: 0.5140 - val_accuracy: 0.7465\n",
      "Epoch 38/100\n",
      "188/188 [==============================] - 0s 1ms/step - loss: 0.3780 - accuracy: 0.8397 - val_loss: 0.5584 - val_accuracy: 0.7245\n",
      "Epoch 39/100\n",
      "188/188 [==============================] - 0s 1ms/step - loss: 0.3747 - accuracy: 0.8407 - val_loss: 0.5405 - val_accuracy: 0.7320\n",
      "Epoch 40/100\n",
      "188/188 [==============================] - 0s 1ms/step - loss: 0.3720 - accuracy: 0.8415 - val_loss: 0.5662 - val_accuracy: 0.7225\n",
      "Epoch 41/100\n",
      "188/188 [==============================] - 0s 1ms/step - loss: 0.3687 - accuracy: 0.8443 - val_loss: 0.5560 - val_accuracy: 0.7265\n",
      "Epoch 42/100\n",
      "188/188 [==============================] - 0s 1ms/step - loss: 0.3661 - accuracy: 0.8467 - val_loss: 0.5594 - val_accuracy: 0.7240\n",
      "Epoch 43/100\n",
      "188/188 [==============================] - 0s 1ms/step - loss: 0.3640 - accuracy: 0.8468 - val_loss: 0.5474 - val_accuracy: 0.7295\n",
      "Epoch 44/100\n",
      "188/188 [==============================] - 0s 1ms/step - loss: 0.3619 - accuracy: 0.8475 - val_loss: 0.5125 - val_accuracy: 0.7465\n",
      "Epoch 45/100\n",
      "188/188 [==============================] - 0s 1ms/step - loss: 0.3585 - accuracy: 0.8503 - val_loss: 0.4877 - val_accuracy: 0.7590\n",
      "Epoch 46/100\n",
      "188/188 [==============================] - 0s 1ms/step - loss: 0.3561 - accuracy: 0.8553 - val_loss: 0.4879 - val_accuracy: 0.7595\n",
      "Epoch 47/100\n",
      "188/188 [==============================] - 0s 1ms/step - loss: 0.3539 - accuracy: 0.8570 - val_loss: 0.4943 - val_accuracy: 0.7590\n",
      "Epoch 48/100\n",
      "188/188 [==============================] - 0s 1ms/step - loss: 0.3514 - accuracy: 0.8583 - val_loss: 0.5100 - val_accuracy: 0.7485\n",
      "Epoch 49/100\n",
      "188/188 [==============================] - 0s 1ms/step - loss: 0.3493 - accuracy: 0.8577 - val_loss: 0.4985 - val_accuracy: 0.7560\n",
      "Epoch 50/100\n",
      "188/188 [==============================] - 0s 1ms/step - loss: 0.3480 - accuracy: 0.8612 - val_loss: 0.5257 - val_accuracy: 0.7370\n",
      "Epoch 51/100\n",
      "188/188 [==============================] - 0s 1ms/step - loss: 0.3454 - accuracy: 0.8610 - val_loss: 0.4883 - val_accuracy: 0.7605\n",
      "Epoch 52/100\n",
      "188/188 [==============================] - 0s 1ms/step - loss: 0.3434 - accuracy: 0.8642 - val_loss: 0.5043 - val_accuracy: 0.7520\n",
      "Epoch 53/100\n",
      "188/188 [==============================] - 0s 1ms/step - loss: 0.3416 - accuracy: 0.8628 - val_loss: 0.5082 - val_accuracy: 0.7465\n",
      "Epoch 54/100\n",
      "188/188 [==============================] - 0s 1ms/step - loss: 0.3389 - accuracy: 0.8655 - val_loss: 0.4838 - val_accuracy: 0.7625\n",
      "Epoch 55/100\n",
      "188/188 [==============================] - 0s 1ms/step - loss: 0.3368 - accuracy: 0.8693 - val_loss: 0.4669 - val_accuracy: 0.7765\n",
      "Epoch 56/100\n",
      "188/188 [==============================] - 0s 1ms/step - loss: 0.3355 - accuracy: 0.8713 - val_loss: 0.4431 - val_accuracy: 0.7895\n",
      "Epoch 57/100\n",
      "188/188 [==============================] - 0s 1ms/step - loss: 0.3350 - accuracy: 0.8703 - val_loss: 0.4947 - val_accuracy: 0.7565\n"
     ]
    },
    {
     "name": "stdout",
     "output_type": "stream",
     "text": [
      "Epoch 58/100\n",
      "188/188 [==============================] - 0s 1ms/step - loss: 0.3322 - accuracy: 0.8707 - val_loss: 0.4815 - val_accuracy: 0.7650\n",
      "Epoch 59/100\n",
      "188/188 [==============================] - 0s 1ms/step - loss: 0.3300 - accuracy: 0.8722 - val_loss: 0.4829 - val_accuracy: 0.7640\n",
      "Epoch 60/100\n",
      "188/188 [==============================] - 0s 1ms/step - loss: 0.3284 - accuracy: 0.8717 - val_loss: 0.4533 - val_accuracy: 0.7815\n",
      "Epoch 61/100\n",
      "188/188 [==============================] - 0s 1ms/step - loss: 0.3270 - accuracy: 0.8730 - val_loss: 0.4943 - val_accuracy: 0.7555\n",
      "Epoch 62/100\n",
      "188/188 [==============================] - 0s 1ms/step - loss: 0.3254 - accuracy: 0.8747 - val_loss: 0.4803 - val_accuracy: 0.7655\n",
      "Epoch 63/100\n",
      "188/188 [==============================] - 0s 1ms/step - loss: 0.3240 - accuracy: 0.8752 - val_loss: 0.4961 - val_accuracy: 0.7600\n",
      "Epoch 64/100\n",
      "188/188 [==============================] - 0s 1ms/step - loss: 0.3225 - accuracy: 0.8762 - val_loss: 0.4617 - val_accuracy: 0.7775\n",
      "Epoch 65/100\n",
      "188/188 [==============================] - 0s 1ms/step - loss: 0.3208 - accuracy: 0.8750 - val_loss: 0.4437 - val_accuracy: 0.7900\n",
      "Epoch 66/100\n",
      "188/188 [==============================] - 0s 1ms/step - loss: 0.3191 - accuracy: 0.8802 - val_loss: 0.4985 - val_accuracy: 0.7560\n",
      "Epoch 67/100\n",
      "188/188 [==============================] - 0s 1ms/step - loss: 0.3178 - accuracy: 0.8780 - val_loss: 0.4611 - val_accuracy: 0.7790\n",
      "Epoch 68/100\n",
      "188/188 [==============================] - 0s 1ms/step - loss: 0.3166 - accuracy: 0.8783 - val_loss: 0.4633 - val_accuracy: 0.7790\n",
      "Epoch 69/100\n",
      "188/188 [==============================] - 0s 1ms/step - loss: 0.3151 - accuracy: 0.8808 - val_loss: 0.4488 - val_accuracy: 0.7810\n",
      "Epoch 70/100\n",
      "188/188 [==============================] - ETA: 0s - loss: 0.3099 - accuracy: 0.88 - 0s 1ms/step - loss: 0.3146 - accuracy: 0.8777 - val_loss: 0.4386 - val_accuracy: 0.7875\n",
      "Epoch 71/100\n",
      "188/188 [==============================] - 0s 1ms/step - loss: 0.3120 - accuracy: 0.8798 - val_loss: 0.4696 - val_accuracy: 0.7740\n",
      "Epoch 72/100\n",
      "188/188 [==============================] - 0s 1ms/step - loss: 0.3109 - accuracy: 0.8825 - val_loss: 0.4821 - val_accuracy: 0.7695\n",
      "Epoch 73/100\n",
      "188/188 [==============================] - 0s 1ms/step - loss: 0.3097 - accuracy: 0.8837 - val_loss: 0.4985 - val_accuracy: 0.7575\n",
      "Epoch 74/100\n",
      "188/188 [==============================] - 0s 1ms/step - loss: 0.3085 - accuracy: 0.8830 - val_loss: 0.4564 - val_accuracy: 0.7790\n",
      "Epoch 75/100\n",
      "188/188 [==============================] - 0s 1ms/step - loss: 0.3071 - accuracy: 0.8833 - val_loss: 0.4626 - val_accuracy: 0.7775\n",
      "Epoch 76/100\n",
      "188/188 [==============================] - 0s 1ms/step - loss: 0.3059 - accuracy: 0.8863 - val_loss: 0.4356 - val_accuracy: 0.7915\n",
      "Epoch 77/100\n",
      "188/188 [==============================] - 0s 1ms/step - loss: 0.3051 - accuracy: 0.8885 - val_loss: 0.4607 - val_accuracy: 0.7755\n",
      "Epoch 78/100\n",
      "188/188 [==============================] - 0s 1ms/step - loss: 0.3035 - accuracy: 0.8865 - val_loss: 0.4343 - val_accuracy: 0.7925\n",
      "Epoch 79/100\n",
      "188/188 [==============================] - 0s 1ms/step - loss: 0.3028 - accuracy: 0.8863 - val_loss: 0.4389 - val_accuracy: 0.7905\n",
      "Epoch 80/100\n",
      "188/188 [==============================] - 0s 1ms/step - loss: 0.3014 - accuracy: 0.8867 - val_loss: 0.4613 - val_accuracy: 0.7765\n",
      "Epoch 81/100\n",
      "188/188 [==============================] - 0s 1ms/step - loss: 0.3006 - accuracy: 0.8870 - val_loss: 0.4470 - val_accuracy: 0.7825\n",
      "Epoch 82/100\n",
      "188/188 [==============================] - 0s 1ms/step - loss: 0.2994 - accuracy: 0.8873 - val_loss: 0.4658 - val_accuracy: 0.7735\n",
      "Epoch 83/100\n",
      "188/188 [==============================] - 0s 1ms/step - loss: 0.2979 - accuracy: 0.8887 - val_loss: 0.4413 - val_accuracy: 0.7890\n",
      "Epoch 84/100\n",
      "188/188 [==============================] - 0s 1ms/step - loss: 0.2972 - accuracy: 0.8880 - val_loss: 0.4727 - val_accuracy: 0.7715\n",
      "Epoch 85/100\n",
      "188/188 [==============================] - 0s 1ms/step - loss: 0.2967 - accuracy: 0.8883 - val_loss: 0.4512 - val_accuracy: 0.7840\n",
      "Epoch 86/100\n",
      "188/188 [==============================] - 0s 1ms/step - loss: 0.2950 - accuracy: 0.8902 - val_loss: 0.4363 - val_accuracy: 0.7895\n",
      "Epoch 87/100\n",
      "188/188 [==============================] - 0s 1ms/step - loss: 0.2945 - accuracy: 0.8892 - val_loss: 0.4498 - val_accuracy: 0.7820\n",
      "Epoch 88/100\n",
      "188/188 [==============================] - 0s 1ms/step - loss: 0.2941 - accuracy: 0.8898 - val_loss: 0.4488 - val_accuracy: 0.7835\n",
      "Epoch 89/100\n",
      "188/188 [==============================] - 0s 1ms/step - loss: 0.2914 - accuracy: 0.8915 - val_loss: 0.4686 - val_accuracy: 0.7715\n",
      "Epoch 90/100\n",
      "188/188 [==============================] - 0s 1ms/step - loss: 0.2912 - accuracy: 0.8902 - val_loss: 0.4293 - val_accuracy: 0.7940\n",
      "Epoch 91/100\n",
      "188/188 [==============================] - 0s 1ms/step - loss: 0.2902 - accuracy: 0.8898 - val_loss: 0.4435 - val_accuracy: 0.7860\n",
      "Epoch 92/100\n",
      "188/188 [==============================] - 0s 1ms/step - loss: 0.2899 - accuracy: 0.8938 - val_loss: 0.4275 - val_accuracy: 0.7940\n",
      "Epoch 93/100\n",
      "188/188 [==============================] - 0s 1ms/step - loss: 0.2883 - accuracy: 0.8927 - val_loss: 0.4263 - val_accuracy: 0.7965\n",
      "Epoch 94/100\n",
      "188/188 [==============================] - 0s 1ms/step - loss: 0.2873 - accuracy: 0.8933 - val_loss: 0.4667 - val_accuracy: 0.7725\n",
      "Epoch 95/100\n",
      "188/188 [==============================] - 0s 1ms/step - loss: 0.2866 - accuracy: 0.8932 - val_loss: 0.4762 - val_accuracy: 0.7740\n",
      "Epoch 96/100\n",
      "188/188 [==============================] - 0s 1ms/step - loss: 0.2863 - accuracy: 0.8925 - val_loss: 0.4370 - val_accuracy: 0.7925\n",
      "Epoch 97/100\n",
      "188/188 [==============================] - 0s 1ms/step - loss: 0.2857 - accuracy: 0.8935 - val_loss: 0.4214 - val_accuracy: 0.8010\n",
      "Epoch 98/100\n",
      "188/188 [==============================] - 0s 1ms/step - loss: 0.2843 - accuracy: 0.8948 - val_loss: 0.4325 - val_accuracy: 0.7920\n",
      "Epoch 99/100\n",
      "188/188 [==============================] - 0s 1ms/step - loss: 0.2837 - accuracy: 0.8943 - val_loss: 0.4567 - val_accuracy: 0.7800\n",
      "Epoch 100/100\n",
      "188/188 [==============================] - 0s 1ms/step - loss: 0.2823 - accuracy: 0.8948 - val_loss: 0.4260 - val_accuracy: 0.7995\n"
     ]
    }
   ],
   "source": [
    "# The validation_data keywork expects a 'tuple' (val_x, val_y) so we make one on the fly\n",
    "history = model.fit(\n",
    "    x=normalize_image_data(images[train_idx]),\n",
    "    y=labels[train_idx],\n",
    "    validation_data=(normalize_image_data(images[val_idx]), labels[val_idx]),\n",
    "    epochs=epochs,\n",
    "    batch_size=batch_size,\n",
    ")"
   ]
  },
  {
   "cell_type": "markdown",
   "metadata": {},
   "source": [
    "### Evaluate the model\n",
    "Let's use the history object to plot how the loss and accuracy changed during training.\n",
    "The history contains a dictionary of the currently applied metrics as keys. In this case we have the\n",
    "keys \"loss\", \"accuracy\", \"val_loss\", and \"val_accuracy\". \"loss\" and \"accuracy\" pertain to the training data, while\n",
    "\"val_loss\" and \"val_accuracy\" are the metrics for the validation data we provided."
   ]
  },
  {
   "cell_type": "code",
   "execution_count": 7,
   "metadata": {},
   "outputs": [
    {
     "data": {
      "text/plain": [
       "<matplotlib.legend.Legend at 0x25d0c1e9040>"
      ]
     },
     "execution_count": 7,
     "metadata": {},
     "output_type": "execute_result"
    },
    {
     "data": {
      "image/png": "[encoded data removed]",
      "text/plain": [
       "<Figure size 1008x432 with 2 Axes>"
      ]
     },
     "metadata": {
      "needs_background": "light"
     },
     "output_type": "display_data"
    }
   ],
   "source": [
    "# Plot loss and val_loss as one plot, and accuracy and val_accuracy as another, side-by-side.\n",
    "# We'll also save this plot as plot_history() in the helper_functions file, so any time we need to\n",
    "# plot the history object like this we can just call that function and pass the history object as\n",
    "# an argument.\n",
    "fig, ax = plt.subplots(1, 2, figsize=(14, 6))\n",
    "num_epochs = len(history.history['loss'])\n",
    "ax[0].plot(history.history['loss'], label='training')\n",
    "ax[0].plot(history.history['val_loss'], label='validation')\n",
    "ax[0].set_title(\"Model loss\")\n",
    "ax[0].set_xlabel(\"Epoch\")\n",
    "ax[0].set_ylabel(\"Loss\")\n",
    "ax[0].set_xticks(np.arange(num_epochs))\n",
    "ax[0].legend()\n",
    "\n",
    "ax[1].plot(history.history['accuracy'], label='training')\n",
    "ax[1].plot(history.history['val_accuracy'], label='validation')\n",
    "ax[1].set_title(\"Model accburacy\")\n",
    "ax[1].set_xlabel(\"Epoch\")\n",
    "ax[1].set_ylabel(\"Accuracy\")\n",
    "ax[1].set_xticks(np.arange(num_epochs))\n",
    "ax[1].legend()"
   ]
  },
  {
   "cell_type": "markdown",
   "metadata": {},
   "source": [
    "The plotting function will only plot these two metrics regardless of how many other metrics we add to the model,\n",
    "but it's a starting point that can be extended as you might add more metrics."
   ]
  },
  {
   "cell_type": "code",
   "execution_count": 8,
   "metadata": {},
   "outputs": [],
   "source": [
    "# Predict on the validation set\n",
    "pred = model.predict([normalize_image_data(images[val_idx])])\n",
    "# Convert sigmoid values from prediction to integers so it works with the function.\n",
    "result = pred > 0.5"
   ]
  },
  {
   "cell_type": "markdown",
   "metadata": {},
   "source": [
    "## Collection of metrics\n",
    "Check out the notebook on logistic regression for details around the metrics."
   ]
  },
  {
   "cell_type": "code",
   "execution_count": 9,
   "metadata": {},
   "outputs": [],
   "source": [
    "accuracy = accuracy_score(labels[val_idx], result)\n",
    "confmat = confusion_matrix(labels[val_idx], result)\n",
    "f1 = f1_score(labels[val_idx], result)\n",
    "mcc = matthews_corrcoef(labels[val_idx], result)"
   ]
  },
  {
   "cell_type": "code",
   "execution_count": 10,
   "metadata": {},
   "outputs": [
    {
     "name": "stdout",
     "output_type": "stream",
     "text": [
      "Confusion matrix:\n",
      " [[744 290]\n",
      " [111 855]]\n",
      "Accuracy: 0.7995\n",
      "F1-score: 0.8100426338228327\n",
      "MCC: 0.610733820165634\n"
     ]
    }
   ],
   "source": [
    "# Print the metrics in an orderly fashion\n",
    "print(\"Confusion matrix:\\n\", confmat)\n",
    "print(\"Accuracy:\", accuracy)\n",
    "print(\"F1-score:\", f1)\n",
    "print(\"MCC:\", mcc)"
   ]
  },
  {
   "cell_type": "markdown",
   "metadata": {},
   "source": [
    "## ROC-Curve and Area Under Curve"
   ]
  },
  {
   "cell_type": "code",
   "execution_count": 11,
   "metadata": {},
   "outputs": [
    {
     "data": {
      "image/png": "[encoded data removed]",
      "text/plain": [
       "<Figure size 432x288 with 1 Axes>"
      ]
     },
     "metadata": {
      "needs_background": "light"
     },
     "output_type": "display_data"
    }
   ],
   "source": [
    "# Use the function we saved from the notebook on logistic regression\n",
    "plot_roc_auc(labels[val_idx], pred)"
   ]
  }
 ],
 "metadata": {
  "hide_input": false,
  "kernelspec": {
   "display_name": "Python 3",
   "language": "python",
   "name": "python3"
  },
  "language_info": {
   "codemirror_mode": {
    "name": "ipython",
    "version": 3
   },
   "file_extension": ".py",
   "mimetype": "text/x-python",
   "name": "python",
   "nbconvert_exporter": "python",
   "pygments_lexer": "ipython3",
   "version": "3.8.5"
  },
  "toc": {
   "base_numbering": 1,
   "nav_menu": {},
   "number_sections": true,
   "sideBar": true,
   "skip_h1_title": false,
   "title_cell": "Table of Contents",
   "title_sidebar": "Contents",
   "toc_cell": false,
   "toc_position": {},
   "toc_section_display": true,
   "toc_window_display": false
  }
 },
 "nbformat": 4,
 "nbformat_minor": 4
}
