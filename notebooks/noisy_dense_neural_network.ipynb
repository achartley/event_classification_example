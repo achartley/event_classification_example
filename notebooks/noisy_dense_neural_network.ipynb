{
 "cells": [
  {
   "cell_type": "markdown",
   "metadata": {},
   "source": [
    "# Classification using dense neural network (fully connected)\n",
    "For this exercise we'll be using [Keras](https://keras.io/).. In addition you need either [TensorFlow](https://www.tensorflow.org/) or [PyTorch](https://pytorch.org/)\n",
    "as the underlying framework. Or, you can also continue with scikit-learn, which also has dense / fully connected networks implemented."
   ]
  },
  {
   "cell_type": "markdown",
   "metadata": {},
   "source": [
    "## Normalization of image data\n",
    "We apply the same normalization as for logistic regression. Recall that we have saved this function in a file\n",
    "called `helper_functions.py`, and can import and use it directly from there."
   ]
  },
  {
   "cell_type": "markdown",
   "metadata": {},
   "source": [
    "## Numpy approach"
   ]
  },
  {
   "cell_type": "code",
   "execution_count": 1,
   "metadata": {},
   "outputs": [],
   "source": [
    "# Imports\n",
    "import numpy as np\n",
    "import matplotlib.pyplot as plt\n",
    "from keras.models import Sequential\n",
    "from keras.layers import Dense, InputLayer\n",
    "from sklearn.model_selection import train_test_split\n",
    "from sklearn.metrics import (accuracy_score, confusion_matrix, f1_score, \n",
    "                             matthews_corrcoef, roc_curve, roc_auc_score)\n",
    "from helper_functions import normalize_image_data, plot_roc_auc, noise_gen\n",
    "from timeit import default_timer as timer\n",
    "\n",
    "%load_ext autoreload\n",
    "%autoreload 2"
   ]
  },
  {
   "cell_type": "code",
   "execution_count": 2,
   "metadata": {},
   "outputs": [],
   "source": [
    "# Load images and labels.\n",
    "DATA_PATH = \"../data/\"\n",
    "\n",
    "images = np.load(DATA_PATH+\"nimages_training.npy\")\n",
    "labels = np.load(DATA_PATH+\"labels_training.npy\")\n",
    "\n",
    "\n",
    "# Just like with logistic regression, we need to reshape the images to\n",
    "# be one-dimensional for the input to the model.\n",
    "images = images.reshape(images.shape[0], 256)\n",
    "\n",
    "# Split the training indices into training and validation. \n",
    "# Validate with 25% of the data (default). Can be adjusted.\n",
    "x_idx = np.arange(images.shape[0])\n",
    "train_idx, val_idx, not_used1, not_used2 = train_test_split(x_idx, x_idx, test_size = 0.25)"
   ]
  },
  {
   "cell_type": "code",
   "execution_count": 3,
   "metadata": {},
   "outputs": [],
   "source": [
    "#rdfile = np.genfromtxt(DATA_PATH+\"ratiodist.txt\")\n",
    "#images_test = np.load(DATA_PATH+\"images_test.npy\")\n",
    "#images = images.reshape(images.shape[0], 256)\n",
    "\n",
    "#nimages = []\n",
    "\n",
    "\n",
    "#This takes a long time (1:20m for 8000 matrices) so we'll save it to a file\n",
    "\n",
    "#for image in images:\n",
    "#    nimages.append(image*noise_gen(rdfile))\n",
    "\n",
    "#np.save(DATA_PATH+\"nimages_test\",nimages)\n",
    "\n"
   ]
  },
  {
   "cell_type": "markdown",
   "metadata": {},
   "source": [
    "### Build a model\n",
    "We're going to start off with a simple feed-forward neural network one hidden layer. This is a binary classifier, so\n",
    "we techincally only need it to output one number.\n",
    "\n",
    "What about the number of nodes in the hidden input layer?\n",
    "The top post in [this](https://stats.stackexchange.com/questions/181/how-to-choose-the-number-of-hidden-layers-and-nodes-in-a-feedforward-neural-netw) stackexchange question points to some good sources of information about this.\n",
    "\n",
    "> There are some empirically-derived rules-of-thumb, of these, the most commonly relied on is 'the optimal size of the hidden layer is usually between the size of the input and size of the output layers'\n",
    "(Jeff Heaton, author of [Introduction to Neural Networks in Java](https://www.heatonresearch.com/book/) offers a few more.)"
   ]
  },
  {
   "cell_type": "code",
   "execution_count": 4,
   "metadata": {},
   "outputs": [
    {
     "name": "stdout",
     "output_type": "stream",
     "text": [
      "Model: \"sequential\"\n",
      "_________________________________________________________________\n",
      "Layer (type)                 Output Shape              Param #   \n",
      "=================================================================\n",
      "dense (Dense)                (None, 64)                16448     \n",
      "_________________________________________________________________\n",
      "dense_1 (Dense)              (None, 1)                 65        \n",
      "=================================================================\n",
      "Total params: 16,513\n",
      "Trainable params: 16,513\n",
      "Non-trainable params: 0\n",
      "_________________________________________________________________\n"
     ]
    }
   ],
   "source": [
    "# Init the Sequential model\n",
    "model = Sequential()\n",
    "# Add Input layer\n",
    "model.add(InputLayer(input_shape=(images.shape[1],)))\n",
    "\n",
    "# Add hidden layer\n",
    "model.add(Dense(64, activation='relu'))\n",
    "\n",
    "# Add output layer.\n",
    "model.add(Dense(1, activation='sigmoid'))\n",
    "\n",
    "# Finally, compile the model and print a summary. Loss function and optimizer is set during compilation.\n",
    "model.compile(\n",
    "    loss='binary_crossentropy',\n",
    "    optimizer='adam',\n",
    "    metrics=['accuracy']\n",
    ")\n",
    "model.summary()"
   ]
  },
  {
   "cell_type": "markdown",
   "metadata": {},
   "source": [
    "### Train the model\n",
    "The fit() function returns a history object that we'll store to plot how the training developed with epochs.\n",
    "First we need to set som training parameters.\n",
    "\n",
    "Note that if you would like to change something about the the model and run training again, you must\n",
    "re-compile the model. Otherwise you will essentially just be doubling the number of epochs."
   ]
  },
  {
   "cell_type": "code",
   "execution_count": 5,
   "metadata": {},
   "outputs": [],
   "source": [
    "# Set parameters for the training run. For the small set of 10k events you can probably get \n",
    "# away with even 100 epochs in a fairly small time, depending on your CPU.\n",
    "epochs = 100\n",
    "batch_size = 32"
   ]
  },
  {
   "cell_type": "code",
   "execution_count": 6,
   "metadata": {
    "scrolled": true
   },
   "outputs": [
    {
     "name": "stdout",
     "output_type": "stream",
     "text": [
      "Epoch 1/100\n",
      "188/188 [==============================] - 1s 4ms/step - loss: 0.6575 - accuracy: 0.6440 - val_loss: 0.6113 - val_accuracy: 0.7225\n",
      "Epoch 2/100\n",
      "188/188 [==============================] - 0s 2ms/step - loss: 0.5646 - accuracy: 0.7253 - val_loss: 0.5261 - val_accuracy: 0.7350\n",
      "Epoch 3/100\n",
      "188/188 [==============================] - 0s 2ms/step - loss: 0.5131 - accuracy: 0.7347 - val_loss: 0.5033 - val_accuracy: 0.7370\n",
      "Epoch 4/100\n",
      "188/188 [==============================] - 1s 3ms/step - loss: 0.5008 - accuracy: 0.7367 - val_loss: 0.4982 - val_accuracy: 0.7400\n",
      "Epoch 5/100\n",
      "188/188 [==============================] - 0s 2ms/step - loss: 0.4968 - accuracy: 0.7407 - val_loss: 0.4972 - val_accuracy: 0.7390\n",
      "Epoch 6/100\n",
      "188/188 [==============================] - 0s 2ms/step - loss: 0.4934 - accuracy: 0.7407 - val_loss: 0.4968 - val_accuracy: 0.7425\n",
      "Epoch 7/100\n",
      "188/188 [==============================] - 1s 3ms/step - loss: 0.4903 - accuracy: 0.7458 - val_loss: 0.4954 - val_accuracy: 0.7370\n",
      "Epoch 8/100\n",
      "188/188 [==============================] - 0s 2ms/step - loss: 0.4890 - accuracy: 0.7450 - val_loss: 0.4945 - val_accuracy: 0.7425\n",
      "Epoch 9/100\n",
      "188/188 [==============================] - 0s 2ms/step - loss: 0.4864 - accuracy: 0.7478 - val_loss: 0.4919 - val_accuracy: 0.7425\n",
      "Epoch 10/100\n",
      "188/188 [==============================] - 0s 2ms/step - loss: 0.4833 - accuracy: 0.7503 - val_loss: 0.4905 - val_accuracy: 0.7450\n",
      "Epoch 11/100\n",
      "188/188 [==============================] - 0s 2ms/step - loss: 0.4809 - accuracy: 0.7530 - val_loss: 0.4891 - val_accuracy: 0.7480\n",
      "Epoch 12/100\n",
      "188/188 [==============================] - 0s 2ms/step - loss: 0.4780 - accuracy: 0.7585 - val_loss: 0.4877 - val_accuracy: 0.7465\n",
      "Epoch 13/100\n",
      "188/188 [==============================] - 0s 2ms/step - loss: 0.4755 - accuracy: 0.7573 - val_loss: 0.4857 - val_accuracy: 0.7505\n",
      "Epoch 14/100\n",
      "188/188 [==============================] - 0s 2ms/step - loss: 0.4719 - accuracy: 0.7585 - val_loss: 0.4878 - val_accuracy: 0.7550\n",
      "Epoch 15/100\n",
      "188/188 [==============================] - 0s 2ms/step - loss: 0.4703 - accuracy: 0.7643 - val_loss: 0.4827 - val_accuracy: 0.7500\n",
      "Epoch 16/100\n",
      "188/188 [==============================] - 0s 2ms/step - loss: 0.4671 - accuracy: 0.7660 - val_loss: 0.4806 - val_accuracy: 0.7570\n",
      "Epoch 17/100\n",
      "188/188 [==============================] - 0s 2ms/step - loss: 0.4643 - accuracy: 0.7692 - val_loss: 0.4785 - val_accuracy: 0.7530\n",
      "Epoch 18/100\n",
      "188/188 [==============================] - 0s 2ms/step - loss: 0.4619 - accuracy: 0.7712 - val_loss: 0.4765 - val_accuracy: 0.7590\n",
      "Epoch 19/100\n",
      "188/188 [==============================] - 0s 2ms/step - loss: 0.4590 - accuracy: 0.7730 - val_loss: 0.4747 - val_accuracy: 0.7610\n",
      "Epoch 20/100\n",
      "188/188 [==============================] - 0s 2ms/step - loss: 0.4558 - accuracy: 0.7768 - val_loss: 0.4766 - val_accuracy: 0.7565\n",
      "Epoch 21/100\n",
      "188/188 [==============================] - 1s 3ms/step - loss: 0.4537 - accuracy: 0.7742 - val_loss: 0.4697 - val_accuracy: 0.7630\n",
      "Epoch 22/100\n",
      "188/188 [==============================] - 0s 2ms/step - loss: 0.4497 - accuracy: 0.7773 - val_loss: 0.4711 - val_accuracy: 0.7660\n",
      "Epoch 23/100\n",
      "188/188 [==============================] - 0s 2ms/step - loss: 0.4480 - accuracy: 0.7790 - val_loss: 0.4661 - val_accuracy: 0.7690\n",
      "Epoch 24/100\n",
      "188/188 [==============================] - 0s 2ms/step - loss: 0.4444 - accuracy: 0.7855 - val_loss: 0.4659 - val_accuracy: 0.7615\n",
      "Epoch 25/100\n",
      "188/188 [==============================] - 0s 2ms/step - loss: 0.4429 - accuracy: 0.7818 - val_loss: 0.4614 - val_accuracy: 0.7710\n",
      "Epoch 26/100\n",
      "188/188 [==============================] - 1s 3ms/step - loss: 0.4400 - accuracy: 0.7877 - val_loss: 0.4584 - val_accuracy: 0.7730\n",
      "Epoch 27/100\n",
      "188/188 [==============================] - 0s 2ms/step - loss: 0.4366 - accuracy: 0.7925 - val_loss: 0.4603 - val_accuracy: 0.7685\n",
      "Epoch 28/100\n",
      "188/188 [==============================] - 0s 2ms/step - loss: 0.4340 - accuracy: 0.7920 - val_loss: 0.4538 - val_accuracy: 0.7765\n",
      "Epoch 29/100\n",
      "188/188 [==============================] - 0s 2ms/step - loss: 0.4320 - accuracy: 0.7935 - val_loss: 0.4522 - val_accuracy: 0.7805\n",
      "Epoch 30/100\n",
      "188/188 [==============================] - 0s 2ms/step - loss: 0.4293 - accuracy: 0.7982 - val_loss: 0.4500 - val_accuracy: 0.7800\n",
      "Epoch 31/100\n",
      "188/188 [==============================] - 0s 3ms/step - loss: 0.4273 - accuracy: 0.7975 - val_loss: 0.4468 - val_accuracy: 0.7815\n",
      "Epoch 32/100\n",
      "188/188 [==============================] - 0s 2ms/step - loss: 0.4239 - accuracy: 0.8028 - val_loss: 0.4445 - val_accuracy: 0.7855\n",
      "Epoch 33/100\n",
      "188/188 [==============================] - 1s 3ms/step - loss: 0.4214 - accuracy: 0.8022 - val_loss: 0.4433 - val_accuracy: 0.7875\n",
      "Epoch 34/100\n",
      "188/188 [==============================] - 0s 2ms/step - loss: 0.4196 - accuracy: 0.8073 - val_loss: 0.4431 - val_accuracy: 0.7825\n",
      "Epoch 35/100\n",
      "188/188 [==============================] - 0s 2ms/step - loss: 0.4176 - accuracy: 0.8048 - val_loss: 0.4388 - val_accuracy: 0.7880\n",
      "Epoch 36/100\n",
      "188/188 [==============================] - 0s 2ms/step - loss: 0.4147 - accuracy: 0.8078 - val_loss: 0.4383 - val_accuracy: 0.7880\n",
      "Epoch 37/100\n",
      "188/188 [==============================] - 0s 2ms/step - loss: 0.4136 - accuracy: 0.8110 - val_loss: 0.4343 - val_accuracy: 0.7940\n",
      "Epoch 38/100\n",
      "188/188 [==============================] - 0s 2ms/step - loss: 0.4106 - accuracy: 0.8138 - val_loss: 0.4326 - val_accuracy: 0.7965\n",
      "Epoch 39/100\n",
      "188/188 [==============================] - 0s 2ms/step - loss: 0.4080 - accuracy: 0.8147 - val_loss: 0.4304 - val_accuracy: 0.7955\n",
      "Epoch 40/100\n",
      "188/188 [==============================] - 0s 2ms/step - loss: 0.4065 - accuracy: 0.8172 - val_loss: 0.4290 - val_accuracy: 0.7975\n",
      "Epoch 41/100\n",
      "188/188 [==============================] - 0s 2ms/step - loss: 0.4042 - accuracy: 0.8198 - val_loss: 0.4265 - val_accuracy: 0.7985\n",
      "Epoch 42/100\n",
      "188/188 [==============================] - 0s 2ms/step - loss: 0.4027 - accuracy: 0.8193 - val_loss: 0.4244 - val_accuracy: 0.8025\n",
      "Epoch 43/100\n",
      "188/188 [==============================] - 1s 3ms/step - loss: 0.3995 - accuracy: 0.8223 - val_loss: 0.4252 - val_accuracy: 0.7970\n",
      "Epoch 44/100\n",
      "188/188 [==============================] - 0s 2ms/step - loss: 0.3979 - accuracy: 0.8235 - val_loss: 0.4249 - val_accuracy: 0.7995\n",
      "Epoch 45/100\n",
      "188/188 [==============================] - 0s 2ms/step - loss: 0.3963 - accuracy: 0.8240 - val_loss: 0.4190 - val_accuracy: 0.8045\n",
      "Epoch 46/100\n",
      "188/188 [==============================] - 0s 2ms/step - loss: 0.3944 - accuracy: 0.8258 - val_loss: 0.4182 - val_accuracy: 0.8080\n",
      "Epoch 47/100\n",
      "188/188 [==============================] - 0s 2ms/step - loss: 0.3923 - accuracy: 0.8257 - val_loss: 0.4164 - val_accuracy: 0.8060\n",
      "Epoch 48/100\n",
      "188/188 [==============================] - 1s 3ms/step - loss: 0.3904 - accuracy: 0.8280 - val_loss: 0.4137 - val_accuracy: 0.8090\n",
      "Epoch 49/100\n",
      "188/188 [==============================] - 0s 3ms/step - loss: 0.3889 - accuracy: 0.8298 - val_loss: 0.4135 - val_accuracy: 0.8075\n",
      "Epoch 50/100\n",
      "188/188 [==============================] - 0s 2ms/step - loss: 0.3875 - accuracy: 0.8298 - val_loss: 0.4102 - val_accuracy: 0.8120\n",
      "Epoch 51/100\n",
      "188/188 [==============================] - 0s 2ms/step - loss: 0.3855 - accuracy: 0.8312 - val_loss: 0.4134 - val_accuracy: 0.8065\n",
      "Epoch 52/100\n",
      "188/188 [==============================] - 1s 3ms/step - loss: 0.3843 - accuracy: 0.8315 - val_loss: 0.4070 - val_accuracy: 0.8100\n",
      "Epoch 53/100\n",
      "188/188 [==============================] - 0s 2ms/step - loss: 0.3821 - accuracy: 0.8332 - val_loss: 0.4069 - val_accuracy: 0.8035\n",
      "Epoch 54/100\n",
      "188/188 [==============================] - 0s 2ms/step - loss: 0.3806 - accuracy: 0.8372 - val_loss: 0.4043 - val_accuracy: 0.8105\n",
      "Epoch 55/100\n",
      "188/188 [==============================] - 0s 2ms/step - loss: 0.3790 - accuracy: 0.8392 - val_loss: 0.4022 - val_accuracy: 0.8135\n",
      "Epoch 56/100\n",
      "188/188 [==============================] - 0s 2ms/step - loss: 0.3775 - accuracy: 0.8367 - val_loss: 0.4012 - val_accuracy: 0.8130\n",
      "Epoch 57/100\n",
      "188/188 [==============================] - 0s 2ms/step - loss: 0.3758 - accuracy: 0.8398 - val_loss: 0.4007 - val_accuracy: 0.8120\n"
     ]
    },
    {
     "name": "stdout",
     "output_type": "stream",
     "text": [
      "Epoch 58/100\n",
      "188/188 [==============================] - 0s 2ms/step - loss: 0.3747 - accuracy: 0.8362 - val_loss: 0.3971 - val_accuracy: 0.8155\n",
      "Epoch 59/100\n",
      "188/188 [==============================] - 0s 2ms/step - loss: 0.3726 - accuracy: 0.8400 - val_loss: 0.3959 - val_accuracy: 0.8150\n",
      "Epoch 60/100\n",
      "188/188 [==============================] - 0s 2ms/step - loss: 0.3711 - accuracy: 0.8438 - val_loss: 0.3961 - val_accuracy: 0.8135\n",
      "Epoch 61/100\n",
      "188/188 [==============================] - 0s 2ms/step - loss: 0.3698 - accuracy: 0.8392 - val_loss: 0.3981 - val_accuracy: 0.8170\n",
      "Epoch 62/100\n",
      "188/188 [==============================] - 0s 2ms/step - loss: 0.3688 - accuracy: 0.8447 - val_loss: 0.3926 - val_accuracy: 0.8150\n",
      "Epoch 63/100\n",
      "188/188 [==============================] - 0s 2ms/step - loss: 0.3669 - accuracy: 0.8440 - val_loss: 0.3909 - val_accuracy: 0.8165\n",
      "Epoch 64/100\n",
      "188/188 [==============================] - 0s 3ms/step - loss: 0.3660 - accuracy: 0.8418 - val_loss: 0.3891 - val_accuracy: 0.8165\n",
      "Epoch 65/100\n",
      "188/188 [==============================] - 0s 2ms/step - loss: 0.3637 - accuracy: 0.8473 - val_loss: 0.3896 - val_accuracy: 0.8205\n",
      "Epoch 66/100\n",
      "188/188 [==============================] - 0s 2ms/step - loss: 0.3630 - accuracy: 0.8463 - val_loss: 0.3859 - val_accuracy: 0.8195\n",
      "Epoch 67/100\n",
      "188/188 [==============================] - 0s 2ms/step - loss: 0.3610 - accuracy: 0.8483 - val_loss: 0.3858 - val_accuracy: 0.8220\n",
      "Epoch 68/100\n",
      "188/188 [==============================] - 0s 2ms/step - loss: 0.3602 - accuracy: 0.8515 - val_loss: 0.3858 - val_accuracy: 0.8190\n",
      "Epoch 69/100\n",
      "188/188 [==============================] - 0s 2ms/step - loss: 0.3595 - accuracy: 0.8497 - val_loss: 0.3822 - val_accuracy: 0.8195\n",
      "Epoch 70/100\n",
      "188/188 [==============================] - 0s 2ms/step - loss: 0.3576 - accuracy: 0.8545 - val_loss: 0.3809 - val_accuracy: 0.8205\n",
      "Epoch 71/100\n",
      "188/188 [==============================] - 0s 3ms/step - loss: 0.3564 - accuracy: 0.8523 - val_loss: 0.3797 - val_accuracy: 0.8190\n",
      "Epoch 72/100\n",
      "188/188 [==============================] - 0s 2ms/step - loss: 0.3556 - accuracy: 0.8502 - val_loss: 0.3794 - val_accuracy: 0.8270\n",
      "Epoch 73/100\n",
      "188/188 [==============================] - 0s 2ms/step - loss: 0.3542 - accuracy: 0.8537 - val_loss: 0.3785 - val_accuracy: 0.8210\n",
      "Epoch 74/100\n",
      "188/188 [==============================] - 0s 2ms/step - loss: 0.3518 - accuracy: 0.8518 - val_loss: 0.3784 - val_accuracy: 0.8240\n",
      "Epoch 75/100\n",
      "188/188 [==============================] - 1s 3ms/step - loss: 0.3515 - accuracy: 0.8538 - val_loss: 0.3763 - val_accuracy: 0.8260\n",
      "Epoch 76/100\n",
      "188/188 [==============================] - 1s 3ms/step - loss: 0.3501 - accuracy: 0.8550 - val_loss: 0.3751 - val_accuracy: 0.8280\n",
      "Epoch 77/100\n",
      "188/188 [==============================] - 0s 2ms/step - loss: 0.3500 - accuracy: 0.8543 - val_loss: 0.3733 - val_accuracy: 0.8270\n",
      "Epoch 78/100\n",
      "188/188 [==============================] - 0s 2ms/step - loss: 0.3485 - accuracy: 0.8568 - val_loss: 0.3715 - val_accuracy: 0.8315\n",
      "Epoch 79/100\n",
      "188/188 [==============================] - 0s 3ms/step - loss: 0.3462 - accuracy: 0.8582 - val_loss: 0.3725 - val_accuracy: 0.8265\n",
      "Epoch 80/100\n",
      "188/188 [==============================] - 0s 2ms/step - loss: 0.3461 - accuracy: 0.8568 - val_loss: 0.3693 - val_accuracy: 0.8300\n",
      "Epoch 81/100\n",
      "188/188 [==============================] - 1s 3ms/step - loss: 0.3446 - accuracy: 0.8603 - val_loss: 0.3689 - val_accuracy: 0.8315\n",
      "Epoch 82/100\n",
      "188/188 [==============================] - 0s 2ms/step - loss: 0.3440 - accuracy: 0.8570 - val_loss: 0.3682 - val_accuracy: 0.8305\n",
      "Epoch 83/100\n",
      "188/188 [==============================] - 0s 2ms/step - loss: 0.3427 - accuracy: 0.8602 - val_loss: 0.3673 - val_accuracy: 0.8340\n",
      "Epoch 84/100\n",
      "188/188 [==============================] - 0s 2ms/step - loss: 0.3417 - accuracy: 0.8628 - val_loss: 0.3655 - val_accuracy: 0.8325\n",
      "Epoch 85/100\n",
      "188/188 [==============================] - 0s 2ms/step - loss: 0.3404 - accuracy: 0.8633 - val_loss: 0.3653 - val_accuracy: 0.8330\n",
      "Epoch 86/100\n",
      "188/188 [==============================] - 0s 2ms/step - loss: 0.3393 - accuracy: 0.8602 - val_loss: 0.3654 - val_accuracy: 0.8340\n",
      "Epoch 87/100\n",
      "188/188 [==============================] - 0s 2ms/step - loss: 0.3385 - accuracy: 0.8610 - val_loss: 0.3626 - val_accuracy: 0.8355\n",
      "Epoch 88/100\n",
      "188/188 [==============================] - 0s 2ms/step - loss: 0.3372 - accuracy: 0.8632 - val_loss: 0.3620 - val_accuracy: 0.8375\n",
      "Epoch 89/100\n",
      "188/188 [==============================] - 0s 2ms/step - loss: 0.3368 - accuracy: 0.8640 - val_loss: 0.3611 - val_accuracy: 0.8375\n",
      "Epoch 90/100\n",
      "188/188 [==============================] - 0s 2ms/step - loss: 0.3357 - accuracy: 0.8663 - val_loss: 0.3605 - val_accuracy: 0.8390\n",
      "Epoch 91/100\n",
      "188/188 [==============================] - 0s 2ms/step - loss: 0.3347 - accuracy: 0.8655 - val_loss: 0.3613 - val_accuracy: 0.8380\n",
      "Epoch 92/100\n",
      "188/188 [==============================] - 0s 2ms/step - loss: 0.3333 - accuracy: 0.8662 - val_loss: 0.3620 - val_accuracy: 0.8380\n",
      "Epoch 93/100\n",
      "188/188 [==============================] - 0s 2ms/step - loss: 0.3326 - accuracy: 0.8673 - val_loss: 0.3579 - val_accuracy: 0.8395\n",
      "Epoch 94/100\n",
      "188/188 [==============================] - 0s 2ms/step - loss: 0.3310 - accuracy: 0.8678 - val_loss: 0.3591 - val_accuracy: 0.8345\n",
      "Epoch 95/100\n",
      "188/188 [==============================] - 0s 2ms/step - loss: 0.3313 - accuracy: 0.8683 - val_loss: 0.3585 - val_accuracy: 0.8380\n",
      "Epoch 96/100\n",
      "188/188 [==============================] - 0s 2ms/step - loss: 0.3303 - accuracy: 0.8683 - val_loss: 0.3562 - val_accuracy: 0.8380\n",
      "Epoch 97/100\n",
      "188/188 [==============================] - 0s 2ms/step - loss: 0.3293 - accuracy: 0.8668 - val_loss: 0.3537 - val_accuracy: 0.8440\n",
      "Epoch 98/100\n",
      "188/188 [==============================] - 0s 2ms/step - loss: 0.3284 - accuracy: 0.8707 - val_loss: 0.3540 - val_accuracy: 0.8420\n",
      "Epoch 99/100\n",
      "188/188 [==============================] - 0s 2ms/step - loss: 0.3276 - accuracy: 0.8693 - val_loss: 0.3531 - val_accuracy: 0.8425\n",
      "Epoch 100/100\n",
      "188/188 [==============================] - 0s 2ms/step - loss: 0.3260 - accuracy: 0.8673 - val_loss: 0.3509 - val_accuracy: 0.8445\n"
     ]
    }
   ],
   "source": [
    "# The validation_data keywork expects a 'tuple' (val_x, val_y) so we make one on the fly\n",
    "history = model.fit(\n",
    "    x=normalize_image_data(images[train_idx]),\n",
    "    y=labels[train_idx],\n",
    "    validation_data=(normalize_image_data(images[val_idx]), labels[val_idx]),\n",
    "    epochs=epochs,\n",
    "    batch_size=batch_size,\n",
    ")"
   ]
  },
  {
   "cell_type": "markdown",
   "metadata": {},
   "source": [
    "### Evaluate the model\n",
    "Let's use the history object to plot how the loss and accuracy changed during training.\n",
    "The history contains a dictionary of the currently applied metrics as keys. In this case we have the\n",
    "keys \"loss\", \"accuracy\", \"val_loss\", and \"val_accuracy\". \"loss\" and \"accuracy\" pertain to the training data, while\n",
    "\"val_loss\" and \"val_accuracy\" are the metrics for the validation data we provided."
   ]
  },
  {
   "cell_type": "code",
   "execution_count": 13,
   "metadata": {},
   "outputs": [
    {
     "data": {
      "text/plain": [
       "<matplotlib.legend.Legend at 0x1c55ebc5e50>"
      ]
     },
     "execution_count": 13,
     "metadata": {},
     "output_type": "execute_result"
    },
    {
     "data": {
      "image/png": "[encoded data removed]",
      "text/plain": [
       "<Figure size 1008x432 with 2 Axes>"
      ]
     },
     "metadata": {
      "needs_background": "light"
     },
     "output_type": "display_data"
    }
   ],
   "source": [
    "# Plot loss and val_loss as one plot, and accuracy and val_accuracy as another, side-by-side.\n",
    "# We'll also save this plot as plot_history() in the helper_functions file, so any time we need to\n",
    "# plot the history object like this we can just call that function and pass the history object as\n",
    "# an argument.\n",
    "fig, ax = plt.subplots(1, 2, figsize=(14, 6))\n",
    "num_epochs = len(history.history['loss'])\n",
    "ax[0].plot(history.history['loss'], label='training')\n",
    "ax[0].plot(history.history['val_loss'], label='validation')\n",
    "ax[0].set_title(\"Model loss\")\n",
    "ax[0].set_xlabel(\"Epoch\")\n",
    "ax[0].set_ylabel(\"Loss\")\n",
    "ax[0].set_xticks(np.arange(num_epochs))\n",
    "ax[0].legend()\n",
    "\n",
    "ax[1].plot(history.history['accuracy'], label='training')\n",
    "ax[1].plot(history.history['val_accuracy'], label='validation')\n",
    "ax[1].set_title(\"Model accburacy\")\n",
    "ax[1].set_xlabel(\"Epoch\")\n",
    "ax[1].set_ylabel(\"Accuracy\")\n",
    "ax[1].set_xticks(np.arange(num_epochs))\n",
    "ax[1].legend()"
   ]
  },
  {
   "cell_type": "markdown",
   "metadata": {},
   "source": [
    "The plotting function will only plot these two metrics regardless of how many other metrics we add to the model,\n",
    "but it's a starting point that can be extended as you might add more metrics."
   ]
  },
  {
   "cell_type": "code",
   "execution_count": 8,
   "metadata": {},
   "outputs": [],
   "source": [
    "# Predict on the validation set\n",
    "pred = model.predict([normalize_image_data(images[val_idx])])\n",
    "# Convert sigmoid values from prediction to integers so it works with the function.\n",
    "result = pred > 0.5"
   ]
  },
  {
   "cell_type": "markdown",
   "metadata": {},
   "source": [
    "## Collection of metrics\n",
    "Check out the notebook on logistic regression for details around the metrics."
   ]
  },
  {
   "cell_type": "code",
   "execution_count": 9,
   "metadata": {},
   "outputs": [],
   "source": [
    "accuracy = accuracy_score(labels[val_idx], result)\n",
    "confmat = confusion_matrix(labels[val_idx], result)\n",
    "f1 = f1_score(labels[val_idx], result)\n",
    "mcc = matthews_corrcoef(labels[val_idx], result)"
   ]
  },
  {
   "cell_type": "code",
   "execution_count": 10,
   "metadata": {},
   "outputs": [
    {
     "name": "stdout",
     "output_type": "stream",
     "text": [
      "Confusion matrix:\n",
      " [[932 101]\n",
      " [210 757]]\n",
      "Accuracy: 0.8445\n",
      "F1-score: 0.8295890410958904\n",
      "MCC: 0.691696107006841\n"
     ]
    }
   ],
   "source": [
    "# Print the metrics in an orderly fashion\n",
    "print(\"Confusion matrix:\\n\", confmat)\n",
    "print(\"Accuracy:\", accuracy)\n",
    "print(\"F1-score:\", f1)\n",
    "print(\"MCC:\", mcc)"
   ]
  },
  {
   "cell_type": "markdown",
   "metadata": {},
   "source": [
    "## ROC-Curve and Area Under Curve"
   ]
  },
  {
   "cell_type": "code",
   "execution_count": 11,
   "metadata": {},
   "outputs": [
    {
     "data": {
      "image/png": "[encoded data removed]",
      "text/plain": [
       "<Figure size 432x288 with 1 Axes>"
      ]
     },
     "metadata": {
      "needs_background": "light"
     },
     "output_type": "display_data"
    }
   ],
   "source": [
    "# Use the function we saved from the notebook on logistic regression\n",
    "plot_roc_auc(labels[val_idx], pred)"
   ]
  }
 ],
 "metadata": {
  "hide_input": false,
  "kernelspec": {
   "display_name": "Python 3",
   "language": "python",
   "name": "python3"
  },
  "language_info": {
   "codemirror_mode": {
    "name": "ipython",
    "version": 3
   },
   "file_extension": ".py",
   "mimetype": "text/x-python",
   "name": "python",
   "nbconvert_exporter": "python",
   "pygments_lexer": "ipython3",
   "version": "3.8.5"
  },
  "toc": {
   "base_numbering": 1,
   "nav_menu": {},
   "number_sections": true,
   "sideBar": true,
   "skip_h1_title": false,
   "title_cell": "Table of Contents",
   "title_sidebar": "Contents",
   "toc_cell": false,
   "toc_position": {},
   "toc_section_display": true,
   "toc_window_display": false
  }
 },
 "nbformat": 4,
 "nbformat_minor": 4
}
