{
 "cells": [
  {
   "cell_type": "markdown",
   "metadata": {},
   "source": [
    "# Classifying simulated events using a Convolutional Neural Network\n",
    "We've seen how we can use logistig regression or feed forward neural networks (FFNN) to classify our data,\n",
    "and now you've also been introduced to what a convolutional neural network is.\n",
    "In this notebook, we're going to use a convolutional neural network (CNN) to classify our data,\n",
    "and even combine CNN and FFNN to expand our model."
   ]
  },
  {
   "cell_type": "code",
   "execution_count": 1,
   "metadata": {},
   "outputs": [],
   "source": [
    "# Imports\n",
    "import numpy as np\n",
    "import matplotlib.pyplot as plt\n",
    "import seaborn as sns\n",
    "import tensorflow as tf\n",
    "from sklearn.model_selection import train_test_split\n",
    "from helper_functions import normalize_image_data\n",
    "%load_ext autoreload\n",
    "%autoreload 2"
   ]
  },
  {
   "cell_type": "code",
   "execution_count": 2,
   "metadata": {},
   "outputs": [],
   "source": [
    "# Load images and labels.\n",
    "DATA_PATH = \"../data/\"\n",
    "\n",
    "images = np.load(DATA_PATH+\"images_training.npy\")\n",
    "labels = np.load(DATA_PATH+\"labels_training.npy\")"
   ]
  },
  {
   "cell_type": "markdown",
   "metadata": {},
   "source": [
    "# Introduction\n",
    "The motivation for uing a CNN to classify this data comes from their huge success in image classification\n",
    "tasks in recent years. Since we can very easily (and even preferably) represent our data as images, it\n",
    "is a natural choice to try a model of this type.\n",
    "This notebook will be a bit more hands-on than the previous ones.\n",
    "\n",
    "You may recall from the lectures that one of the properties of CNNs is that they use 'filters'/'kernels' to\n",
    "extract 'features' from images. But how can we know what type of filters to apply? The answer is - we don't need to! Similar to how a FFNN adjusts its weights in order to increase performance, a CNN adjusts its filters and in that way 'learns' the best filters for a given task.\n",
    "\n",
    "Some very useful documentation to keep at hand while working through this notebook:\n",
    "* [tensorflow.keras.layers](https://www.tensorflow.org/api_docs/python/tf/keras/layers)\n",
    "* [Scikit-Learn model evaluation](https://scikit-learn.org/stable/modules/model_evaluation.html)\n"
   ]
  },
  {
   "cell_type": "markdown",
   "metadata": {},
   "source": [
    "## Data preparation\n",
    "Recall that when we saved our training samples in the import and exploration notebook,\n",
    "we saved the images as an array with the following dimensions (samples, x_pixels, y_pixels).\n",
    "This isn't necessarily a format the convolutional layer will accept, because by default image data\n",
    "has one more dimension - \"channels\". A single image would have the dimensions (x_pixels, y_pixels, channels).\n",
    "For a regular RGB picture this is (x_pixels, y_pixels, 3), since you have one channel for each color.\n",
    "Our data only has one channel, which in a world of colours would be called \"grayscale\".\n",
    "\n",
    "The convolutional layer we will use in our model is called Conv2D ([Doc](https://www.tensorflow.org/api_docs/python/tf/keras/layers/Conv2D)). Take a look at the documentation to determine if you need to modify the image array in order to input it to the layer.\n",
    "\n",
    "Recall that you can use [np.reshape](https://numpy.org/doc/stable/reference/generated/numpy.reshape.html) to modify your array should you need to."
   ]
  },
  {
   "cell_type": "code",
   "execution_count": 3,
   "metadata": {},
   "outputs": [],
   "source": [
    "# Reshape the image array here, if you need to\n",
    "images = np.reshape(images, (images.shape[0], 16, 16, 1))\n"
   ]
  },
  {
   "cell_type": "markdown",
   "metadata": {},
   "source": [
    "One thing that can be useful to check is if we actually saved a balanced dataset. The data is shuffled\n",
    "when scikit-learn's train_test_split function splits it, so it's not guaranteed. Remember that if you\n",
    "don't have a balanced dataset, you need to account for this when concidering which metrics to use\n",
    "in evaluating your model.\n",
    "\n",
    "Numpy's [np.unique](https://numpy.org/doc/1.18/reference/generated/numpy.unique.html?) works great for this."
   ]
  },
  {
   "cell_type": "code",
   "execution_count": 4,
   "metadata": {},
   "outputs": [
    {
     "name": "stdout",
     "output_type": "stream",
     "text": [
      "(array([0, 1]), array([4051, 3949], dtype=int64))\n"
     ]
    }
   ],
   "source": [
    "# Count how many there are of each class and print the results\n",
    "unique = np.unique(labels, return_counts=True)\n",
    "print(unique)\n"
   ]
  },
  {
   "cell_type": "markdown",
   "metadata": {},
   "source": [
    "Lastly, we split the training data into a training set and a validation set, using indices.\n",
    "Working with only 10000 you can also split the image array itself.\n",
    "As in the previous notebooks, [Scikit-Learn's train_test_split](https://scikit-learn.org/stable/modules/generated/sklearn.model_selection.train_test_split.html) will do the job."
   ]
  },
  {
   "cell_type": "code",
   "execution_count": 5,
   "metadata": {},
   "outputs": [],
   "source": [
    "# Split the data into training and validation sets\n",
    "x_train, x_test, y_train, y_test = train_test_split(images, labels)\n"
   ]
  },
  {
   "cell_type": "markdown",
   "metadata": {},
   "source": [
    "# Model\n",
    "Having a common API for machine learning operations between multiple frameworks is great.\n",
    "It means you don't need to re-learn how to build a model every time you want to try out something new!\n",
    "Using the [Sequential](https://www.tensorflow.org/api_docs/python/tf/keras/Sequential) model, you simply\n",
    "add each layer in the order you want, and compile it. Tensorflow takes care of everything."
   ]
  },
  {
   "cell_type": "markdown",
   "metadata": {},
   "source": [
    "## Build and compile\n",
    "We're going to start with just one layer. Take another look at the [documentation](https://www.tensorflow.org/api_docs/python/tf/keras/layers/Conv2D) to see all the configuration options for the Conv2D layer. As a first step we will stick to defining only the necessary arguments to the layer,\n",
    "leaving the rest as default."
   ]
  },
  {
   "cell_type": "code",
   "execution_count": 6,
   "metadata": {
    "scrolled": true
   },
   "outputs": [
    {
     "name": "stdout",
     "output_type": "stream",
     "text": [
      "Model: \"sequential\"\n",
      "_________________________________________________________________\n",
      "Layer (type)                 Output Shape              Param #   \n",
      "=================================================================\n",
      "conv2d (Conv2D)              (None, 14, 14, 32)        320       \n",
      "_________________________________________________________________\n",
      "max_pooling2d (MaxPooling2D) (None, 7, 7, 32)          0         \n",
      "_________________________________________________________________\n",
      "conv2d_1 (Conv2D)            (None, 5, 5, 32)          9248      \n",
      "_________________________________________________________________\n",
      "flatten (Flatten)            (None, 800)               0         \n",
      "_________________________________________________________________\n",
      "dense (Dense)                (None, 1)                 801       \n",
      "=================================================================\n",
      "Total params: 10,369\n",
      "Trainable params: 10,369\n",
      "Non-trainable params: 0\n",
      "_________________________________________________________________\n"
     ]
    }
   ],
   "source": [
    "# Initialize the Sequential model, and add one Conv2D layer to it\n",
    "model = tf.keras.Sequential()\n",
    "model.add(tf.keras.layers.Conv2D(\n",
    "        filters=32,\n",
    "        kernel_size=3,\n",
    "        activation='relu',\n",
    "        input_shape=images.shape[1:] # Shape of a single image\n",
    "    )\n",
    ")\n",
    "model.add(tf.keras.layers.MaxPool2D(2,2))\n",
    "model.add(tf.keras.layers.Conv2D(32, 3, activation='relu'))\n",
    "\n",
    "\n",
    "# Add an output layer to the model\n",
    "# Recall the shape of the input to a dense neural network.\n",
    "# What is the shape of the output from the Conv2D layer?\n",
    "model.add(tf.keras.layers.Flatten())\n",
    "model.add(tf.keras.layers.Dense(1, activation='sigmoid'))\n",
    "\n",
    "\n",
    "# Once the model is defined, we need to compile it. \n",
    "# This is where we specify the loss function, optimizer, and metrics if we want.\n",
    "model.compile(\n",
    "    optimizer='adam',\n",
    "    loss='binary_crossentropy',\n",
    "    metrics=['accuracy']\n",
    ")\n",
    "model.summary()"
   ]
  },
  {
   "cell_type": "markdown",
   "metadata": {},
   "source": [
    "## Training\n",
    "We are ready to train the model. Remember to normalize your inputs if you haven't already done that!\n",
    "You can specify the validation data using the keyword 'validation_data'. Take a look at the [documentation](https://www.tensorflow.org/api_docs/python/tf/keras/Sequential#fit) for the fit() function to see how it\n",
    "expect the validation to be formatted."
   ]
  },
  {
   "cell_type": "code",
   "execution_count": 7,
   "metadata": {},
   "outputs": [],
   "source": [
    "# Training parameters\n",
    "batch_size = 32\n",
    "epochs = 100"
   ]
  },
  {
   "cell_type": "code",
   "execution_count": 8,
   "metadata": {},
   "outputs": [
    {
     "name": "stdout",
     "output_type": "stream",
     "text": [
      "Epoch 1/100\n",
      "188/188 [==============================] - 2s 9ms/step - loss: 0.5826 - accuracy: 0.6770 - val_loss: 0.5078 - val_accuracy: 0.7400\n",
      "Epoch 2/100\n",
      "188/188 [==============================] - 1s 7ms/step - loss: 0.4735 - accuracy: 0.7665 - val_loss: 0.4428 - val_accuracy: 0.7750\n",
      "Epoch 3/100\n",
      "188/188 [==============================] - 2s 8ms/step - loss: 0.4150 - accuracy: 0.8120 - val_loss: 0.3954 - val_accuracy: 0.8465\n",
      "Epoch 4/100\n",
      "188/188 [==============================] - 1s 7ms/step - loss: 0.3743 - accuracy: 0.8458 - val_loss: 0.3804 - val_accuracy: 0.8310\n",
      "Epoch 5/100\n",
      "188/188 [==============================] - 1s 7ms/step - loss: 0.3489 - accuracy: 0.8688 - val_loss: 0.3302 - val_accuracy: 0.9055\n",
      "Epoch 6/100\n",
      "188/188 [==============================] - 1s 7ms/step - loss: 0.3260 - accuracy: 0.8808 - val_loss: 0.3102 - val_accuracy: 0.9015\n",
      "Epoch 7/100\n",
      "188/188 [==============================] - 1s 7ms/step - loss: 0.2993 - accuracy: 0.8990 - val_loss: 0.3357 - val_accuracy: 0.8270\n",
      "Epoch 8/100\n",
      "188/188 [==============================] - 1s 8ms/step - loss: 0.2858 - accuracy: 0.9060 - val_loss: 0.2792 - val_accuracy: 0.9110\n",
      "Epoch 9/100\n",
      "188/188 [==============================] - 1s 7ms/step - loss: 0.2691 - accuracy: 0.9105 - val_loss: 0.2951 - val_accuracy: 0.8875\n",
      "Epoch 10/100\n",
      "188/188 [==============================] - 1s 8ms/step - loss: 0.2648 - accuracy: 0.9123 - val_loss: 0.2684 - val_accuracy: 0.9200\n",
      "Epoch 11/100\n",
      "188/188 [==============================] - 1s 7ms/step - loss: 0.2492 - accuracy: 0.9233 - val_loss: 0.2657 - val_accuracy: 0.9030\n",
      "Epoch 12/100\n",
      "188/188 [==============================] - 1s 7ms/step - loss: 0.2444 - accuracy: 0.9200 - val_loss: 0.2704 - val_accuracy: 0.8965\n",
      "Epoch 13/100\n",
      "188/188 [==============================] - 1s 7ms/step - loss: 0.2520 - accuracy: 0.9098 - val_loss: 0.2413 - val_accuracy: 0.9170\n",
      "Epoch 14/100\n",
      "188/188 [==============================] - 1s 7ms/step - loss: 0.2270 - accuracy: 0.9293 - val_loss: 0.2539 - val_accuracy: 0.9090\n",
      "Epoch 15/100\n",
      "188/188 [==============================] - 1s 7ms/step - loss: 0.2374 - accuracy: 0.9202 - val_loss: 0.2643 - val_accuracy: 0.8945\n",
      "Epoch 16/100\n",
      "188/188 [==============================] - 1s 7ms/step - loss: 0.2226 - accuracy: 0.9253 - val_loss: 0.2286 - val_accuracy: 0.9235\n",
      "Epoch 17/100\n",
      "188/188 [==============================] - 1s 7ms/step - loss: 0.2217 - accuracy: 0.9267 - val_loss: 0.2286 - val_accuracy: 0.9210\n",
      "Epoch 18/100\n",
      "188/188 [==============================] - 1s 7ms/step - loss: 0.2222 - accuracy: 0.9245 - val_loss: 0.2347 - val_accuracy: 0.9185\n",
      "Epoch 19/100\n",
      "188/188 [==============================] - 1s 7ms/step - loss: 0.2212 - accuracy: 0.9237 - val_loss: 0.2133 - val_accuracy: 0.9435\n",
      "Epoch 20/100\n",
      "188/188 [==============================] - 2s 8ms/step - loss: 0.2094 - accuracy: 0.9280 - val_loss: 0.2165 - val_accuracy: 0.9230\n",
      "Epoch 21/100\n",
      "188/188 [==============================] - 1s 8ms/step - loss: 0.2027 - accuracy: 0.9350 - val_loss: 0.2059 - val_accuracy: 0.9400\n",
      "Epoch 22/100\n",
      "188/188 [==============================] - 2s 8ms/step - loss: 0.2087 - accuracy: 0.9263 - val_loss: 0.2447 - val_accuracy: 0.9050\n",
      "Epoch 23/100\n",
      "188/188 [==============================] - 1s 7ms/step - loss: 0.2168 - accuracy: 0.9228 - val_loss: 0.2176 - val_accuracy: 0.9255\n",
      "Epoch 24/100\n",
      "188/188 [==============================] - 1s 7ms/step - loss: 0.2041 - accuracy: 0.9308 - val_loss: 0.2089 - val_accuracy: 0.9270\n",
      "Epoch 25/100\n",
      "188/188 [==============================] - 1s 8ms/step - loss: 0.2058 - accuracy: 0.9298 - val_loss: 0.2148 - val_accuracy: 0.9185\n",
      "Epoch 26/100\n",
      "188/188 [==============================] - 1s 7ms/step - loss: 0.1896 - accuracy: 0.9368 - val_loss: 0.1964 - val_accuracy: 0.9390\n",
      "Epoch 27/100\n",
      "188/188 [==============================] - 1s 7ms/step - loss: 0.1869 - accuracy: 0.9407 - val_loss: 0.1977 - val_accuracy: 0.9315\n",
      "Epoch 28/100\n",
      "188/188 [==============================] - 1s 7ms/step - loss: 0.1903 - accuracy: 0.9372 - val_loss: 0.1993 - val_accuracy: 0.9390\n",
      "Epoch 29/100\n",
      "188/188 [==============================] - 1s 7ms/step - loss: 0.1822 - accuracy: 0.9403 - val_loss: 0.1896 - val_accuracy: 0.9470\n",
      "Epoch 30/100\n",
      "188/188 [==============================] - 1s 8ms/step - loss: 0.1792 - accuracy: 0.9398 - val_loss: 0.2496 - val_accuracy: 0.9035\n",
      "Epoch 31/100\n",
      "188/188 [==============================] - 1s 7ms/step - loss: 0.1824 - accuracy: 0.9390 - val_loss: 0.1879 - val_accuracy: 0.9470\n",
      "Epoch 32/100\n",
      "188/188 [==============================] - 1s 7ms/step - loss: 0.1816 - accuracy: 0.9397 - val_loss: 0.1974 - val_accuracy: 0.9460\n",
      "Epoch 33/100\n",
      "188/188 [==============================] - 1s 7ms/step - loss: 0.1877 - accuracy: 0.9393 - val_loss: 0.1800 - val_accuracy: 0.9495\n",
      "Epoch 34/100\n",
      "188/188 [==============================] - 1s 7ms/step - loss: 0.1748 - accuracy: 0.9420 - val_loss: 0.1856 - val_accuracy: 0.9395\n",
      "Epoch 35/100\n",
      "188/188 [==============================] - 1s 7ms/step - loss: 0.1729 - accuracy: 0.9437 - val_loss: 0.1770 - val_accuracy: 0.9490\n",
      "Epoch 36/100\n",
      "188/188 [==============================] - 1s 7ms/step - loss: 0.1729 - accuracy: 0.9440 - val_loss: 0.1878 - val_accuracy: 0.9395\n",
      "Epoch 37/100\n",
      "188/188 [==============================] - 1s 7ms/step - loss: 0.1851 - accuracy: 0.9365 - val_loss: 0.2019 - val_accuracy: 0.9280\n",
      "Epoch 38/100\n",
      "188/188 [==============================] - 1s 7ms/step - loss: 0.1678 - accuracy: 0.9435 - val_loss: 0.1979 - val_accuracy: 0.9445\n",
      "Epoch 39/100\n",
      "188/188 [==============================] - 1s 7ms/step - loss: 0.1692 - accuracy: 0.9422 - val_loss: 0.1755 - val_accuracy: 0.9450\n",
      "Epoch 40/100\n",
      "188/188 [==============================] - 1s 7ms/step - loss: 0.1739 - accuracy: 0.9423 - val_loss: 0.1666 - val_accuracy: 0.9510\n",
      "Epoch 41/100\n",
      "188/188 [==============================] - 1s 7ms/step - loss: 0.1648 - accuracy: 0.9455 - val_loss: 0.1706 - val_accuracy: 0.9490\n",
      "Epoch 42/100\n",
      "188/188 [==============================] - 1s 7ms/step - loss: 0.1609 - accuracy: 0.9472 - val_loss: 0.1736 - val_accuracy: 0.9445\n",
      "Epoch 43/100\n",
      "188/188 [==============================] - 1s 7ms/step - loss: 0.1596 - accuracy: 0.9472 - val_loss: 0.1717 - val_accuracy: 0.9480\n",
      "Epoch 44/100\n",
      "188/188 [==============================] - 1s 7ms/step - loss: 0.1645 - accuracy: 0.9452 - val_loss: 0.1651 - val_accuracy: 0.9500\n",
      "Epoch 45/100\n",
      "188/188 [==============================] - 1s 7ms/step - loss: 0.1596 - accuracy: 0.9485 - val_loss: 0.1665 - val_accuracy: 0.9475\n",
      "Epoch 46/100\n",
      "188/188 [==============================] - 1s 7ms/step - loss: 0.1538 - accuracy: 0.9492 - val_loss: 0.1629 - val_accuracy: 0.9540\n",
      "Epoch 47/100\n",
      "188/188 [==============================] - 2s 9ms/step - loss: 0.1668 - accuracy: 0.9437 - val_loss: 0.1605 - val_accuracy: 0.9525\n",
      "Epoch 48/100\n",
      "188/188 [==============================] - 1s 7ms/step - loss: 0.1638 - accuracy: 0.9445 - val_loss: 0.1717 - val_accuracy: 0.9430\n",
      "Epoch 49/100\n",
      "188/188 [==============================] - 1s 7ms/step - loss: 0.1509 - accuracy: 0.9508 - val_loss: 0.2015 - val_accuracy: 0.9355\n",
      "Epoch 50/100\n",
      "188/188 [==============================] - 1s 8ms/step - loss: 0.1580 - accuracy: 0.9480 - val_loss: 0.1621 - val_accuracy: 0.9465\n",
      "Epoch 51/100\n",
      "188/188 [==============================] - 1s 7ms/step - loss: 0.1610 - accuracy: 0.9465 - val_loss: 0.1583 - val_accuracy: 0.9540\n",
      "Epoch 52/100\n",
      "188/188 [==============================] - 1s 8ms/step - loss: 0.1458 - accuracy: 0.9515 - val_loss: 0.1571 - val_accuracy: 0.9530\n",
      "Epoch 53/100\n",
      "188/188 [==============================] - 1s 7ms/step - loss: 0.1530 - accuracy: 0.9503 - val_loss: 0.1583 - val_accuracy: 0.9505\n",
      "Epoch 54/100\n",
      "188/188 [==============================] - 1s 7ms/step - loss: 0.1525 - accuracy: 0.9475 - val_loss: 0.1562 - val_accuracy: 0.9495\n",
      "Epoch 55/100\n",
      "188/188 [==============================] - 2s 8ms/step - loss: 0.1575 - accuracy: 0.9450 - val_loss: 0.2003 - val_accuracy: 0.9310\n",
      "Epoch 56/100\n",
      "188/188 [==============================] - 1s 7ms/step - loss: 0.1656 - accuracy: 0.9403 - val_loss: 0.1675 - val_accuracy: 0.9435\n",
      "Epoch 57/100\n",
      "188/188 [==============================] - 1s 7ms/step - loss: 0.1451 - accuracy: 0.9532 - val_loss: 0.1925 - val_accuracy: 0.9315\n"
     ]
    },
    {
     "name": "stdout",
     "output_type": "stream",
     "text": [
      "Epoch 58/100\n",
      "188/188 [==============================] - 1s 7ms/step - loss: 0.1533 - accuracy: 0.9498 - val_loss: 0.1606 - val_accuracy: 0.9545\n",
      "Epoch 59/100\n",
      "188/188 [==============================] - 1s 7ms/step - loss: 0.1395 - accuracy: 0.9558 - val_loss: 0.1627 - val_accuracy: 0.9520\n",
      "Epoch 60/100\n",
      "188/188 [==============================] - 1s 7ms/step - loss: 0.1438 - accuracy: 0.9537 - val_loss: 0.1961 - val_accuracy: 0.9320\n",
      "Epoch 61/100\n",
      "188/188 [==============================] - 1s 7ms/step - loss: 0.1618 - accuracy: 0.9432 - val_loss: 0.1531 - val_accuracy: 0.9500\n",
      "Epoch 62/100\n",
      "188/188 [==============================] - 1s 7ms/step - loss: 0.1458 - accuracy: 0.9528 - val_loss: 0.1570 - val_accuracy: 0.9480\n",
      "Epoch 63/100\n",
      "188/188 [==============================] - 1s 7ms/step - loss: 0.1348 - accuracy: 0.9572 - val_loss: 0.1565 - val_accuracy: 0.9480\n",
      "Epoch 64/100\n",
      "188/188 [==============================] - 1s 7ms/step - loss: 0.1330 - accuracy: 0.9548 - val_loss: 0.1449 - val_accuracy: 0.9560\n",
      "Epoch 65/100\n",
      "188/188 [==============================] - 1s 7ms/step - loss: 0.1489 - accuracy: 0.9493 - val_loss: 0.1471 - val_accuracy: 0.9505\n",
      "Epoch 66/100\n",
      "188/188 [==============================] - 1s 7ms/step - loss: 0.1323 - accuracy: 0.9572 - val_loss: 0.1428 - val_accuracy: 0.9540\n",
      "Epoch 67/100\n",
      "188/188 [==============================] - 1s 7ms/step - loss: 0.1576 - accuracy: 0.9458 - val_loss: 0.1509 - val_accuracy: 0.9515\n",
      "Epoch 68/100\n",
      "188/188 [==============================] - 1s 8ms/step - loss: 0.1348 - accuracy: 0.9562 - val_loss: 0.1529 - val_accuracy: 0.9480\n",
      "Epoch 69/100\n",
      "188/188 [==============================] - 2s 9ms/step - loss: 0.1507 - accuracy: 0.9480 - val_loss: 0.1793 - val_accuracy: 0.9390\n",
      "Epoch 70/100\n",
      "188/188 [==============================] - 2s 8ms/step - loss: 0.1459 - accuracy: 0.9490 - val_loss: 0.1472 - val_accuracy: 0.9535\n",
      "Epoch 71/100\n",
      "188/188 [==============================] - 1s 8ms/step - loss: 0.1453 - accuracy: 0.9503 - val_loss: 0.1676 - val_accuracy: 0.9435\n",
      "Epoch 72/100\n",
      "188/188 [==============================] - 1s 8ms/step - loss: 0.1398 - accuracy: 0.9535 - val_loss: 0.1605 - val_accuracy: 0.9445\n",
      "Epoch 73/100\n",
      "188/188 [==============================] - 1s 7ms/step - loss: 0.1285 - accuracy: 0.9592 - val_loss: 0.1495 - val_accuracy: 0.9490\n",
      "Epoch 74/100\n",
      "188/188 [==============================] - 2s 8ms/step - loss: 0.1290 - accuracy: 0.9592 - val_loss: 0.1438 - val_accuracy: 0.9525\n",
      "Epoch 75/100\n",
      "188/188 [==============================] - 2s 10ms/step - loss: 0.1319 - accuracy: 0.9577 - val_loss: 0.1887 - val_accuracy: 0.9370\n",
      "Epoch 76/100\n",
      "188/188 [==============================] - 1s 8ms/step - loss: 0.1455 - accuracy: 0.9483 - val_loss: 0.1699 - val_accuracy: 0.9440\n",
      "Epoch 77/100\n",
      "188/188 [==============================] - 2s 9ms/step - loss: 0.1286 - accuracy: 0.9585 - val_loss: 0.1435 - val_accuracy: 0.9585\n",
      "Epoch 78/100\n",
      "188/188 [==============================] - 2s 8ms/step - loss: 0.1449 - accuracy: 0.9533 - val_loss: 0.1388 - val_accuracy: 0.9575\n",
      "Epoch 79/100\n",
      "188/188 [==============================] - 2s 9ms/step - loss: 0.1277 - accuracy: 0.9582 - val_loss: 0.1508 - val_accuracy: 0.9470\n",
      "Epoch 80/100\n",
      "188/188 [==============================] - 1s 8ms/step - loss: 0.1295 - accuracy: 0.9572 - val_loss: 0.1477 - val_accuracy: 0.9510\n",
      "Epoch 81/100\n",
      "188/188 [==============================] - 1s 8ms/step - loss: 0.1442 - accuracy: 0.9538 - val_loss: 0.1796 - val_accuracy: 0.9420\n",
      "Epoch 82/100\n",
      "188/188 [==============================] - 2s 8ms/step - loss: 0.1306 - accuracy: 0.9593 - val_loss: 0.1533 - val_accuracy: 0.9480\n",
      "Epoch 83/100\n",
      "188/188 [==============================] - 1s 8ms/step - loss: 0.1403 - accuracy: 0.9525 - val_loss: 0.1791 - val_accuracy: 0.9390\n",
      "Epoch 84/100\n",
      "188/188 [==============================] - 1s 8ms/step - loss: 0.1238 - accuracy: 0.9612 - val_loss: 0.1436 - val_accuracy: 0.9520\n",
      "Epoch 85/100\n",
      "188/188 [==============================] - 1s 8ms/step - loss: 0.1167 - accuracy: 0.9643 - val_loss: 0.1564 - val_accuracy: 0.9525\n",
      "Epoch 86/100\n",
      "188/188 [==============================] - 2s 9ms/step - loss: 0.1285 - accuracy: 0.9570 - val_loss: 0.2292 - val_accuracy: 0.9290\n",
      "Epoch 87/100\n",
      "188/188 [==============================] - 1s 7ms/step - loss: 0.1335 - accuracy: 0.9562 - val_loss: 0.1527 - val_accuracy: 0.9445\n",
      "Epoch 88/100\n",
      "188/188 [==============================] - 2s 9ms/step - loss: 0.1261 - accuracy: 0.9578 - val_loss: 0.1508 - val_accuracy: 0.9480\n",
      "Epoch 89/100\n",
      "188/188 [==============================] - 1s 8ms/step - loss: 0.1354 - accuracy: 0.9543 - val_loss: 0.1703 - val_accuracy: 0.9420\n",
      "Epoch 90/100\n",
      "188/188 [==============================] - 1s 7ms/step - loss: 0.1234 - accuracy: 0.9585 - val_loss: 0.1400 - val_accuracy: 0.9520\n",
      "Epoch 91/100\n",
      "188/188 [==============================] - 1s 7ms/step - loss: 0.1288 - accuracy: 0.9573 - val_loss: 0.1419 - val_accuracy: 0.9500\n",
      "Epoch 92/100\n",
      "188/188 [==============================] - 1s 7ms/step - loss: 0.1255 - accuracy: 0.9567 - val_loss: 0.1327 - val_accuracy: 0.9560\n",
      "Epoch 93/100\n",
      "188/188 [==============================] - 1s 8ms/step - loss: 0.1244 - accuracy: 0.9590 - val_loss: 0.1400 - val_accuracy: 0.9540\n",
      "Epoch 94/100\n",
      "188/188 [==============================] - 1s 7ms/step - loss: 0.1240 - accuracy: 0.9600 - val_loss: 0.1371 - val_accuracy: 0.9550\n",
      "Epoch 95/100\n",
      "188/188 [==============================] - 1s 8ms/step - loss: 0.1357 - accuracy: 0.9552 - val_loss: 0.1353 - val_accuracy: 0.9565\n",
      "Epoch 96/100\n",
      "188/188 [==============================] - 1s 7ms/step - loss: 0.1194 - accuracy: 0.9608 - val_loss: 0.1521 - val_accuracy: 0.9465\n",
      "Epoch 97/100\n",
      "188/188 [==============================] - 1s 6ms/step - loss: 0.1207 - accuracy: 0.9610 - val_loss: 0.1794 - val_accuracy: 0.9400\n",
      "Epoch 98/100\n",
      "188/188 [==============================] - 1s 7ms/step - loss: 0.1310 - accuracy: 0.9580 - val_loss: 0.1730 - val_accuracy: 0.9405\n",
      "Epoch 99/100\n",
      "188/188 [==============================] - 1s 7ms/step - loss: 0.1168 - accuracy: 0.9593 - val_loss: 0.1421 - val_accuracy: 0.9545\n",
      "Epoch 100/100\n",
      "188/188 [==============================] - 2s 8ms/step - loss: 0.1188 - accuracy: 0.9612 - val_loss: 0.2083 - val_accuracy: 0.9365\n"
     ]
    }
   ],
   "source": [
    "training_output = model.fit(\n",
    "    x=normalize_image_data(x_train),\n",
    "    y=y_train,\n",
    "    validation_data=(normalize_image_data(x_test), y_test),\n",
    "    batch_size=batch_size,\n",
    "    epochs=epochs,\n",
    ")"
   ]
  },
  {
   "cell_type": "code",
   "execution_count": 9,
   "metadata": {
    "scrolled": true
   },
   "outputs": [
    {
     "data": {
      "text/plain": [
       "<matplotlib.legend.Legend at 0x23ab26db850>"
      ]
     },
     "execution_count": 9,
     "metadata": {},
     "output_type": "execute_result"
    },
    {
     "data": {
      "image/png": "[encoded data removed]",
      "text/plain": [
       "<Figure size 864x288 with 2 Axes>"
      ]
     },
     "metadata": {
      "needs_background": "light"
     },
     "output_type": "display_data"
    }
   ],
   "source": [
    "# Side by side plots of losses and accuracies\n",
    "history = training_output.history\n",
    "fig, ax = plt.subplots(1, 2, figsize=(12, 4))\n",
    "ax[0].plot(history['loss'], label='training')\n",
    "ax[0].plot(history['val_loss'], label='validation')\n",
    "ax[0].set_title(\"Model losses\")\n",
    "ax[0].set_xlabel(\"Epoch\")\n",
    "ax[0].set_ylabel(\"Loss\")\n",
    "ax[0].legend()\n",
    "\n",
    "ax[1].plot(history['accuracy'], label='training')\n",
    "ax[1].plot(history['val_accuracy'], label='validation')\n",
    "ax[1].set_title(\"Model accuracy\")\n",
    "ax[1].set_xlabel(\"Epoch\")\n",
    "ax[1].set_ylabel(\"Accuracy\")\n",
    "ax[1].legend()"
   ]
  },
  {
   "cell_type": "markdown",
   "metadata": {},
   "source": [
    "## Expand and improve the model\n",
    "Just like with a feed forward neural network, the architecture is just one of the properties\n",
    "we can tune to improve performance. If you look closer at the model.summary() printout, you can\n",
    "see that the output after the Conv2D layer has changed shape. It's no longer the same size as our\n",
    "original image. Why is this?\n",
    "\n",
    "In the introduction we mentioned that the filters/kernels in a CNN\n",
    "extract features in the images. One thing we could do, then, is to input those features to an FFNN. Just\n",
    "like in the dense_neural_network notebook.\n",
    "\n",
    "In a way we've already done this, except the dense part of our model has only one node, the output node.\n",
    "Try to add another dense layer before the output. Perhaps you have a dense model from the previous notebook\n",
    "you can weave in here?\n",
    "\n",
    "Of course, you can also add another Conv2D layer instead, or increase the number of filters.\n",
    "In between convolutional layers you can add MaxPool2D layers, and eventually you may start looking at\n",
    "regularizations like Dropout if necessary."
   ]
  },
  {
   "cell_type": "code",
   "execution_count": 10,
   "metadata": {},
   "outputs": [
    {
     "name": "stdout",
     "output_type": "stream",
     "text": [
      "Model: \"sequential_1\"\n",
      "_________________________________________________________________\n",
      "Layer (type)                 Output Shape              Param #   \n",
      "=================================================================\n",
      "conv2d_2 (Conv2D)            (None, 14, 14, 32)        320       \n",
      "_________________________________________________________________\n",
      "max_pooling2d_1 (MaxPooling2 (None, 7, 7, 32)          0         \n",
      "_________________________________________________________________\n",
      "conv2d_3 (Conv2D)            (None, 5, 5, 32)          9248      \n",
      "_________________________________________________________________\n",
      "flatten_1 (Flatten)          (None, 800)               0         \n",
      "_________________________________________________________________\n",
      "dense_1 (Dense)              (None, 128)               102528    \n",
      "_________________________________________________________________\n",
      "dense_2 (Dense)              (None, 1)                 129       \n",
      "=================================================================\n",
      "Total params: 112,225\n",
      "Trainable params: 112,225\n",
      "Non-trainable params: 0\n",
      "_________________________________________________________________\n"
     ]
    }
   ],
   "source": [
    "# Initialize the Sequential model, and add one Conv2D layer to it\n",
    "model = tf.keras.Sequential()\n",
    "model.add(tf.keras.layers.Conv2D(\n",
    "        filters=32,\n",
    "        kernel_size=3,\n",
    "        activation='relu',\n",
    "        input_shape=images.shape[1:] # Shape of a single image\n",
    "    )\n",
    ")\n",
    "model.add(tf.keras.layers.MaxPool2D(2,2))\n",
    "model.add(tf.keras.layers.Conv2D(32, 3, activation='relu'))\n",
    "\n",
    "\n",
    "# Add an output layer to the model\n",
    "# Recall the shape of the input to a dense neural network.\n",
    "# What is the shape of the output from the Conv2D layer?\n",
    "model.add(tf.keras.layers.Flatten())\n",
    "model.add(tf.keras.layers.Dense(128, activation='relu'))\n",
    "model.add(tf.keras.layers.Dense(1, activation='sigmoid'))\n",
    "\n",
    "\n",
    "# Once the model is defined, we need to compile it. \n",
    "# This is where we specify the loss function, optimizer, and metrics if we want.\n",
    "model.compile(\n",
    "    optimizer='adam',\n",
    "    loss='binary_crossentropy',\n",
    "    metrics=['accuracy']\n",
    ")\n",
    "model.summary()"
   ]
  }
 ],
 "metadata": {
  "hide_input": false,
  "kernelspec": {
   "display_name": "Python 3",
   "language": "python",
   "name": "python3"
  },
  "language_info": {
   "codemirror_mode": {
    "name": "ipython",
    "version": 3
   },
   "file_extension": ".py",
   "mimetype": "text/x-python",
   "name": "python",
   "nbconvert_exporter": "python",
   "pygments_lexer": "ipython3",
   "version": "3.8.5"
  },
  "latex_envs": {
   "LaTeX_envs_menu_present": true,
   "autoclose": false,
   "autocomplete": true,
   "bibliofile": "biblio.bib",
   "cite_by": "apalike",
   "current_citInitial": 1,
   "eqLabelWithNumbers": true,
   "eqNumInitial": 1,
   "hotkeys": {
    "equation": "Ctrl-E",
    "itemize": "Ctrl-I"
   },
   "labels_anchors": false,
   "latex_user_defs": false,
   "report_style_numbering": false,
   "user_envs_cfg": false
  },
  "toc": {
   "base_numbering": 1,
   "nav_menu": {},
   "number_sections": true,
   "sideBar": true,
   "skip_h1_title": false,
   "title_cell": "Table of Contents",
   "title_sidebar": "Contents",
   "toc_cell": false,
   "toc_position": {},
   "toc_section_display": true,
   "toc_window_display": false
  }
 },
 "nbformat": 4,
 "nbformat_minor": 4
}
