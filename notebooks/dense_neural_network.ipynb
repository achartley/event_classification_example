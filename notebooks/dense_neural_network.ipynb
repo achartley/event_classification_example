{
 "cells": [
  {
   "cell_type": "markdown",
   "metadata": {},
   "source": [
    "# Classification using dense neural network (fully connected)\n",
    "For this exercise we'll be using [Keras](https://keras.io/).. In addition you need either [TensorFlow](https://www.tensorflow.org/) or [PyTorch](https://pytorch.org/)\n",
    "as the underlying framework. Or, you can also continue with scikit-learn, which also has dense / fully connected networks implemented."
   ]
  },
  {
   "cell_type": "markdown",
   "metadata": {},
   "source": [
    "## Normalization of image data\n",
    "We apply the same normalization as for logistic regression. Recall that we have saved this function in a file\n",
    "called `helper_functions.py`, and can import and use it directly from there."
   ]
  },
  {
   "cell_type": "markdown",
   "metadata": {},
   "source": [
    "## Numpy approach"
   ]
  },
  {
   "cell_type": "code",
   "execution_count": 1,
   "metadata": {},
   "outputs": [],
   "source": [
    "# Imports\n",
    "import numpy as np\n",
    "import matplotlib.pyplot as plt\n",
    "from keras.models import Sequential\n",
    "from keras.layers import Dense, InputLayer\n",
    "from sklearn.model_selection import train_test_split\n",
    "from sklearn.metrics import (accuracy_score, confusion_matrix, f1_score, \n",
    "                             matthews_corrcoef, roc_curve, roc_auc_score)\n",
    "from helper_functions import normalize_image_data, plot_roc_auc, noise_gen\n",
    "from timeit import default_timer as timer\n",
    "\n",
    "%load_ext autoreload\n",
    "%autoreload 2"
   ]
  },
  {
   "cell_type": "code",
   "execution_count": 2,
   "metadata": {},
   "outputs": [],
   "source": [
    "# Load images and labels.\n",
    "DATA_PATH = \"../data/\"\n",
    "\n",
    "images = np.load(DATA_PATH+\"images_training.npy\")\n",
    "labels = np.load(DATA_PATH+\"labels_training.npy\")\n",
    "\n",
    "\n",
    "# Just like with logistic regression, we need to reshape the images to\n",
    "# be one-dimensional for the input to the model.\n",
    "images = images.reshape(images.shape[0], 256)\n",
    "\n",
    "# Split the training indices into training and validation. \n",
    "# Validate with 25% of the data (default). Can be adjusted.\n",
    "x_idx = np.arange(images.shape[0])\n",
    "train_idx, val_idx, not_used1, not_used2 = train_test_split(x_idx, x_idx, test_size = 0.25)"
   ]
  },
  {
   "cell_type": "markdown",
   "metadata": {},
   "source": [
    "### Build a model\n",
    "We're going to start off with a simple feed-forward neural network one hidden layer. This is a binary classifier, so\n",
    "we techincally only need it to output one number.\n",
    "\n",
    "What about the number of nodes in the hidden input layer?\n",
    "The top post in [this](https://stats.stackexchange.com/questions/181/how-to-choose-the-number-of-hidden-layers-and-nodes-in-a-feedforward-neural-netw) stackexchange question points to some good sources of information about this.\n",
    "\n",
    "> There are some empirically-derived rules-of-thumb, of these, the most commonly relied on is 'the optimal size of the hidden layer is usually between the size of the input and size of the output layers'\n",
    "(Jeff Heaton, author of [Introduction to Neural Networks in Java](https://www.heatonresearch.com/book/) offers a few more.)"
   ]
  },
  {
   "cell_type": "code",
   "execution_count": 3,
   "metadata": {},
   "outputs": [
    {
     "name": "stdout",
     "output_type": "stream",
     "text": [
      "Model: \"sequential\"\n",
      "_________________________________________________________________\n",
      "Layer (type)                 Output Shape              Param #   \n",
      "=================================================================\n",
      "dense (Dense)                (None, 64)                16448     \n",
      "_________________________________________________________________\n",
      "dense_1 (Dense)              (None, 1)                 65        \n",
      "=================================================================\n",
      "Total params: 16,513\n",
      "Trainable params: 16,513\n",
      "Non-trainable params: 0\n",
      "_________________________________________________________________\n"
     ]
    }
   ],
   "source": [
    "# Init the Sequential model\n",
    "model = Sequential()\n",
    "# Add Input layer\n",
    "model.add(InputLayer(input_shape=(images.shape[1],)))\n",
    "\n",
    "# Add hidden layer\n",
    "model.add(Dense(64, activation='relu'))\n",
    "\n",
    "# Add output layer.\n",
    "model.add(Dense(1, activation='sigmoid'))\n",
    "\n",
    "# Finally, compile the model and print a summary. Loss function and optimizer is set during compilation.\n",
    "model.compile(\n",
    "    loss='binary_crossentropy',\n",
    "    optimizer='adam',\n",
    "    metrics=['accuracy']\n",
    ")\n",
    "model.summary()"
   ]
  },
  {
   "cell_type": "markdown",
   "metadata": {},
   "source": [
    "### Train the model\n",
    "The fit() function returns a history object that we'll store to plot how the training developed with epochs.\n",
    "First we need to set som training parameters.\n",
    "\n",
    "Note that if you would like to change something about the the model and run training again, you must\n",
    "re-compile the model. Otherwise you will essentially just be doubling the number of epochs."
   ]
  },
  {
   "cell_type": "code",
   "execution_count": 4,
   "metadata": {},
   "outputs": [],
   "source": [
    "# Set parameters for the training run. For the small set of 10k events you can probably get \n",
    "# away with even 100 epochs in a fairly small time, depending on your CPU.\n",
    "epochs = 100\n",
    "batch_size = 32"
   ]
  },
  {
   "cell_type": "code",
   "execution_count": 5,
   "metadata": {
    "scrolled": true
   },
   "outputs": [
    {
     "name": "stdout",
     "output_type": "stream",
     "text": [
      "Epoch 1/100\n",
      "161/188 [========================>.....] - ETA: 0s - loss: 0.5996 - accuracy: 0.6586WARNING:tensorflow:Callbacks method `on_test_batch_begin` is slow compared to the batch time (batch time: 0.0000s vs `on_test_batch_begin` time: 0.0010s). Check your callbacks.\n",
      "WARNING:tensorflow:Callbacks method `on_test_batch_end` is slow compared to the batch time (batch time: 0.0000s vs `on_test_batch_end` time: 0.0010s). Check your callbacks.\n",
      "188/188 [==============================] - 1s 4ms/step - loss: 0.5899 - accuracy: 0.6663 - val_loss: 0.5284 - val_accuracy: 0.7045\n",
      "Epoch 2/100\n",
      "188/188 [==============================] - 0s 2ms/step - loss: 0.4913 - accuracy: 0.7447 - val_loss: 0.5351 - val_accuracy: 0.7055\n",
      "Epoch 3/100\n",
      "188/188 [==============================] - 0s 2ms/step - loss: 0.4735 - accuracy: 0.7592 - val_loss: 0.5030 - val_accuracy: 0.7315\n",
      "Epoch 4/100\n",
      "188/188 [==============================] - 0s 2ms/step - loss: 0.4633 - accuracy: 0.7687 - val_loss: 0.4988 - val_accuracy: 0.7350\n",
      "Epoch 5/100\n",
      "188/188 [==============================] - 0s 2ms/step - loss: 0.4504 - accuracy: 0.7782 - val_loss: 0.4851 - val_accuracy: 0.7400\n",
      "Epoch 6/100\n",
      "188/188 [==============================] - 0s 2ms/step - loss: 0.4388 - accuracy: 0.7897 - val_loss: 0.4631 - val_accuracy: 0.7525\n",
      "Epoch 7/100\n",
      "188/188 [==============================] - 0s 2ms/step - loss: 0.4253 - accuracy: 0.7982 - val_loss: 0.4523 - val_accuracy: 0.7620\n",
      "Epoch 8/100\n",
      "188/188 [==============================] - 0s 2ms/step - loss: 0.4112 - accuracy: 0.8065 - val_loss: 0.4467 - val_accuracy: 0.7720\n",
      "Epoch 9/100\n",
      "188/188 [==============================] - 0s 2ms/step - loss: 0.3986 - accuracy: 0.8160 - val_loss: 0.4204 - val_accuracy: 0.7925\n",
      "Epoch 10/100\n",
      "188/188 [==============================] - 0s 2ms/step - loss: 0.3867 - accuracy: 0.8248 - val_loss: 0.4352 - val_accuracy: 0.7770\n",
      "Epoch 11/100\n",
      "188/188 [==============================] - 0s 2ms/step - loss: 0.3731 - accuracy: 0.8410 - val_loss: 0.4059 - val_accuracy: 0.7970\n",
      "Epoch 12/100\n",
      "188/188 [==============================] - 0s 2ms/step - loss: 0.3611 - accuracy: 0.8477 - val_loss: 0.4092 - val_accuracy: 0.7955\n",
      "Epoch 13/100\n",
      "188/188 [==============================] - 0s 3ms/step - loss: 0.3501 - accuracy: 0.8563 - val_loss: 0.4016 - val_accuracy: 0.8000\n",
      "Epoch 14/100\n",
      "188/188 [==============================] - 0s 2ms/step - loss: 0.3409 - accuracy: 0.8603 - val_loss: 0.3569 - val_accuracy: 0.8300\n",
      "Epoch 15/100\n",
      "188/188 [==============================] - 0s 2ms/step - loss: 0.3295 - accuracy: 0.8692 - val_loss: 0.3712 - val_accuracy: 0.8190\n",
      "Epoch 16/100\n",
      "188/188 [==============================] - 0s 2ms/step - loss: 0.3205 - accuracy: 0.8745 - val_loss: 0.3483 - val_accuracy: 0.8325\n",
      "Epoch 17/100\n",
      "188/188 [==============================] - 0s 3ms/step - loss: 0.3127 - accuracy: 0.8767 - val_loss: 0.3627 - val_accuracy: 0.8250\n",
      "Epoch 18/100\n",
      "188/188 [==============================] - 0s 2ms/step - loss: 0.3044 - accuracy: 0.8833 - val_loss: 0.3409 - val_accuracy: 0.8365\n",
      "Epoch 19/100\n",
      "188/188 [==============================] - 0s 2ms/step - loss: 0.2960 - accuracy: 0.8878 - val_loss: 0.3382 - val_accuracy: 0.8440\n",
      "Epoch 20/100\n",
      "188/188 [==============================] - 0s 2ms/step - loss: 0.2891 - accuracy: 0.8928 - val_loss: 0.3396 - val_accuracy: 0.8420\n",
      "Epoch 21/100\n",
      "188/188 [==============================] - 0s 3ms/step - loss: 0.2828 - accuracy: 0.8932 - val_loss: 0.3418 - val_accuracy: 0.8390\n",
      "Epoch 22/100\n",
      "188/188 [==============================] - 0s 2ms/step - loss: 0.2757 - accuracy: 0.8982 - val_loss: 0.3409 - val_accuracy: 0.8395\n",
      "Epoch 23/100\n",
      "188/188 [==============================] - 0s 2ms/step - loss: 0.2690 - accuracy: 0.9000 - val_loss: 0.3224 - val_accuracy: 0.8575\n",
      "Epoch 24/100\n",
      "188/188 [==============================] - 0s 2ms/step - loss: 0.2639 - accuracy: 0.9060 - val_loss: 0.3187 - val_accuracy: 0.8560\n",
      "Epoch 25/100\n",
      "188/188 [==============================] - 0s 3ms/step - loss: 0.2589 - accuracy: 0.9038 - val_loss: 0.3545 - val_accuracy: 0.8425\n",
      "Epoch 26/100\n",
      "188/188 [==============================] - 0s 3ms/step - loss: 0.2540 - accuracy: 0.9065 - val_loss: 0.2998 - val_accuracy: 0.8665\n",
      "Epoch 27/100\n",
      "188/188 [==============================] - 0s 3ms/step - loss: 0.2494 - accuracy: 0.9093 - val_loss: 0.3221 - val_accuracy: 0.8540\n",
      "Epoch 28/100\n",
      "188/188 [==============================] - 1s 3ms/step - loss: 0.2442 - accuracy: 0.9100 - val_loss: 0.3055 - val_accuracy: 0.8595\n",
      "Epoch 29/100\n",
      "188/188 [==============================] - 1s 3ms/step - loss: 0.2398 - accuracy: 0.9158 - val_loss: 0.3328 - val_accuracy: 0.8530\n",
      "Epoch 30/100\n",
      "188/188 [==============================] - 0s 2ms/step - loss: 0.2360 - accuracy: 0.9158 - val_loss: 0.3256 - val_accuracy: 0.8560\n",
      "Epoch 31/100\n",
      "188/188 [==============================] - 0s 3ms/step - loss: 0.2316 - accuracy: 0.9157 - val_loss: 0.3016 - val_accuracy: 0.8645\n",
      "Epoch 32/100\n",
      "188/188 [==============================] - 0s 2ms/step - loss: 0.2291 - accuracy: 0.9155 - val_loss: 0.3086 - val_accuracy: 0.8650\n",
      "Epoch 33/100\n",
      "188/188 [==============================] - 1s 3ms/step - loss: 0.2233 - accuracy: 0.9192 - val_loss: 0.3047 - val_accuracy: 0.8670\n",
      "Epoch 34/100\n",
      "188/188 [==============================] - 0s 2ms/step - loss: 0.2215 - accuracy: 0.9205 - val_loss: 0.3219 - val_accuracy: 0.8570\n",
      "Epoch 35/100\n",
      "188/188 [==============================] - 0s 2ms/step - loss: 0.2175 - accuracy: 0.9218 - val_loss: 0.3095 - val_accuracy: 0.8705\n",
      "Epoch 36/100\n",
      "188/188 [==============================] - 0s 2ms/step - loss: 0.2147 - accuracy: 0.9233 - val_loss: 0.2943 - val_accuracy: 0.8750\n",
      "Epoch 37/100\n",
      "188/188 [==============================] - 0s 2ms/step - loss: 0.2111 - accuracy: 0.9263 - val_loss: 0.2786 - val_accuracy: 0.8795\n",
      "Epoch 38/100\n",
      "188/188 [==============================] - 0s 2ms/step - loss: 0.2080 - accuracy: 0.9260 - val_loss: 0.2692 - val_accuracy: 0.8915\n",
      "Epoch 39/100\n",
      "188/188 [==============================] - 0s 2ms/step - loss: 0.2072 - accuracy: 0.9265 - val_loss: 0.2899 - val_accuracy: 0.8775\n",
      "Epoch 40/100\n",
      "188/188 [==============================] - 0s 2ms/step - loss: 0.2014 - accuracy: 0.9298 - val_loss: 0.3013 - val_accuracy: 0.8675\n",
      "Epoch 41/100\n",
      "188/188 [==============================] - 0s 2ms/step - loss: 0.2006 - accuracy: 0.9283 - val_loss: 0.2981 - val_accuracy: 0.8780\n",
      "Epoch 42/100\n",
      "188/188 [==============================] - 0s 2ms/step - loss: 0.1971 - accuracy: 0.9297 - val_loss: 0.2801 - val_accuracy: 0.8815\n",
      "Epoch 43/100\n",
      "188/188 [==============================] - 0s 2ms/step - loss: 0.1956 - accuracy: 0.9310 - val_loss: 0.3315 - val_accuracy: 0.8630\n",
      "Epoch 44/100\n",
      "188/188 [==============================] - 0s 2ms/step - loss: 0.1923 - accuracy: 0.9317 - val_loss: 0.3079 - val_accuracy: 0.8770\n",
      "Epoch 45/100\n",
      "188/188 [==============================] - 0s 2ms/step - loss: 0.1916 - accuracy: 0.9318 - val_loss: 0.3084 - val_accuracy: 0.8760\n",
      "Epoch 46/100\n",
      "188/188 [==============================] - 0s 2ms/step - loss: 0.1887 - accuracy: 0.9328 - val_loss: 0.2954 - val_accuracy: 0.8755\n",
      "Epoch 47/100\n",
      "188/188 [==============================] - 0s 2ms/step - loss: 0.1867 - accuracy: 0.9330 - val_loss: 0.2798 - val_accuracy: 0.8820\n",
      "Epoch 48/100\n",
      "188/188 [==============================] - 0s 2ms/step - loss: 0.1841 - accuracy: 0.9352 - val_loss: 0.2888 - val_accuracy: 0.8820\n",
      "Epoch 49/100\n",
      "188/188 [==============================] - 0s 2ms/step - loss: 0.1822 - accuracy: 0.9353 - val_loss: 0.2791 - val_accuracy: 0.8810\n",
      "Epoch 50/100\n",
      "188/188 [==============================] - 0s 2ms/step - loss: 0.1806 - accuracy: 0.9347 - val_loss: 0.2900 - val_accuracy: 0.8815\n",
      "Epoch 51/100\n",
      "188/188 [==============================] - 0s 2ms/step - loss: 0.1777 - accuracy: 0.9360 - val_loss: 0.3242 - val_accuracy: 0.8745\n",
      "Epoch 52/100\n",
      "188/188 [==============================] - 1s 3ms/step - loss: 0.1768 - accuracy: 0.9372 - val_loss: 0.3562 - val_accuracy: 0.8650\n",
      "Epoch 53/100\n",
      "188/188 [==============================] - 0s 3ms/step - loss: 0.1763 - accuracy: 0.9392 - val_loss: 0.2718 - val_accuracy: 0.8865\n",
      "Epoch 54/100\n",
      "188/188 [==============================] - 0s 2ms/step - loss: 0.1728 - accuracy: 0.9393 - val_loss: 0.2998 - val_accuracy: 0.8850\n"
     ]
    },
    {
     "name": "stdout",
     "output_type": "stream",
     "text": [
      "Epoch 55/100\n",
      "188/188 [==============================] - 0s 2ms/step - loss: 0.1716 - accuracy: 0.9418 - val_loss: 0.2886 - val_accuracy: 0.8845\n",
      "Epoch 56/100\n",
      "188/188 [==============================] - 0s 2ms/step - loss: 0.1696 - accuracy: 0.9395 - val_loss: 0.2995 - val_accuracy: 0.8815\n",
      "Epoch 57/100\n",
      "188/188 [==============================] - 0s 2ms/step - loss: 0.1671 - accuracy: 0.9393 - val_loss: 0.3038 - val_accuracy: 0.8775\n",
      "Epoch 58/100\n",
      "188/188 [==============================] - 0s 2ms/step - loss: 0.1657 - accuracy: 0.9423 - val_loss: 0.2872 - val_accuracy: 0.8850\n",
      "Epoch 59/100\n",
      "188/188 [==============================] - 0s 2ms/step - loss: 0.1643 - accuracy: 0.9437 - val_loss: 0.3137 - val_accuracy: 0.8780\n",
      "Epoch 60/100\n",
      "188/188 [==============================] - 0s 2ms/step - loss: 0.1639 - accuracy: 0.9417 - val_loss: 0.2775 - val_accuracy: 0.8885\n",
      "Epoch 61/100\n",
      "188/188 [==============================] - 0s 2ms/step - loss: 0.1628 - accuracy: 0.9427 - val_loss: 0.2704 - val_accuracy: 0.8890\n",
      "Epoch 62/100\n",
      "188/188 [==============================] - 0s 2ms/step - loss: 0.1615 - accuracy: 0.9440 - val_loss: 0.2971 - val_accuracy: 0.8845\n",
      "Epoch 63/100\n",
      "188/188 [==============================] - 0s 2ms/step - loss: 0.1592 - accuracy: 0.9450 - val_loss: 0.2795 - val_accuracy: 0.8900\n",
      "Epoch 64/100\n",
      "188/188 [==============================] - 0s 2ms/step - loss: 0.1573 - accuracy: 0.9465 - val_loss: 0.3543 - val_accuracy: 0.8695\n",
      "Epoch 65/100\n",
      "188/188 [==============================] - 0s 2ms/step - loss: 0.1571 - accuracy: 0.9438 - val_loss: 0.3015 - val_accuracy: 0.8835\n",
      "Epoch 66/100\n",
      "188/188 [==============================] - 0s 2ms/step - loss: 0.1556 - accuracy: 0.9468 - val_loss: 0.3260 - val_accuracy: 0.8745\n",
      "Epoch 67/100\n",
      "188/188 [==============================] - 0s 2ms/step - loss: 0.1542 - accuracy: 0.9468 - val_loss: 0.3485 - val_accuracy: 0.8720\n",
      "Epoch 68/100\n",
      "188/188 [==============================] - 0s 2ms/step - loss: 0.1536 - accuracy: 0.9473 - val_loss: 0.3282 - val_accuracy: 0.8740\n",
      "Epoch 69/100\n",
      "188/188 [==============================] - 0s 2ms/step - loss: 0.1516 - accuracy: 0.9478 - val_loss: 0.2471 - val_accuracy: 0.8985\n",
      "Epoch 70/100\n",
      "188/188 [==============================] - 0s 2ms/step - loss: 0.1503 - accuracy: 0.9482 - val_loss: 0.3201 - val_accuracy: 0.8795\n",
      "Epoch 71/100\n",
      "188/188 [==============================] - 0s 2ms/step - loss: 0.1508 - accuracy: 0.9447 - val_loss: 0.2788 - val_accuracy: 0.8925\n",
      "Epoch 72/100\n",
      "188/188 [==============================] - 0s 2ms/step - loss: 0.1481 - accuracy: 0.9478 - val_loss: 0.3290 - val_accuracy: 0.8780\n",
      "Epoch 73/100\n",
      "188/188 [==============================] - 0s 2ms/step - loss: 0.1469 - accuracy: 0.9505 - val_loss: 0.2899 - val_accuracy: 0.8930\n",
      "Epoch 74/100\n",
      "188/188 [==============================] - 0s 2ms/step - loss: 0.1456 - accuracy: 0.9517 - val_loss: 0.3085 - val_accuracy: 0.8795\n",
      "Epoch 75/100\n",
      "188/188 [==============================] - 0s 2ms/step - loss: 0.1447 - accuracy: 0.9498 - val_loss: 0.3078 - val_accuracy: 0.8820\n",
      "Epoch 76/100\n",
      "188/188 [==============================] - 0s 2ms/step - loss: 0.1436 - accuracy: 0.9505 - val_loss: 0.2846 - val_accuracy: 0.8920\n",
      "Epoch 77/100\n",
      "188/188 [==============================] - 0s 2ms/step - loss: 0.1430 - accuracy: 0.9513 - val_loss: 0.3187 - val_accuracy: 0.8795\n",
      "Epoch 78/100\n",
      "188/188 [==============================] - 0s 2ms/step - loss: 0.1421 - accuracy: 0.9515 - val_loss: 0.3138 - val_accuracy: 0.8835\n",
      "Epoch 79/100\n",
      "188/188 [==============================] - 0s 2ms/step - loss: 0.1390 - accuracy: 0.9513 - val_loss: 0.3034 - val_accuracy: 0.8855\n",
      "Epoch 80/100\n",
      "188/188 [==============================] - 0s 2ms/step - loss: 0.1391 - accuracy: 0.9522 - val_loss: 0.2710 - val_accuracy: 0.8940\n",
      "Epoch 81/100\n",
      "188/188 [==============================] - 0s 3ms/step - loss: 0.1387 - accuracy: 0.9533 - val_loss: 0.2882 - val_accuracy: 0.8920\n",
      "Epoch 82/100\n",
      "188/188 [==============================] - 1s 3ms/step - loss: 0.1370 - accuracy: 0.9540 - val_loss: 0.3331 - val_accuracy: 0.8775\n",
      "Epoch 83/100\n",
      "188/188 [==============================] - 1s 3ms/step - loss: 0.1377 - accuracy: 0.9528 - val_loss: 0.3027 - val_accuracy: 0.8870\n",
      "Epoch 84/100\n",
      "188/188 [==============================] - 1s 3ms/step - loss: 0.1354 - accuracy: 0.9550 - val_loss: 0.3021 - val_accuracy: 0.8860\n",
      "Epoch 85/100\n",
      "188/188 [==============================] - 0s 2ms/step - loss: 0.1344 - accuracy: 0.9533 - val_loss: 0.3021 - val_accuracy: 0.8895\n",
      "Epoch 86/100\n",
      "188/188 [==============================] - 0s 2ms/step - loss: 0.1350 - accuracy: 0.9537 - val_loss: 0.3186 - val_accuracy: 0.8875\n",
      "Epoch 87/100\n",
      "188/188 [==============================] - 1s 3ms/step - loss: 0.1336 - accuracy: 0.9558 - val_loss: 0.3063 - val_accuracy: 0.8880\n",
      "Epoch 88/100\n",
      "188/188 [==============================] - 1s 3ms/step - loss: 0.1320 - accuracy: 0.9547 - val_loss: 0.2846 - val_accuracy: 0.8955\n",
      "Epoch 89/100\n",
      "188/188 [==============================] - ETA: 0s - loss: 0.1320 - accuracy: 0.95 - 0s 3ms/step - loss: 0.1324 - accuracy: 0.9523 - val_loss: 0.2976 - val_accuracy: 0.8900\n",
      "Epoch 90/100\n",
      "188/188 [==============================] - 1s 3ms/step - loss: 0.1308 - accuracy: 0.9558 - val_loss: 0.3114 - val_accuracy: 0.8900\n",
      "Epoch 91/100\n",
      "188/188 [==============================] - 1s 3ms/step - loss: 0.1302 - accuracy: 0.9567 - val_loss: 0.2842 - val_accuracy: 0.8905\n",
      "Epoch 92/100\n",
      "188/188 [==============================] - 1s 3ms/step - loss: 0.1296 - accuracy: 0.9558 - val_loss: 0.3133 - val_accuracy: 0.8880\n",
      "Epoch 93/100\n",
      "188/188 [==============================] - 0s 2ms/step - loss: 0.1282 - accuracy: 0.9565 - val_loss: 0.3188 - val_accuracy: 0.8885\n",
      "Epoch 94/100\n",
      "188/188 [==============================] - 1s 3ms/step - loss: 0.1278 - accuracy: 0.9585 - val_loss: 0.2499 - val_accuracy: 0.9055\n",
      "Epoch 95/100\n",
      "188/188 [==============================] - 1s 3ms/step - loss: 0.1266 - accuracy: 0.9562 - val_loss: 0.2871 - val_accuracy: 0.8965\n",
      "Epoch 96/100\n",
      "188/188 [==============================] - 1s 3ms/step - loss: 0.1258 - accuracy: 0.9570 - val_loss: 0.3239 - val_accuracy: 0.8835\n",
      "Epoch 97/100\n",
      "188/188 [==============================] - 0s 3ms/step - loss: 0.1261 - accuracy: 0.9568 - val_loss: 0.2933 - val_accuracy: 0.8940\n",
      "Epoch 98/100\n",
      "188/188 [==============================] - 0s 3ms/step - loss: 0.1241 - accuracy: 0.9582 - val_loss: 0.2869 - val_accuracy: 0.8945\n",
      "Epoch 99/100\n",
      "188/188 [==============================] - 1s 3ms/step - loss: 0.1246 - accuracy: 0.9592 - val_loss: 0.2926 - val_accuracy: 0.8935\n",
      "Epoch 100/100\n",
      "188/188 [==============================] - 1s 3ms/step - loss: 0.1237 - accuracy: 0.9583 - val_loss: 0.3383 - val_accuracy: 0.8865\n"
     ]
    }
   ],
   "source": [
    "# The validation_data keywork expects a 'tuple' (val_x, val_y) so we make one on the fly\n",
    "history = model.fit(\n",
    "    x=normalize_image_data(images[train_idx]),\n",
    "    y=labels[train_idx],\n",
    "    validation_data=(normalize_image_data(images[val_idx]), labels[val_idx]),\n",
    "    epochs=epochs,\n",
    "    batch_size=batch_size,\n",
    ")"
   ]
  },
  {
   "cell_type": "markdown",
   "metadata": {},
   "source": [
    "### Evaluate the model\n",
    "Let's use the history object to plot how the loss and accuracy changed during training.\n",
    "The history contains a dictionary of the currently applied metrics as keys. In this case we have the\n",
    "keys \"loss\", \"accuracy\", \"val_loss\", and \"val_accuracy\". \"loss\" and \"accuracy\" pertain to the training data, while\n",
    "\"val_loss\" and \"val_accuracy\" are the metrics for the validation data we provided."
   ]
  },
  {
   "cell_type": "code",
   "execution_count": 6,
   "metadata": {},
   "outputs": [
    {
     "data": {
      "text/plain": [
       "<matplotlib.legend.Legend at 0x23343128cd0>"
      ]
     },
     "execution_count": 6,
     "metadata": {},
     "output_type": "execute_result"
    },
    {
     "data": {
      "image/png": "[encoded data removed]",
      "text/plain": [
       "<Figure size 1008x432 with 2 Axes>"
      ]
     },
     "metadata": {
      "needs_background": "light"
     },
     "output_type": "display_data"
    }
   ],
   "source": [
    "# Plot loss and val_loss as one plot, and accuracy and val_accuracy as another, side-by-side.\n",
    "# We'll also save this plot as plot_history() in the helper_functions file, so any time we need to\n",
    "# plot the history object like this we can just call that function and pass the history object as\n",
    "# an argument.\n",
    "fig, ax = plt.subplots(1, 2, figsize=(14, 6))\n",
    "num_epochs = len(history.history['loss'])\n",
    "ax[0].plot(history.history['loss'], label='training')\n",
    "ax[0].plot(history.history['val_loss'], label='validation')\n",
    "ax[0].set_title(\"Model loss\")\n",
    "ax[0].set_xlabel(\"Epoch\")\n",
    "ax[0].set_ylabel(\"Loss\")\n",
    "ax[0].set_xticks(np.arange(num_epochs))\n",
    "ax[0].legend()\n",
    "\n",
    "ax[1].plot(history.history['accuracy'], label='training')\n",
    "ax[1].plot(history.history['val_accuracy'], label='validation')\n",
    "ax[1].set_title(\"Model accburacy\")\n",
    "ax[1].set_xlabel(\"Epoch\")\n",
    "ax[1].set_ylabel(\"Accuracy\")\n",
    "ax[1].set_xticks(np.arange(num_epochs))\n",
    "ax[1].legend()"
   ]
  },
  {
   "cell_type": "markdown",
   "metadata": {},
   "source": [
    "The plotting function will only plot these two metrics regardless of how many other metrics we add to the model,\n",
    "but it's a starting point that can be extended as you might add more metrics."
   ]
  },
  {
   "cell_type": "code",
   "execution_count": 7,
   "metadata": {},
   "outputs": [],
   "source": [
    "# Predict on the validation set\n",
    "pred = model.predict([normalize_image_data(images[val_idx])])\n",
    "# Convert sigmoid values from prediction to integers so it works with the function.\n",
    "result = pred > 0.5"
   ]
  },
  {
   "cell_type": "markdown",
   "metadata": {},
   "source": [
    "## Collection of metrics\n",
    "Check out the notebook on logistic regression for details around the metrics."
   ]
  },
  {
   "cell_type": "code",
   "execution_count": 8,
   "metadata": {},
   "outputs": [],
   "source": [
    "accuracy = accuracy_score(labels[val_idx], result)\n",
    "confmat = confusion_matrix(labels[val_idx], result)\n",
    "f1 = f1_score(labels[val_idx], result)\n",
    "mcc = matthews_corrcoef(labels[val_idx], result)"
   ]
  },
  {
   "cell_type": "code",
   "execution_count": 9,
   "metadata": {},
   "outputs": [
    {
     "name": "stdout",
     "output_type": "stream",
     "text": [
      "Confusion matrix:\n",
      " [[849 163]\n",
      " [ 64 924]]\n",
      "Accuracy: 0.8865\n",
      "F1-score: 0.8906024096385543\n",
      "MCC: 0.7770460537352623\n"
     ]
    }
   ],
   "source": [
    "# Print the metrics in an orderly fashion\n",
    "print(\"Confusion matrix:\\n\", confmat)\n",
    "print(\"Accuracy:\", accuracy)\n",
    "print(\"F1-score:\", f1)\n",
    "print(\"MCC:\", mcc)"
   ]
  },
  {
   "cell_type": "markdown",
   "metadata": {},
   "source": [
    "## ROC-Curve and Area Under Curve"
   ]
  },
  {
   "cell_type": "code",
   "execution_count": 10,
   "metadata": {},
   "outputs": [
    {
     "data": {
      "image/png": "[encoded data removed]",
      "text/plain": [
       "<Figure size 432x288 with 1 Axes>"
      ]
     },
     "metadata": {
      "needs_background": "light"
     },
     "output_type": "display_data"
    }
   ],
   "source": [
    "# Use the function we saved from the notebook on logistic regression\n",
    "plot_roc_auc(labels[val_idx], pred)"
   ]
  },
  {
   "cell_type": "code",
   "execution_count": null,
   "metadata": {},
   "outputs": [],
   "source": []
  }
 ],
 "metadata": {
  "hide_input": false,
  "kernelspec": {
   "display_name": "Python 3",
   "language": "python",
   "name": "python3"
  },
  "language_info": {
   "codemirror_mode": {
    "name": "ipython",
    "version": 3
   },
   "file_extension": ".py",
   "mimetype": "text/x-python",
   "name": "python",
   "nbconvert_exporter": "python",
   "pygments_lexer": "ipython3",
   "version": "3.8.5"
  },
  "toc": {
   "base_numbering": 1,
   "nav_menu": {},
   "number_sections": true,
   "sideBar": true,
   "skip_h1_title": false,
   "title_cell": "Table of Contents",
   "title_sidebar": "Contents",
   "toc_cell": false,
   "toc_position": {},
   "toc_section_display": true,
   "toc_window_display": false
  }
 },
 "nbformat": 4,
 "nbformat_minor": 4
}
