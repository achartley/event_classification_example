{
 "cells": [
  {
   "cell_type": "markdown",
   "metadata": {},
   "source": [
    "# Classifying simulated events using a Convolutional Neural Network\n",
    "We've seen how we can use logistig regression or feed forward neural networks (FFNN) to classify our data,\n",
    "and now you've also been introduced to what a convolutional neural network is.\n",
    "In this notebook, we're going to use a convolutional neural network (CNN) to classify our data,\n",
    "and even combine CNN and FFNN to expand our model."
   ]
  },
  {
   "cell_type": "code",
   "execution_count": 1,
   "metadata": {},
   "outputs": [],
   "source": [
    "# Imports\n",
    "import numpy as np\n",
    "import matplotlib.pyplot as plt\n",
    "import seaborn as sns\n",
    "import tensorflow as tf\n",
    "from sklearn.model_selection import train_test_split\n",
    "from helper_functions import normalize_image_data\n",
    "from sklearn.metrics import (accuracy_score, confusion_matrix, f1_score, \n",
    "                             matthews_corrcoef, roc_curve, roc_auc_score)\n",
    "from helper_functions import normalize_image_data, plot_roc_auc, noise_gen\n",
    "%load_ext autoreload\n",
    "%autoreload 2"
   ]
  },
  {
   "cell_type": "code",
   "execution_count": 2,
   "metadata": {},
   "outputs": [],
   "source": [
    "# Load images and labels.\n",
    "DATA_PATH = \"../data/\"\n",
    "\n",
    "images = np.load(DATA_PATH+\"images_training.npy\")\n",
    "labels = np.load(DATA_PATH+\"labels_training.npy\")\n",
    "\n",
    "rimages = np.load(DATA_PATH+\"images_200k.npy\")\n",
    "rlabels = np.load(DATA_PATH+\"labels_200k.npy\")"
   ]
  },
  {
   "cell_type": "markdown",
   "metadata": {},
   "source": [
    "# Introduction\n",
    "The motivation for uing a CNN to classify this data comes from their huge success in image classification\n",
    "tasks in recent years. Since we can very easily (and even preferably) represent our data as images, it\n",
    "is a natural choice to try a model of this type.\n",
    "This notebook will be a bit more hands-on than the previous ones.\n",
    "\n",
    "You may recall from the lectures that one of the properties of CNNs is that they use 'filters'/'kernels' to\n",
    "extract 'features' from images. But how can we know what type of filters to apply? The answer is - we don't need to! Similar to how a FFNN adjusts its weights in order to increase performance, a CNN adjusts its filters and in that way 'learns' the best filters for a given task.\n",
    "\n",
    "Some very useful documentation to keep at hand while working through this notebook:\n",
    "* [tensorflow.keras.layers](https://www.tensorflow.org/api_docs/python/tf/keras/layers)\n",
    "* [Scikit-Learn model evaluation](https://scikit-learn.org/stable/modules/model_evaluation.html)\n"
   ]
  },
  {
   "cell_type": "markdown",
   "metadata": {},
   "source": [
    "## Data preparation\n",
    "Recall that when we saved our training samples in the import and exploration notebook,\n",
    "we saved the images as an array with the following dimensions (samples, x_pixels, y_pixels).\n",
    "This isn't necessarily a format the convolutional layer will accept, because by default image data\n",
    "has one more dimension - \"channels\". A single image would have the dimensions (x_pixels, y_pixels, channels).\n",
    "For a regular RGB picture this is (x_pixels, y_pixels, 3), since you have one channel for each color.\n",
    "Our data only has one channel, which in a world of colours would be called \"grayscale\".\n",
    "\n",
    "The convolutional layer we will use in our model is called Conv2D ([Doc](https://www.tensorflow.org/api_docs/python/tf/keras/layers/Conv2D)). Take a look at the documentation to determine if you need to modify the image array in order to input it to the layer.\n",
    "\n",
    "Recall that you can use [np.reshape](https://numpy.org/doc/stable/reference/generated/numpy.reshape.html) to modify your array should you need to."
   ]
  },
  {
   "cell_type": "code",
   "execution_count": 3,
   "metadata": {},
   "outputs": [],
   "source": [
    "# Reshape the image array here, if you need to\n",
    "images = np.reshape(images, (images.shape[0], 16, 16, 1))\n",
    "rimages = np.reshape(rimages, (rimages.shape[0], 16, 16, 1))"
   ]
  },
  {
   "cell_type": "markdown",
   "metadata": {},
   "source": [
    "One thing that can be useful to check is if we actually saved a balanced dataset. The data is shuffled\n",
    "when scikit-learn's train_test_split function splits it, so it's not guaranteed. Remember that if you\n",
    "don't have a balanced dataset, you need to account for this when concidering which metrics to use\n",
    "in evaluating your model.\n",
    "\n",
    "Numpy's [np.unique](https://numpy.org/doc/1.18/reference/generated/numpy.unique.html?) works great for this."
   ]
  },
  {
   "cell_type": "code",
   "execution_count": 4,
   "metadata": {},
   "outputs": [
    {
     "name": "stdout",
     "output_type": "stream",
     "text": [
      "(array([0, 1]), array([4051, 3949], dtype=int64))\n",
      "(array([0, 1], dtype=int64), array([100000, 100000], dtype=int64))\n"
     ]
    }
   ],
   "source": [
    "# Count how many there are of each class and print the results\n",
    "unique = np.unique(labels, return_counts=True)\n",
    "runique = np.unique(rlabels, return_counts=True)\n",
    "print(unique)\n",
    "print(runique)\n"
   ]
  },
  {
   "cell_type": "markdown",
   "metadata": {},
   "source": [
    "Lastly, we split the training data into a training set and a validation set, using indices.\n",
    "Working with only 10000 you can also split the image array itself.\n",
    "As in the previous notebooks, [Scikit-Learn's train_test_split](https://scikit-learn.org/stable/modules/generated/sklearn.model_selection.train_test_split.html) will do the job."
   ]
  },
  {
   "cell_type": "code",
   "execution_count": 5,
   "metadata": {},
   "outputs": [],
   "source": [
    "# Split the data into training and validation sets\n",
    "x_train, x_test, y_train, y_test = train_test_split(images, labels)\n"
   ]
  },
  {
   "cell_type": "markdown",
   "metadata": {},
   "source": [
    "# Model\n",
    "Having a common API for machine learning operations between multiple frameworks is great.\n",
    "It means you don't need to re-learn how to build a model every time you want to try out something new!\n",
    "Using the [Sequential](https://www.tensorflow.org/api_docs/python/tf/keras/Sequential) model, you simply\n",
    "add each layer in the order you want, and compile it. Tensorflow takes care of everything."
   ]
  },
  {
   "cell_type": "markdown",
   "metadata": {},
   "source": [
    "## Build and compile\n",
    "We're going to start with just one layer. Take another look at the [documentation](https://www.tensorflow.org/api_docs/python/tf/keras/layers/Conv2D) to see all the configuration options for the Conv2D layer. As a first step we will stick to defining only the necessary arguments to the layer,\n",
    "leaving the rest as default."
   ]
  },
  {
   "cell_type": "code",
   "execution_count": 6,
   "metadata": {
    "scrolled": true
   },
   "outputs": [
    {
     "name": "stdout",
     "output_type": "stream",
     "text": [
      "Model: \"sequential\"\n",
      "_________________________________________________________________\n",
      "Layer (type)                 Output Shape              Param #   \n",
      "=================================================================\n",
      "conv2d (Conv2D)              (None, 14, 14, 32)        320       \n",
      "_________________________________________________________________\n",
      "max_pooling2d (MaxPooling2D) (None, 7, 7, 32)          0         \n",
      "_________________________________________________________________\n",
      "conv2d_1 (Conv2D)            (None, 5, 5, 32)          9248      \n",
      "_________________________________________________________________\n",
      "flatten (Flatten)            (None, 800)               0         \n",
      "_________________________________________________________________\n",
      "dense (Dense)                (None, 1)                 801       \n",
      "=================================================================\n",
      "Total params: 10,369\n",
      "Trainable params: 10,369\n",
      "Non-trainable params: 0\n",
      "_________________________________________________________________\n"
     ]
    }
   ],
   "source": [
    "# Initialize the Sequential model, and add one Conv2D layer to it\n",
    "model = tf.keras.Sequential()\n",
    "model.add(tf.keras.layers.Conv2D(\n",
    "        filters=32,\n",
    "        kernel_size=3,\n",
    "        activation='relu',\n",
    "        input_shape=images.shape[1:] # Shape of a single image\n",
    "    )\n",
    ")\n",
    "model.add(tf.keras.layers.MaxPool2D(2,2))\n",
    "model.add(tf.keras.layers.Conv2D(32, 3, activation='relu'))\n",
    "\n",
    "\n",
    "# Add an output layer to the model\n",
    "# Recall the shape of the input to a dense neural network.\n",
    "# What is the shape of the output from the Conv2D layer?\n",
    "model.add(tf.keras.layers.Flatten())\n",
    "model.add(tf.keras.layers.Dense(1, activation='sigmoid'))\n",
    "\n",
    "\n",
    "# Once the model is defined, we need to compile it. \n",
    "# This is where we specify the loss function, optimizer, and metrics if we want.\n",
    "model.compile(\n",
    "    optimizer='adam',\n",
    "    loss='binary_crossentropy',\n",
    "    metrics=['accuracy']\n",
    ")\n",
    "model.summary()"
   ]
  },
  {
   "cell_type": "markdown",
   "metadata": {},
   "source": [
    "## Training\n",
    "We are ready to train the model. Remember to normalize your inputs if you haven't already done that!\n",
    "You can specify the validation data using the keyword 'validation_data'. Take a look at the [documentation](https://www.tensorflow.org/api_docs/python/tf/keras/Sequential#fit) for the fit() function to see how it\n",
    "expect the validation to be formatted."
   ]
  },
  {
   "cell_type": "code",
   "execution_count": 7,
   "metadata": {},
   "outputs": [],
   "source": [
    "# Training parameters\n",
    "batch_size = 32\n",
    "epochs = 50"
   ]
  },
  {
   "cell_type": "code",
   "execution_count": 8,
   "metadata": {},
   "outputs": [
    {
     "name": "stdout",
     "output_type": "stream",
     "text": [
      "Epoch 1/50\n",
      "188/188 [==============================] - 1s 6ms/step - loss: 0.5681 - accuracy: 0.7000 - val_loss: 0.4896 - val_accuracy: 0.7665\n",
      "Epoch 2/50\n",
      "188/188 [==============================] - 1s 5ms/step - loss: 0.4656 - accuracy: 0.7720 - val_loss: 0.4415 - val_accuracy: 0.7690\n",
      "Epoch 3/50\n",
      "188/188 [==============================] - 1s 5ms/step - loss: 0.4203 - accuracy: 0.8055 - val_loss: 0.3920 - val_accuracy: 0.8420\n",
      "Epoch 4/50\n",
      "188/188 [==============================] - 1s 5ms/step - loss: 0.3782 - accuracy: 0.8445 - val_loss: 0.4329 - val_accuracy: 0.8120\n",
      "Epoch 5/50\n",
      "188/188 [==============================] - 1s 5ms/step - loss: 0.3499 - accuracy: 0.8642 - val_loss: 0.3333 - val_accuracy: 0.8815\n",
      "Epoch 6/50\n",
      "188/188 [==============================] - 1s 5ms/step - loss: 0.3184 - accuracy: 0.8837 - val_loss: 0.2991 - val_accuracy: 0.9040\n",
      "Epoch 7/50\n",
      "188/188 [==============================] - 1s 5ms/step - loss: 0.2981 - accuracy: 0.9005 - val_loss: 0.2966 - val_accuracy: 0.8950\n",
      "Epoch 8/50\n",
      "188/188 [==============================] - 1s 5ms/step - loss: 0.2898 - accuracy: 0.8978 - val_loss: 0.2720 - val_accuracy: 0.9095\n",
      "Epoch 9/50\n",
      "188/188 [==============================] - 1s 5ms/step - loss: 0.2686 - accuracy: 0.9060 - val_loss: 0.2634 - val_accuracy: 0.9140\n",
      "Epoch 10/50\n",
      "188/188 [==============================] - 1s 5ms/step - loss: 0.2552 - accuracy: 0.9130 - val_loss: 0.2671 - val_accuracy: 0.9170\n",
      "Epoch 11/50\n",
      "188/188 [==============================] - 1s 5ms/step - loss: 0.2412 - accuracy: 0.9207 - val_loss: 0.2398 - val_accuracy: 0.9210\n",
      "Epoch 12/50\n",
      "188/188 [==============================] - 1s 5ms/step - loss: 0.2502 - accuracy: 0.9133 - val_loss: 0.2298 - val_accuracy: 0.9380\n",
      "Epoch 13/50\n",
      "188/188 [==============================] - 1s 5ms/step - loss: 0.2352 - accuracy: 0.9200 - val_loss: 0.2386 - val_accuracy: 0.9100\n",
      "Epoch 14/50\n",
      "188/188 [==============================] - 1s 5ms/step - loss: 0.2225 - accuracy: 0.9253 - val_loss: 0.2140 - val_accuracy: 0.9285\n",
      "Epoch 15/50\n",
      "188/188 [==============================] - 1s 5ms/step - loss: 0.2122 - accuracy: 0.9332 - val_loss: 0.2186 - val_accuracy: 0.9300\n",
      "Epoch 16/50\n",
      "188/188 [==============================] - 1s 5ms/step - loss: 0.2085 - accuracy: 0.9305 - val_loss: 0.2331 - val_accuracy: 0.9115\n",
      "Epoch 17/50\n",
      "188/188 [==============================] - 1s 5ms/step - loss: 0.2129 - accuracy: 0.9298 - val_loss: 0.2252 - val_accuracy: 0.9295\n",
      "Epoch 18/50\n",
      "188/188 [==============================] - 1s 5ms/step - loss: 0.2090 - accuracy: 0.9288 - val_loss: 0.2338 - val_accuracy: 0.9105\n",
      "Epoch 19/50\n",
      "188/188 [==============================] - 1s 5ms/step - loss: 0.2047 - accuracy: 0.9323 - val_loss: 0.1989 - val_accuracy: 0.9265\n",
      "Epoch 20/50\n",
      "188/188 [==============================] - 1s 5ms/step - loss: 0.2012 - accuracy: 0.9317 - val_loss: 0.2132 - val_accuracy: 0.9220\n",
      "Epoch 21/50\n",
      "188/188 [==============================] - 1s 5ms/step - loss: 0.1880 - accuracy: 0.9408 - val_loss: 0.1972 - val_accuracy: 0.9480\n",
      "Epoch 22/50\n",
      "188/188 [==============================] - 1s 5ms/step - loss: 0.1889 - accuracy: 0.9375 - val_loss: 0.2302 - val_accuracy: 0.9160\n",
      "Epoch 23/50\n",
      "188/188 [==============================] - 1s 5ms/step - loss: 0.1842 - accuracy: 0.9403 - val_loss: 0.2875 - val_accuracy: 0.8950\n",
      "Epoch 24/50\n",
      "188/188 [==============================] - 1s 5ms/step - loss: 0.1804 - accuracy: 0.9380 - val_loss: 0.1772 - val_accuracy: 0.9560\n",
      "Epoch 25/50\n",
      "188/188 [==============================] - 1s 5ms/step - loss: 0.1773 - accuracy: 0.9400 - val_loss: 0.1741 - val_accuracy: 0.9570\n",
      "Epoch 26/50\n",
      "188/188 [==============================] - 1s 5ms/step - loss: 0.1713 - accuracy: 0.9453 - val_loss: 0.1701 - val_accuracy: 0.9565\n",
      "Epoch 27/50\n",
      "188/188 [==============================] - 1s 5ms/step - loss: 0.1710 - accuracy: 0.9447 - val_loss: 0.1949 - val_accuracy: 0.9300\n",
      "Epoch 28/50\n",
      "188/188 [==============================] - 1s 5ms/step - loss: 0.1732 - accuracy: 0.9443 - val_loss: 0.1776 - val_accuracy: 0.9570\n",
      "Epoch 29/50\n",
      "188/188 [==============================] - 1s 5ms/step - loss: 0.1659 - accuracy: 0.9467 - val_loss: 0.1684 - val_accuracy: 0.9400\n",
      "Epoch 30/50\n",
      "188/188 [==============================] - 1s 5ms/step - loss: 0.1689 - accuracy: 0.9427 - val_loss: 0.1929 - val_accuracy: 0.9295\n",
      "Epoch 31/50\n",
      "188/188 [==============================] - 1s 5ms/step - loss: 0.1678 - accuracy: 0.9442 - val_loss: 0.1616 - val_accuracy: 0.9580\n",
      "Epoch 32/50\n",
      "188/188 [==============================] - 1s 5ms/step - loss: 0.1604 - accuracy: 0.9488 - val_loss: 0.1582 - val_accuracy: 0.9555\n",
      "Epoch 33/50\n",
      "188/188 [==============================] - 1s 5ms/step - loss: 0.1586 - accuracy: 0.9492 - val_loss: 0.2246 - val_accuracy: 0.9220\n",
      "Epoch 34/50\n",
      "188/188 [==============================] - 1s 5ms/step - loss: 0.1667 - accuracy: 0.9465 - val_loss: 0.1621 - val_accuracy: 0.9500\n",
      "Epoch 35/50\n",
      "188/188 [==============================] - 1s 5ms/step - loss: 0.1570 - accuracy: 0.9503 - val_loss: 0.1727 - val_accuracy: 0.9415\n",
      "Epoch 36/50\n",
      "188/188 [==============================] - 1s 5ms/step - loss: 0.1569 - accuracy: 0.9495 - val_loss: 0.1533 - val_accuracy: 0.9495\n",
      "Epoch 37/50\n",
      "188/188 [==============================] - 1s 5ms/step - loss: 0.1547 - accuracy: 0.9477 - val_loss: 0.1623 - val_accuracy: 0.9525\n",
      "Epoch 38/50\n",
      "188/188 [==============================] - 1s 5ms/step - loss: 0.1501 - accuracy: 0.9520 - val_loss: 0.1535 - val_accuracy: 0.9545\n",
      "Epoch 39/50\n",
      "188/188 [==============================] - 1s 5ms/step - loss: 0.1597 - accuracy: 0.9478 - val_loss: 0.1577 - val_accuracy: 0.9465\n",
      "Epoch 40/50\n",
      "188/188 [==============================] - 1s 5ms/step - loss: 0.1508 - accuracy: 0.9513 - val_loss: 0.1536 - val_accuracy: 0.9575\n",
      "Epoch 41/50\n",
      "188/188 [==============================] - 1s 5ms/step - loss: 0.1485 - accuracy: 0.9518 - val_loss: 0.1650 - val_accuracy: 0.9435\n",
      "Epoch 42/50\n",
      "188/188 [==============================] - 1s 5ms/step - loss: 0.1449 - accuracy: 0.9538 - val_loss: 0.1572 - val_accuracy: 0.9465\n",
      "Epoch 43/50\n",
      "188/188 [==============================] - 1s 5ms/step - loss: 0.1443 - accuracy: 0.9538 - val_loss: 0.1691 - val_accuracy: 0.9395\n",
      "Epoch 44/50\n",
      "188/188 [==============================] - 1s 5ms/step - loss: 0.1419 - accuracy: 0.9528 - val_loss: 0.1489 - val_accuracy: 0.9510\n",
      "Epoch 45/50\n",
      "188/188 [==============================] - 1s 5ms/step - loss: 0.1630 - accuracy: 0.9468 - val_loss: 0.1453 - val_accuracy: 0.9630\n",
      "Epoch 46/50\n",
      "188/188 [==============================] - 1s 5ms/step - loss: 0.1493 - accuracy: 0.9543 - val_loss: 0.1689 - val_accuracy: 0.9505\n",
      "Epoch 47/50\n",
      "188/188 [==============================] - 1s 5ms/step - loss: 0.1467 - accuracy: 0.9522 - val_loss: 0.1473 - val_accuracy: 0.9520\n",
      "Epoch 48/50\n",
      "188/188 [==============================] - 1s 5ms/step - loss: 0.1368 - accuracy: 0.9558 - val_loss: 0.1481 - val_accuracy: 0.9630\n",
      "Epoch 49/50\n",
      "188/188 [==============================] - 1s 5ms/step - loss: 0.1359 - accuracy: 0.9577 - val_loss: 0.1416 - val_accuracy: 0.9565\n",
      "Epoch 50/50\n",
      "188/188 [==============================] - 1s 5ms/step - loss: 0.1665 - accuracy: 0.9448 - val_loss: 0.1978 - val_accuracy: 0.9375\n"
     ]
    }
   ],
   "source": [
    "training_output = model.fit(\n",
    "    x=normalize_image_data(x_train),\n",
    "    y=y_train,\n",
    "    validation_data=(normalize_image_data(x_test), y_test),\n",
    "    batch_size=batch_size,\n",
    "    epochs=epochs,\n",
    ")"
   ]
  },
  {
   "cell_type": "code",
   "execution_count": 9,
   "metadata": {
    "scrolled": true
   },
   "outputs": [
    {
     "data": {
      "text/plain": [
       "<matplotlib.legend.Legend at 0x2b7da1967f0>"
      ]
     },
     "execution_count": 9,
     "metadata": {},
     "output_type": "execute_result"
    },
    {
     "data": {
      "image/png": "[encoded data removed]",
      "text/plain": [
       "<Figure size 864x288 with 2 Axes>"
      ]
     },
     "metadata": {
      "needs_background": "light"
     },
     "output_type": "display_data"
    }
   ],
   "source": [
    "# Side by side plots of losses and accuracies\n",
    "history = training_output.history\n",
    "fig, ax = plt.subplots(1, 2, figsize=(12, 4))\n",
    "ax[0].plot(history['loss'], label='training')\n",
    "ax[0].plot(history['val_loss'], label='validation')\n",
    "ax[0].set_title(\"Model losses\")\n",
    "ax[0].set_xlabel(\"Epoch\")\n",
    "ax[0].set_ylabel(\"Loss\")\n",
    "ax[0].legend()\n",
    "\n",
    "ax[1].plot(history['accuracy'], label='training')\n",
    "ax[1].plot(history['val_accuracy'], label='validation')\n",
    "ax[1].set_title(\"Model accuracy\")\n",
    "ax[1].set_xlabel(\"Epoch\")\n",
    "ax[1].set_ylabel(\"Accuracy\")\n",
    "ax[1].legend()"
   ]
  },
  {
   "cell_type": "code",
   "execution_count": 10,
   "metadata": {},
   "outputs": [
    {
     "name": "stdout",
     "output_type": "stream",
     "text": [
      "Confusion matrix:\n",
      " [[96351  3649]\n",
      " [ 7190 92810]]\n",
      "Accuracy: 0.945805\n",
      "F1-score: 0.9448281829796548\n",
      "MCC: 0.8921695068842084\n"
     ]
    },
    {
     "data": {
      "image/png": "[encoded data removed]",
      "text/plain": [
       "<Figure size 432x288 with 1 Axes>"
      ]
     },
     "metadata": {
      "needs_background": "light"
     },
     "output_type": "display_data"
    }
   ],
   "source": [
    "# Predict on the validation set\n",
    "pred = model.predict([normalize_image_data(rimages)])\n",
    "# Convert sigmoid values from prediction to integers so it works with the function.\n",
    "result = pred > 0.5\n",
    "\n",
    "accuracy = accuracy_score(rlabels, result)\n",
    "confmat = confusion_matrix(rlabels, result)\n",
    "f1 = f1_score(rlabels, result)\n",
    "mcc = matthews_corrcoef(rlabels, result)\n",
    "\n",
    "# Print the metrics in an orderly fashion\n",
    "print(\"Confusion matrix:\\n\", confmat)\n",
    "print(\"Accuracy:\", accuracy)\n",
    "print(\"F1-score:\", f1)\n",
    "print(\"MCC:\", mcc)\n",
    "\n",
    "# Use the function we saved from the notebook on logistic regression\n",
    "plot_roc_auc(rlabels, pred)"
   ]
  },
  {
   "cell_type": "markdown",
   "metadata": {},
   "source": [
    "## Expand and improve the model\n",
    "Just like with a feed forward neural network, the architecture is just one of the properties\n",
    "we can tune to improve performance. If you look closer at the model.summary() printout, you can\n",
    "see that the output after the Conv2D layer has changed shape. It's no longer the same size as our\n",
    "original image. Why is this?\n",
    "\n",
    "In the introduction we mentioned that the filters/kernels in a CNN\n",
    "extract features in the images. One thing we could do, then, is to input those features to an FFNN. Just\n",
    "like in the dense_neural_network notebook.\n",
    "\n",
    "In a way we've already done this, except the dense part of our model has only one node, the output node.\n",
    "Try to add another dense layer before the output. Perhaps you have a dense model from the previous notebook\n",
    "you can weave in here?\n",
    "\n",
    "Of course, you can also add another Conv2D layer instead, or increase the number of filters.\n",
    "In between convolutional layers you can add MaxPool2D layers, and eventually you may start looking at\n",
    "regularizations like Dropout if necessary."
   ]
  },
  {
   "cell_type": "code",
   "execution_count": 11,
   "metadata": {},
   "outputs": [
    {
     "name": "stdout",
     "output_type": "stream",
     "text": [
      "Model: \"sequential_1\"\n",
      "_________________________________________________________________\n",
      "Layer (type)                 Output Shape              Param #   \n",
      "=================================================================\n",
      "conv2d_2 (Conv2D)            (None, 14, 14, 32)        320       \n",
      "_________________________________________________________________\n",
      "max_pooling2d_1 (MaxPooling2 (None, 7, 7, 32)          0         \n",
      "_________________________________________________________________\n",
      "conv2d_3 (Conv2D)            (None, 5, 5, 32)          9248      \n",
      "_________________________________________________________________\n",
      "flatten_1 (Flatten)          (None, 800)               0         \n",
      "_________________________________________________________________\n",
      "dense_1 (Dense)              (None, 128)               102528    \n",
      "_________________________________________________________________\n",
      "dense_2 (Dense)              (None, 1)                 129       \n",
      "=================================================================\n",
      "Total params: 112,225\n",
      "Trainable params: 112,225\n",
      "Non-trainable params: 0\n",
      "_________________________________________________________________\n"
     ]
    }
   ],
   "source": [
    "# Initialize the Sequential model, and add one Conv2D layer to it\n",
    "model = tf.keras.Sequential()\n",
    "model.add(tf.keras.layers.Conv2D(\n",
    "        filters=32,\n",
    "        kernel_size=3,\n",
    "        activation='relu',\n",
    "        input_shape=images.shape[1:] # Shape of a single image\n",
    "    )\n",
    ")\n",
    "model.add(tf.keras.layers.MaxPool2D(2,2))\n",
    "model.add(tf.keras.layers.Conv2D(32, 3, activation='relu'))\n",
    "\n",
    "\n",
    "# Add an output layer to the model\n",
    "# Recall the shape of the input to a dense neural network.\n",
    "# What is the shape of the output from the Conv2D layer?\n",
    "model.add(tf.keras.layers.Flatten())\n",
    "model.add(tf.keras.layers.Dense(128, activation='relu'))\n",
    "model.add(tf.keras.layers.Dense(1, activation='sigmoid'))\n",
    "\n",
    "\n",
    "# Once the model is defined, we need to compile it. \n",
    "# This is where we specify the loss function, optimizer, and metrics if we want.\n",
    "model.compile(\n",
    "    optimizer='adam',\n",
    "    loss='binary_crossentropy',\n",
    "    metrics=['accuracy']\n",
    ")\n",
    "model.summary()"
   ]
  },
  {
   "cell_type": "code",
   "execution_count": null,
   "metadata": {},
   "outputs": [],
   "source": []
  }
 ],
 "metadata": {
  "hide_input": false,
  "kernelspec": {
   "display_name": "Python 3",
   "language": "python",
   "name": "python3"
  },
  "language_info": {
   "codemirror_mode": {
    "name": "ipython",
    "version": 3
   },
   "file_extension": ".py",
   "mimetype": "text/x-python",
   "name": "python",
   "nbconvert_exporter": "python",
   "pygments_lexer": "ipython3",
   "version": "3.8.5"
  },
  "latex_envs": {
   "LaTeX_envs_menu_present": true,
   "autoclose": false,
   "autocomplete": true,
   "bibliofile": "biblio.bib",
   "cite_by": "apalike",
   "current_citInitial": 1,
   "eqLabelWithNumbers": true,
   "eqNumInitial": 1,
   "hotkeys": {
    "equation": "Ctrl-E",
    "itemize": "Ctrl-I"
   },
   "labels_anchors": false,
   "latex_user_defs": false,
   "report_style_numbering": false,
   "user_envs_cfg": false
  },
  "toc": {
   "base_numbering": 1,
   "nav_menu": {},
   "number_sections": true,
   "sideBar": true,
   "skip_h1_title": false,
   "title_cell": "Table of Contents",
   "title_sidebar": "Contents",
   "toc_cell": false,
   "toc_position": {},
   "toc_section_display": true,
   "toc_window_display": false
  }
 },
 "nbformat": 4,
 "nbformat_minor": 4
}
